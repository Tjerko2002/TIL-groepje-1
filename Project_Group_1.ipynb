{
 "cells": [
  {
   "cell_type": "markdown",
   "metadata": {},
   "source": [
    "# Project Group - \n",
    "\n",
    "Members: Jarrik Algera, Lorenzo Bouman, Jasper IJsselstein, Joep Neelissen, Tjerk Rijkens\n",
    "\n",
    "\n",
    "Student numbers: test"
   ]
  },
  {
   "cell_type": "markdown",
   "metadata": {},
   "source": [
    "# Research Objective\n",
    "\n",
    "*Requires data modeling and quantitative research in Transport, Infrastructure & Logistics*"
   ]
  },
  {
   "cell_type": "markdown",
   "metadata": {},
   "source": [
    "The objective of this project is to examine the relationship between weather conditions and train disruptions in the Netherlands. Railway disruption records are combined with meteorological data to quantify the extent to which factors such as precipitation, wind, and temperature are associated with delays and service interruptions. The analysis aims to establish whether specific weather conditions systematically affect railway performance and to what degree. The geographical scale is limited to the Netherlands, and after initial data cleaning and exploratory analyis a specific corridor is chosen. The temporal scale is 2024. \n",
    "\n",
    "## Main question\n",
    "\n",
    "#### *To what extent do weather conditions influence train disruptions in the Netherlands?*\n",
    "\n",
    "### Sub-questions\n",
    "\n",
    "*Are disruptions more frequent on days with adverse weather compared to days with mild weather?*\n",
    "\n",
    "\n",
    "*Do disruption durations increase under heavy precipitation, strong wind, or temperature extremes?*\n",
    "\n",
    "\n",
    "*Which weather variable shows the strongest association with disruption frequency?*\n",
    "\n",
    "\n",
    "*Are there seasonal differences in how weather affects train disruptions?*\n",
    "\n",
    "\n",
    "*Are there regional variations in the relationship between weather and disruptions?*"
   ]
  },
  {
   "cell_type": "markdown",
   "metadata": {},
   "source": [
    "# Contribution Statement\n",
    "\n",
    "*Be specific. Some of the tasks can be coding (expect everyone to do this), background research, conceptualisation, visualisation, data analysis, data modelling*"
   ]
  },
  {
   "cell_type": "markdown",
   "metadata": {},
   "source": [
    "**Author 1**: N/A\n",
    "\n",
    "**Author 2**: N/A\n",
    "\n",
    "**Author 3**: N/A"
   ]
  },
  {
   "cell_type": "markdown",
   "metadata": {},
   "source": [
    "# Data Used"
   ]
  },
  {
   "cell_type": "markdown",
   "metadata": {},
   "source": [
    "## Datasets\n",
    "\n",
    "Two primary datasets are available for this study. The first dataset contains records of train disruptions in the Netherlands between 2011 and 2024. Each record provides details on the type of disruption (for example staffing problems or a signal failure), its duration, the time of occurrence, and the affected trajectory (for example Eindhoven - Venlo, Nijmegen - Venlo). This dataset represents the dependent variable, as it directly reflects railway system performance. The dataset is obtained from Rijden de Treinen (https://www.rijdendetreinen.nl/open-data/treinstoringen#downloads). It is important to realize that not every train that is delayed or cancelled is communicated by NS as a disruption; the rule of thumb that NS uses is that a disruption is communicated when multiple trains are delayed or cancelled (i.e. a major impact of the train service). The dataset is provided as a .csv file.\n",
    "\n",
    "The second dataset is derived from the Royal Netherlands Meteorological Institute (KNMI) (https://www.daggegevens.knmi.nl/klimatologie/uurgegevens) and provides hourly weather observations. It includes variables such as precipitation intensity, temperature, and wind speed and direction. Not every weather station measures all these variables. Therefore, it is necessary to make a selection of usable stations. These variables serve as independent factors to explain variation in railway disruptions."
   ]
  },
  {
   "cell_type": "markdown",
   "metadata": {},
   "source": [
    "# Data Pipeline"
   ]
  },
  {
   "cell_type": "markdown",
   "metadata": {},
   "source": [
    "## Intended Data Analysis Pipeline\n",
    "\n",
    "### The planned analysis will follow several stages:\n",
    "\n",
    "The planned analysis will follow several stages:\n",
    "\n",
    "##### 1. Data cleaning and preparation\n",
    "- Align disruption data with corresponding weather observations based on time and location. Thus should be executed on an hourly basis for proper comparison. \n",
    "- Filter data to dataframe of weather data in 2024. \n",
    "- Base data from weather stations on chosen train trajectory. \n",
    "- Filter through weather stations to exclude stations without rain and temperature measurements.\n",
    "- Choose appropriate parameters related to the weather data to use in analysis\n",
    "\n",
    "\n",
    "##### 2. Exploratory analysis\n",
    "- Compute descriptive statistics for disruption frequency and duration.\n",
    "- Visualize weather variables alongside disruptions to detect initial patterns.\n",
    "\n",
    "##### 3. Correlation analysis\n",
    "- Assess associations between weather conditions and disruption frequency or duration.\n",
    "\n",
    "##### 4. Modeling\n",
    "- Apply regression models to estimate the effect of precipitation, wind, and temperature on disruption likelihood and duration.\n",
    "- Investigate seasonal and regional variation in the relationship between weather and disruptions.\n",
    "\n",
    "##### 5. Evaluation and visualization\n",
    "- Present results using time series plots, scatterplots, and heatmaps, alongside statistical measures.\n"
   ]
  },
  {
   "cell_type": "code",
   "execution_count": 5,
   "metadata": {},
   "outputs": [],
   "source": [
    "%run load_weather_data\n"
   ]
  },
  {
   "cell_type": "code",
   "execution_count": 16,
   "metadata": {},
   "outputs": [
    {
     "name": "stdout",
     "output_type": "stream",
     "text": [
      "   STN  LON(east)  LAT(north)  ALT(m)                NAME\n",
      "2  215      4.437      52.141    -1.1         Voorschoten\n",
      "4  235      4.781      52.928     1.2             De Kooy\n",
      "5  240      4.790      52.318    -3.3            Schiphol\n",
      "8  249      4.979      52.644    -2.4            Berkhout\n",
      "9  251      5.346      53.392     0.7  Hoorn Terschelling\n"
     ]
    },
    {
     "data": {
      "application/vnd.plotly.v1+json": {
       "config": {
        "plotlyServerURL": "https://plot.ly"
       },
       "data": [
        {
         "customdata": {
          "bdata": "1wDrAPAA+QD7AAQBCwENAQ4BEQETARcBGAEiATYBPwFUAVgBXAFeAXIBdwF5AXwB",
          "dtype": "i2",
          "shape": "24, 1"
         },
         "hovertemplate": "<b>%{hovertext}</b><br><br>LAT(north)=%{lat}<br>LON(east)=%{lon}<br>STN=%{customdata[0]}<extra></extra>",
         "hovertext": [
          "Voorschoten",
          "De Kooy",
          "Schiphol",
          "Berkhout",
          "Hoorn Terschelling",
          "De Bilt",
          "Stavoren",
          "Lelystad",
          "Leeuwarden",
          "Marknesse",
          "Deelen",
          "Hoogeveen",
          "Eelde",
          "Twenthe",
          "Vlissingen",
          "Westdorpe",
          "Woensdrecht",
          "Rotterdam",
          "Cabauw Mast",
          "Gilze-Rijen",
          "Eindhoven",
          "Volkel",
          "Ell",
          "Maastricht"
         ],
         "lat": {
          "bdata": "NV66SQwSSkAQWDm0yHZKQGIQWDm0KEpA30+Nl25SSkAZBFYOLbJKQM3MzMzMDEpAbef7qfFySkC0yHa+nzpKQOkmMQisnEpARIts5/tZSkC6SQwCKwdKQAAAAAAAYEpAAAAAAACQSkBQjZduEiNKQH9qvHSTuElAsHJoke2cSUC28/3UeLlJQEJg5dAi+0lAXI/C9Sj8SUCcxCCwcshJQH0/NV66uUlAMQisHFrUSUDTTWIQWJlJQIcW2c73c0lA",
          "dtype": "f8"
         },
         "legendgroup": "",
         "lon": {
          "bdata": "c2iR7Xy/EUA5tMh2vh8TQClcj8L1KBNA0SLb+X7qE0D8qfHSTWIVQLgehetRuBRA8KfGSzeJFUAUrkfhehQWQDVeukkMAhdAWmQ730+NF0DLoUW2830XQLKd76fGSxpA16NwPQpXGkCq8dJNYpAbQPhT46WbxAxAF9nO91PjDkCR7Xw/NV4RQH0/NV66yRFATmIQWDm0E0BYObTIdr4TQDVeukkMghVAhxbZzvfTFkBaZDvfTw0XQD81XrpJDBdA",
          "dtype": "f8"
         },
         "marker": {
          "color": "blue"
         },
         "mode": "markers",
         "name": "",
         "showlegend": false,
         "subplot": "map",
         "type": "scattermap"
        }
       ],
       "layout": {
        "legend": {
         "tracegroupgap": 0
        },
        "map": {
         "center": {
          "lat": 52.160000000000004,
          "lon": 5.279041666666667
         },
         "domain": {
          "x": [
           0,
           1
          ],
          "y": [
           0,
           1
          ]
         },
         "zoom": 7
        },
        "mapbox": {
         "center": {
          "lat": 52.160000000000004,
          "lon": 5.279041666666667
         },
         "style": "open-street-map",
         "zoom": 7
        },
        "margin": {
         "b": 0,
         "l": 0,
         "r": 0,
         "t": 40
        },
        "template": {
         "data": {
          "bar": [
           {
            "error_x": {
             "color": "#2a3f5f"
            },
            "error_y": {
             "color": "#2a3f5f"
            },
            "marker": {
             "line": {
              "color": "#E5ECF6",
              "width": 0.5
             },
             "pattern": {
              "fillmode": "overlay",
              "size": 10,
              "solidity": 0.2
             }
            },
            "type": "bar"
           }
          ],
          "barpolar": [
           {
            "marker": {
             "line": {
              "color": "#E5ECF6",
              "width": 0.5
             },
             "pattern": {
              "fillmode": "overlay",
              "size": 10,
              "solidity": 0.2
             }
            },
            "type": "barpolar"
           }
          ],
          "carpet": [
           {
            "aaxis": {
             "endlinecolor": "#2a3f5f",
             "gridcolor": "white",
             "linecolor": "white",
             "minorgridcolor": "white",
             "startlinecolor": "#2a3f5f"
            },
            "baxis": {
             "endlinecolor": "#2a3f5f",
             "gridcolor": "white",
             "linecolor": "white",
             "minorgridcolor": "white",
             "startlinecolor": "#2a3f5f"
            },
            "type": "carpet"
           }
          ],
          "choropleth": [
           {
            "colorbar": {
             "outlinewidth": 0,
             "ticks": ""
            },
            "type": "choropleth"
           }
          ],
          "contour": [
           {
            "colorbar": {
             "outlinewidth": 0,
             "ticks": ""
            },
            "colorscale": [
             [
              0,
              "#0d0887"
             ],
             [
              0.1111111111111111,
              "#46039f"
             ],
             [
              0.2222222222222222,
              "#7201a8"
             ],
             [
              0.3333333333333333,
              "#9c179e"
             ],
             [
              0.4444444444444444,
              "#bd3786"
             ],
             [
              0.5555555555555556,
              "#d8576b"
             ],
             [
              0.6666666666666666,
              "#ed7953"
             ],
             [
              0.7777777777777778,
              "#fb9f3a"
             ],
             [
              0.8888888888888888,
              "#fdca26"
             ],
             [
              1,
              "#f0f921"
             ]
            ],
            "type": "contour"
           }
          ],
          "contourcarpet": [
           {
            "colorbar": {
             "outlinewidth": 0,
             "ticks": ""
            },
            "type": "contourcarpet"
           }
          ],
          "heatmap": [
           {
            "colorbar": {
             "outlinewidth": 0,
             "ticks": ""
            },
            "colorscale": [
             [
              0,
              "#0d0887"
             ],
             [
              0.1111111111111111,
              "#46039f"
             ],
             [
              0.2222222222222222,
              "#7201a8"
             ],
             [
              0.3333333333333333,
              "#9c179e"
             ],
             [
              0.4444444444444444,
              "#bd3786"
             ],
             [
              0.5555555555555556,
              "#d8576b"
             ],
             [
              0.6666666666666666,
              "#ed7953"
             ],
             [
              0.7777777777777778,
              "#fb9f3a"
             ],
             [
              0.8888888888888888,
              "#fdca26"
             ],
             [
              1,
              "#f0f921"
             ]
            ],
            "type": "heatmap"
           }
          ],
          "histogram": [
           {
            "marker": {
             "pattern": {
              "fillmode": "overlay",
              "size": 10,
              "solidity": 0.2
             }
            },
            "type": "histogram"
           }
          ],
          "histogram2d": [
           {
            "colorbar": {
             "outlinewidth": 0,
             "ticks": ""
            },
            "colorscale": [
             [
              0,
              "#0d0887"
             ],
             [
              0.1111111111111111,
              "#46039f"
             ],
             [
              0.2222222222222222,
              "#7201a8"
             ],
             [
              0.3333333333333333,
              "#9c179e"
             ],
             [
              0.4444444444444444,
              "#bd3786"
             ],
             [
              0.5555555555555556,
              "#d8576b"
             ],
             [
              0.6666666666666666,
              "#ed7953"
             ],
             [
              0.7777777777777778,
              "#fb9f3a"
             ],
             [
              0.8888888888888888,
              "#fdca26"
             ],
             [
              1,
              "#f0f921"
             ]
            ],
            "type": "histogram2d"
           }
          ],
          "histogram2dcontour": [
           {
            "colorbar": {
             "outlinewidth": 0,
             "ticks": ""
            },
            "colorscale": [
             [
              0,
              "#0d0887"
             ],
             [
              0.1111111111111111,
              "#46039f"
             ],
             [
              0.2222222222222222,
              "#7201a8"
             ],
             [
              0.3333333333333333,
              "#9c179e"
             ],
             [
              0.4444444444444444,
              "#bd3786"
             ],
             [
              0.5555555555555556,
              "#d8576b"
             ],
             [
              0.6666666666666666,
              "#ed7953"
             ],
             [
              0.7777777777777778,
              "#fb9f3a"
             ],
             [
              0.8888888888888888,
              "#fdca26"
             ],
             [
              1,
              "#f0f921"
             ]
            ],
            "type": "histogram2dcontour"
           }
          ],
          "mesh3d": [
           {
            "colorbar": {
             "outlinewidth": 0,
             "ticks": ""
            },
            "type": "mesh3d"
           }
          ],
          "parcoords": [
           {
            "line": {
             "colorbar": {
              "outlinewidth": 0,
              "ticks": ""
             }
            },
            "type": "parcoords"
           }
          ],
          "pie": [
           {
            "automargin": true,
            "type": "pie"
           }
          ],
          "scatter": [
           {
            "fillpattern": {
             "fillmode": "overlay",
             "size": 10,
             "solidity": 0.2
            },
            "type": "scatter"
           }
          ],
          "scatter3d": [
           {
            "line": {
             "colorbar": {
              "outlinewidth": 0,
              "ticks": ""
             }
            },
            "marker": {
             "colorbar": {
              "outlinewidth": 0,
              "ticks": ""
             }
            },
            "type": "scatter3d"
           }
          ],
          "scattercarpet": [
           {
            "marker": {
             "colorbar": {
              "outlinewidth": 0,
              "ticks": ""
             }
            },
            "type": "scattercarpet"
           }
          ],
          "scattergeo": [
           {
            "marker": {
             "colorbar": {
              "outlinewidth": 0,
              "ticks": ""
             }
            },
            "type": "scattergeo"
           }
          ],
          "scattergl": [
           {
            "marker": {
             "colorbar": {
              "outlinewidth": 0,
              "ticks": ""
             }
            },
            "type": "scattergl"
           }
          ],
          "scattermap": [
           {
            "marker": {
             "colorbar": {
              "outlinewidth": 0,
              "ticks": ""
             }
            },
            "type": "scattermap"
           }
          ],
          "scattermapbox": [
           {
            "marker": {
             "colorbar": {
              "outlinewidth": 0,
              "ticks": ""
             }
            },
            "type": "scattermapbox"
           }
          ],
          "scatterpolar": [
           {
            "marker": {
             "colorbar": {
              "outlinewidth": 0,
              "ticks": ""
             }
            },
            "type": "scatterpolar"
           }
          ],
          "scatterpolargl": [
           {
            "marker": {
             "colorbar": {
              "outlinewidth": 0,
              "ticks": ""
             }
            },
            "type": "scatterpolargl"
           }
          ],
          "scatterternary": [
           {
            "marker": {
             "colorbar": {
              "outlinewidth": 0,
              "ticks": ""
             }
            },
            "type": "scatterternary"
           }
          ],
          "surface": [
           {
            "colorbar": {
             "outlinewidth": 0,
             "ticks": ""
            },
            "colorscale": [
             [
              0,
              "#0d0887"
             ],
             [
              0.1111111111111111,
              "#46039f"
             ],
             [
              0.2222222222222222,
              "#7201a8"
             ],
             [
              0.3333333333333333,
              "#9c179e"
             ],
             [
              0.4444444444444444,
              "#bd3786"
             ],
             [
              0.5555555555555556,
              "#d8576b"
             ],
             [
              0.6666666666666666,
              "#ed7953"
             ],
             [
              0.7777777777777778,
              "#fb9f3a"
             ],
             [
              0.8888888888888888,
              "#fdca26"
             ],
             [
              1,
              "#f0f921"
             ]
            ],
            "type": "surface"
           }
          ],
          "table": [
           {
            "cells": {
             "fill": {
              "color": "#EBF0F8"
             },
             "line": {
              "color": "white"
             }
            },
            "header": {
             "fill": {
              "color": "#C8D4E3"
             },
             "line": {
              "color": "white"
             }
            },
            "type": "table"
           }
          ]
         },
         "layout": {
          "annotationdefaults": {
           "arrowcolor": "#2a3f5f",
           "arrowhead": 0,
           "arrowwidth": 1
          },
          "autotypenumbers": "strict",
          "coloraxis": {
           "colorbar": {
            "outlinewidth": 0,
            "ticks": ""
           }
          },
          "colorscale": {
           "diverging": [
            [
             0,
             "#8e0152"
            ],
            [
             0.1,
             "#c51b7d"
            ],
            [
             0.2,
             "#de77ae"
            ],
            [
             0.3,
             "#f1b6da"
            ],
            [
             0.4,
             "#fde0ef"
            ],
            [
             0.5,
             "#f7f7f7"
            ],
            [
             0.6,
             "#e6f5d0"
            ],
            [
             0.7,
             "#b8e186"
            ],
            [
             0.8,
             "#7fbc41"
            ],
            [
             0.9,
             "#4d9221"
            ],
            [
             1,
             "#276419"
            ]
           ],
           "sequential": [
            [
             0,
             "#0d0887"
            ],
            [
             0.1111111111111111,
             "#46039f"
            ],
            [
             0.2222222222222222,
             "#7201a8"
            ],
            [
             0.3333333333333333,
             "#9c179e"
            ],
            [
             0.4444444444444444,
             "#bd3786"
            ],
            [
             0.5555555555555556,
             "#d8576b"
            ],
            [
             0.6666666666666666,
             "#ed7953"
            ],
            [
             0.7777777777777778,
             "#fb9f3a"
            ],
            [
             0.8888888888888888,
             "#fdca26"
            ],
            [
             1,
             "#f0f921"
            ]
           ],
           "sequentialminus": [
            [
             0,
             "#0d0887"
            ],
            [
             0.1111111111111111,
             "#46039f"
            ],
            [
             0.2222222222222222,
             "#7201a8"
            ],
            [
             0.3333333333333333,
             "#9c179e"
            ],
            [
             0.4444444444444444,
             "#bd3786"
            ],
            [
             0.5555555555555556,
             "#d8576b"
            ],
            [
             0.6666666666666666,
             "#ed7953"
            ],
            [
             0.7777777777777778,
             "#fb9f3a"
            ],
            [
             0.8888888888888888,
             "#fdca26"
            ],
            [
             1,
             "#f0f921"
            ]
           ]
          },
          "colorway": [
           "#636efa",
           "#EF553B",
           "#00cc96",
           "#ab63fa",
           "#FFA15A",
           "#19d3f3",
           "#FF6692",
           "#B6E880",
           "#FF97FF",
           "#FECB52"
          ],
          "font": {
           "color": "#2a3f5f"
          },
          "geo": {
           "bgcolor": "white",
           "lakecolor": "white",
           "landcolor": "#E5ECF6",
           "showlakes": true,
           "showland": true,
           "subunitcolor": "white"
          },
          "hoverlabel": {
           "align": "left"
          },
          "hovermode": "closest",
          "mapbox": {
           "style": "light"
          },
          "paper_bgcolor": "white",
          "plot_bgcolor": "#E5ECF6",
          "polar": {
           "angularaxis": {
            "gridcolor": "white",
            "linecolor": "white",
            "ticks": ""
           },
           "bgcolor": "#E5ECF6",
           "radialaxis": {
            "gridcolor": "white",
            "linecolor": "white",
            "ticks": ""
           }
          },
          "scene": {
           "xaxis": {
            "backgroundcolor": "#E5ECF6",
            "gridcolor": "white",
            "gridwidth": 2,
            "linecolor": "white",
            "showbackground": true,
            "ticks": "",
            "zerolinecolor": "white"
           },
           "yaxis": {
            "backgroundcolor": "#E5ECF6",
            "gridcolor": "white",
            "gridwidth": 2,
            "linecolor": "white",
            "showbackground": true,
            "ticks": "",
            "zerolinecolor": "white"
           },
           "zaxis": {
            "backgroundcolor": "#E5ECF6",
            "gridcolor": "white",
            "gridwidth": 2,
            "linecolor": "white",
            "showbackground": true,
            "ticks": "",
            "zerolinecolor": "white"
           }
          },
          "shapedefaults": {
           "line": {
            "color": "#2a3f5f"
           }
          },
          "ternary": {
           "aaxis": {
            "gridcolor": "white",
            "linecolor": "white",
            "ticks": ""
           },
           "baxis": {
            "gridcolor": "white",
            "linecolor": "white",
            "ticks": ""
           },
           "bgcolor": "#E5ECF6",
           "caxis": {
            "gridcolor": "white",
            "linecolor": "white",
            "ticks": ""
           }
          },
          "title": {
           "x": 0.05
          },
          "xaxis": {
           "automargin": true,
           "gridcolor": "white",
           "linecolor": "white",
           "ticks": "",
           "title": {
            "standoff": 15
           },
           "zerolinecolor": "white",
           "zerolinewidth": 2
          },
          "yaxis": {
           "automargin": true,
           "gridcolor": "white",
           "linecolor": "white",
           "ticks": "",
           "title": {
            "standoff": 15
           },
           "zerolinecolor": "white",
           "zerolinewidth": 2
          }
         }
        },
        "title": {
         "text": "Weather Stations in the Netherlands"
        }
       }
      }
     },
     "metadata": {},
     "output_type": "display_data"
    }
   ],
   "source": [
    "import pandas as pd\n",
    "import plotly.express as px\n",
    "import os\n",
    "\n",
    "df_stations = pd.read_parquet(os.path.join(os.getcwd(),r\"data\\df_stations.parquet\"))\n",
    "print(df_stations.head())\n",
    "\n",
    "fig = px.scatter_map(\n",
    "    df_stations,\n",
    "    lat=\"LAT(north)\",\n",
    "    lon=\"LON(east)\",\n",
    "    hover_name=\"NAME\",        # Column to appear in bold in the hover tooltip\n",
    "    hover_data=[\"STN\"],       # Additional data to appear in the tooltip\n",
    "    color_discrete_sequence=[\"blue\"], # Set marker color\n",
    "    zoom=7,                   # Initial map zoom level\n",
    "    title=\"Weather Stations in the Netherlands\"\n",
    ")\n",
    "\n",
    "fig.update_layout(\n",
    "    mapbox_style=\"open-street-map\",\n",
    "    margin={\"r\":0, \"t\":40, \"l\":0, \"b\":0} # Adjust margins\n",
    ")\n",
    "\n",
    "# 4. Show the figure\n",
    "fig.show()\n"
   ]
  },
  {
   "cell_type": "code",
   "execution_count": null,
   "metadata": {},
   "outputs": [
    {
     "name": "stdout",
     "output_type": "stream",
     "text": [
      "   STN  LON(east)  LAT(north)  ALT(m)                NAME\n",
      "2  215      4.437      52.141    -1.1         Voorschoten\n",
      "4  235      4.781      52.928     1.2             De Kooy\n",
      "5  240      4.790      52.318    -3.3            Schiphol\n",
      "8  249      4.979      52.644    -2.4            Berkhout\n",
      "9  251      5.346      53.392     0.7  Hoorn Terschelling\n",
      "The 3 closest stations to your location are:\n"
     ]
    },
    {
     "ename": "KeyError",
     "evalue": "\"['Temperature_C', 'Wind_Speed_kmh'] not in index\"",
     "output_type": "error",
     "traceback": [
      "\u001b[31m---------------------------------------------------------------------------\u001b[39m",
      "\u001b[31mKeyError\u001b[39m                                  Traceback (most recent call last)",
      "\u001b[36mCell\u001b[39m\u001b[36m \u001b[39m\u001b[32mIn[8]\u001b[39m\u001b[32m, line 78\u001b[39m\n\u001b[32m     75\u001b[39m closest_stations = find_closest_stations(my_lat, my_lon, df_stations)\n\u001b[32m     77\u001b[39m \u001b[38;5;28mprint\u001b[39m(\u001b[33m\"\u001b[39m\u001b[33mThe 3 closest stations to your location are:\u001b[39m\u001b[33m\"\u001b[39m)\n\u001b[32m---> \u001b[39m\u001b[32m78\u001b[39m \u001b[38;5;28mprint\u001b[39m(\u001b[43mclosest_stations\u001b[49m\u001b[43m[\u001b[49m\u001b[43m[\u001b[49m\u001b[33;43m'\u001b[39;49m\u001b[33;43mNAME\u001b[39;49m\u001b[33;43m'\u001b[39;49m\u001b[43m,\u001b[49m\u001b[43m \u001b[49m\u001b[33;43m'\u001b[39;49m\u001b[33;43mSTN\u001b[39;49m\u001b[33;43m'\u001b[39;49m\u001b[43m,\u001b[49m\u001b[43m \u001b[49m\u001b[33;43m'\u001b[39;49m\u001b[33;43mdistance_km\u001b[39;49m\u001b[33;43m'\u001b[39;49m\u001b[43m,\u001b[49m\u001b[43m \u001b[49m\u001b[33;43m'\u001b[39;49m\u001b[33;43mTemperature_C\u001b[39;49m\u001b[33;43m'\u001b[39;49m\u001b[43m,\u001b[49m\u001b[43m \u001b[49m\u001b[33;43m'\u001b[39;49m\u001b[33;43mWind_Speed_kmh\u001b[39;49m\u001b[33;43m'\u001b[39;49m\u001b[43m]\u001b[49m\u001b[43m]\u001b[49m)\n\u001b[32m     79\u001b[39m \u001b[38;5;28mprint\u001b[39m(\u001b[33m\"\u001b[39m\u001b[33m-\u001b[39m\u001b[33m\"\u001b[39m * \u001b[32m50\u001b[39m)\n\u001b[32m     81\u001b[39m \u001b[38;5;66;03m# 3. Calculate and display the interpolated weather data for that location\u001b[39;00m\n",
      "\u001b[36mFile \u001b[39m\u001b[32md:\\Anaconda3\\envs\\TIL6022-25\\Lib\\site-packages\\pandas\\core\\frame.py:4113\u001b[39m, in \u001b[36m__getitem__\u001b[39m\u001b[34m(self, key)\u001b[39m\n\u001b[32m   4111\u001b[39m \u001b[38;5;28;01mif\u001b[39;00m \u001b[38;5;28mself\u001b[39m.columns.nlevels > \u001b[32m1\u001b[39m:\n\u001b[32m   4112\u001b[39m     \u001b[38;5;28;01mreturn\u001b[39;00m \u001b[38;5;28mself\u001b[39m._getitem_multilevel(key)\n\u001b[32m-> \u001b[39m\u001b[32m4113\u001b[39m indexer = \u001b[38;5;28mself\u001b[39m.columns.get_loc(key)\n\u001b[32m   4114\u001b[39m \u001b[38;5;28;01mif\u001b[39;00m is_integer(indexer):\n\u001b[32m   4115\u001b[39m     indexer = [indexer]\n",
      "\u001b[36mFile \u001b[39m\u001b[32md:\\Anaconda3\\envs\\TIL6022-25\\Lib\\site-packages\\pandas\\core\\indexes\\base.py:6212\u001b[39m, in \u001b[36mIndex._get_indexer_strict\u001b[39m\u001b[34m(self, key, axis_name)\u001b[39m\n\u001b[32m   6209\u001b[39m \u001b[38;5;28;01melse\u001b[39;00m:\n\u001b[32m   6210\u001b[39m     keyarr, indexer, new_indexer = \u001b[38;5;28mself\u001b[39m._reindex_non_unique(keyarr)\n\u001b[32m-> \u001b[39m\u001b[32m6212\u001b[39m \u001b[38;5;28;43mself\u001b[39;49m\u001b[43m.\u001b[49m\u001b[43m_raise_if_missing\u001b[49m\u001b[43m(\u001b[49m\u001b[43mkeyarr\u001b[49m\u001b[43m,\u001b[49m\u001b[43m \u001b[49m\u001b[43mindexer\u001b[49m\u001b[43m,\u001b[49m\u001b[43m \u001b[49m\u001b[43maxis_name\u001b[49m\u001b[43m)\u001b[49m\n\u001b[32m   6214\u001b[39m keyarr = \u001b[38;5;28mself\u001b[39m.take(indexer)\n\u001b[32m   6215\u001b[39m \u001b[38;5;28;01mif\u001b[39;00m \u001b[38;5;28misinstance\u001b[39m(key, Index):\n\u001b[32m   6216\u001b[39m     \u001b[38;5;66;03m# GH 42790 - Preserve name from an Index\u001b[39;00m\n",
      "\u001b[36mFile \u001b[39m\u001b[32md:\\Anaconda3\\envs\\TIL6022-25\\Lib\\site-packages\\pandas\\core\\indexes\\base.py:6264\u001b[39m, in \u001b[36mIndex._raise_if_missing\u001b[39m\u001b[34m(self, key, indexer, axis_name)\u001b[39m\n\u001b[32m   6261\u001b[39m     \u001b[38;5;28;01mraise\u001b[39;00m \u001b[38;5;167;01mKeyError\u001b[39;00m(\u001b[33mf\u001b[39m\u001b[33m\"\u001b[39m\u001b[33mNone of [\u001b[39m\u001b[38;5;132;01m{\u001b[39;00mkey\u001b[38;5;132;01m}\u001b[39;00m\u001b[33m] are in the [\u001b[39m\u001b[38;5;132;01m{\u001b[39;00maxis_name\u001b[38;5;132;01m}\u001b[39;00m\u001b[33m]\u001b[39m\u001b[33m\"\u001b[39m)\n\u001b[32m   6263\u001b[39m not_found = \u001b[38;5;28mlist\u001b[39m(ensure_index(key)[missing_mask.nonzero()[\u001b[32m0\u001b[39m]].unique())\n\u001b[32m-> \u001b[39m\u001b[32m6264\u001b[39m \u001b[38;5;28;01mraise\u001b[39;00m \u001b[38;5;167;01mKeyError\u001b[39;00m(\u001b[33mf\u001b[39m\u001b[33m\"\u001b[39m\u001b[38;5;132;01m{\u001b[39;00mnot_found\u001b[38;5;132;01m}\u001b[39;00m\u001b[33m not in index\u001b[39m\u001b[33m\"\u001b[39m)\n",
      "\u001b[31mKeyError\u001b[39m: \"['Temperature_C', 'Wind_Speed_kmh'] not in index\""
     ]
    }
   ],
   "source": [
    "import pandas as pd\n",
    "from geopy.distance import geodesic\n",
    "import numpy as np\n",
    "import os\n",
    "\n",
    "# 1. Sample DataFrame with station locations and weather data\n",
    "#    (Replace with your actual DataFrame)\n",
    "data = {\n",
    "    'STN': [215, 235, 240, 249, 251, 260, 267],\n",
    "    'LON(east)': [4.437, 4.781, 4.790, 4.979, 5.346, 5.180, 5.384],\n",
    "    'LAT(north)': [52.141, 52.928, 52.318, 52.644, 53.392, 52.100, 52.898],\n",
    "    'NAME': ['Voorschoten', 'De Kooy', 'Schiphol', 'Berkhout', 'Hoorn Terschelling', 'De Bilt', 'Stavoren'],\n",
    "    'Temperature_C': [15.2, 14.8, 15.5, 14.9, 14.1, 15.6, 14.5],\n",
    "    'Wind_Speed_kmh': [22, 28, 25, 26, 35, 19, 30]\n",
    "}\n",
    "df_stations = pd.DataFrame(data)\n",
    "\n",
    "\n",
    "\n",
    "def find_closest_stations(input_lat, input_lon, stations_df):\n",
    "    \"\"\"Finds the 3 closest weather stations to a given lat/lon point.\"\"\"\n",
    "    input_location = (input_lat, input_lon)\n",
    "    \n",
    "    distances = stations_df.apply(\n",
    "        lambda row: geodesic(input_location, (row['LAT(north)'], row['LON(east)'])).km,\n",
    "        axis=1\n",
    "    )\n",
    "    \n",
    "    df_with_dist = stations_df.copy()\n",
    "    df_with_dist['distance_km'] = distances\n",
    "    \n",
    "    return df_with_dist.sort_values('distance_km').head(3)\n",
    "\n",
    "\n",
    "def get_weighted_average_weather(closest_stations_df):\n",
    "    \"\"\"\n",
    "    Calculates the weighted average of weather data from the closest stations\n",
    "    using Inverse Distance Weighting (IDW).\n",
    "    \n",
    "    Returns:\n",
    "        A dictionary with the interpolated weather data.\n",
    "    \"\"\"\n",
    "    # Handle the edge case where the location is exactly at a station\n",
    "    if closest_stations_df['distance_km'].iloc[0] < 0.01: # less than 10 meters\n",
    "        # Return the data from the first station directly\n",
    "        first_station = closest_stations_df.iloc[0]\n",
    "        weather_cols = ['Temperature_C', 'Wind_Speed_kmh'] # Define weather columns\n",
    "        return first_station[weather_cols].to_dict()\n",
    "\n",
    "    # Calculate inverse distance weights\n",
    "    weights = 1 / closest_stations_df['distance_km']\n",
    "    sum_of_weights = np.sum(weights)\n",
    "    \n",
    "    weighted_averages = {}\n",
    "    \n",
    "    # Iterate through the weather data columns to calculate the weighted average\n",
    "    weather_cols_to_average = ['Temperature_C', 'Wind_Speed_kmh']\n",
    "    \n",
    "    for col in weather_cols_to_average:\n",
    "        weighted_sum = np.sum(closest_stations_df[col] * weights)\n",
    "        weighted_average = weighted_sum / sum_of_weights\n",
    "        weighted_averages[col] = weighted_average\n",
    "        \n",
    "    return weighted_averages\n",
    "\n",
    "\n",
    "# --- EXAMPLE USAGE ---\n",
    "\n",
    "# 1. Manually enter a location (e.g., Rotterdam Centraal)\n",
    "my_lat = 51.9225\n",
    "my_lon = 4.47917\n",
    "\n",
    "# 2. Find the 3 closest stations\n",
    "closest_stations = find_closest_stations(my_lat, my_lon, df_stations)\n",
    "\n",
    "print(\"The 3 closest stations to your location are:\")\n",
    "print(closest_stations[['NAME', 'STN', 'distance_km', 'Temperature_C', 'Wind_Speed_kmh']])\n",
    "print(\"-\" * 50)\n",
    "\n",
    "# 3. Calculate and display the interpolated weather data for that location\n",
    "interpolated_weather = get_weighted_average_weather(closest_stations)\n",
    "\n",
    "print(\"Interpolated weather data for your location:\")\n",
    "print(f\"Estimated Temperature: {interpolated_weather['Temperature_C']:.2f}°C\")\n",
    "print(f\"Estimated Wind Speed: {interpolated_weather['Wind_Speed_kmh']:.2f} km/h\")"
   ]
  },
  {
   "cell_type": "code",
   "execution_count": null,
   "metadata": {},
   "outputs": [],
   "source": []
  }
 ],
 "metadata": {
  "kernelspec": {
   "display_name": "TIL6022-25",
   "language": "python",
   "name": "python3"
  },
  "language_info": {
   "codemirror_mode": {
    "name": "ipython",
    "version": 3
   },
   "file_extension": ".py",
   "mimetype": "text/x-python",
   "name": "python",
   "nbconvert_exporter": "python",
   "pygments_lexer": "ipython3",
   "version": "3.12.11"
  },
  "orig_nbformat": 4
 },
 "nbformat": 4,
 "nbformat_minor": 2
}
