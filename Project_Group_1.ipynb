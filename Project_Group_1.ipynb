{
 "cells": [
  {
   "cell_type": "markdown",
   "metadata": {},
   "source": [
    "# Project Group - \n",
    "\n",
    "Members: Jarrik Algera, Lorenzo Bouman, Jasper IJsselstein, Joep Neelissen, Tjerk Rijkens\n",
    "\n",
    "\n",
    "Student numbers: test"
   ]
  },
  {
   "cell_type": "markdown",
   "metadata": {},
   "source": [
    "# Research Objective\n",
    "\n",
    "*Requires data modeling and quantitative research in Transport, Infrastructure & Logistics*"
   ]
  },
  {
   "cell_type": "markdown",
   "metadata": {},
   "source": [
    "The objective of this project is to examine the relationship between weather conditions and train disruptions in the Netherlands. Railway disruption records are combined with meteorological data to quantify the extent to which factors such as precipitation, wind, and temperature are associated with delays and service interruptions. The analysis aims to establish whether specific weather conditions systematically affect railway performance and to what degree. The geographical scale is limited to the Netherlands, and after initial data cleaning and exploratory analyis a specific corridor is chosen. The temporal scale is 2024. \n",
    "\n",
    "## Main question\n",
    "\n",
    "#### *To what extent do weather conditions influence train disruptions in the Netherlands?*\n",
    "\n",
    "### Sub-questions\n",
    "\n",
    "*Are disruptions more frequent on days with adverse weather compared to days with mild weather?*\n",
    "\n",
    "\n",
    "*Do disruption durations increase under heavy precipitation, strong wind, or temperature extremes?*\n",
    "\n",
    "\n",
    "*Which weather variable shows the strongest association with disruption frequency?*\n",
    "\n",
    "\n",
    "*Are there seasonal differences in how weather affects train disruptions?*\n",
    "\n",
    "\n",
    "*Are there regional variations in the relationship between weather and disruptions?*"
   ]
  },
  {
   "cell_type": "markdown",
   "metadata": {},
   "source": [
    "# Contribution Statement\n",
    "\n",
    "*Be specific. Some of the tasks can be coding (expect everyone to do this), background research, conceptualisation, visualisation, data analysis, data modelling*"
   ]
  },
  {
   "cell_type": "markdown",
   "metadata": {},
   "source": [
    "**Author 1**: N/A\n",
    "\n",
    "**Author 2**: N/A\n",
    "\n",
    "**Author 3**: N/A"
   ]
  },
  {
   "cell_type": "markdown",
   "metadata": {},
   "source": [
    "# Data Used"
   ]
  },
  {
   "cell_type": "markdown",
   "metadata": {},
   "source": [
    "## Datasets\n",
    "\n",
    "Two primary datasets are available for this study. The first dataset contains records of train disruptions in the Netherlands between 2011 and 2024. Each record provides details on the type of disruption (for example staffing problems or a signal failure), its duration, the time of occurrence, and the affected trajectory (for example Eindhoven - Venlo, Nijmegen - Venlo). This dataset represents the dependent variable, as it directly reflects railway system performance. The dataset is obtained from Rijden de Treinen (https://www.rijdendetreinen.nl/open-data/treinstoringen#downloads). It is important to realize that not every train that is delayed or cancelled is communicated by NS as a disruption; the rule of thumb that NS uses is that a disruption is communicated when multiple trains are delayed or cancelled (i.e. a major impact of the train service). The dataset is provided as a .csv file.\n",
    "\n",
    "The second dataset is derived from the Royal Netherlands Meteorological Institute (KNMI) (https://www.daggegevens.knmi.nl/klimatologie/uurgegevens) and provides hourly weather observations. It includes variables such as precipitation intensity, temperature, and wind speed and direction. Not every weather station measures all these variables. Therefore, it is necessary to make a selection of usable stations. These variables serve as independent factors to explain variation in railway disruptions."
   ]
  },
  {
   "cell_type": "markdown",
   "metadata": {},
   "source": [
    "# Data Pipeline"
   ]
  },
  {
   "cell_type": "markdown",
   "metadata": {},
   "source": [
    "## Intended Data Analysis Pipeline\n",
    "\n",
    "### The planned analysis will follow several stages:\n",
    "\n",
    "The planned analysis will follow several stages:\n",
    "\n",
    "##### 1. Data cleaning and preparation\n",
    "- Align disruption data with corresponding weather observations based on time and location. Thus should be executed on an hourly basis for proper comparison. \n",
    "- Filter data to dataframe of weather data in 2024. \n",
    "- Base data from weather stations on chosen train trajectory. \n",
    "- Filter through weather stations to exclude stations without rain and temperature measurements.\n",
    "- Choose appropriate parameters related to the weather data to use in analysis\n",
    "\n",
    "\n",
    "##### 2. Exploratory analysis\n",
    "- Compute descriptive statistics for disruption frequency and duration.\n",
    "- Visualize weather variables alongside disruptions to detect initial patterns.\n",
    "\n",
    "##### 3. Correlation analysis\n",
    "- Assess associations between weather conditions and disruption frequency or duration.\n",
    "\n",
    "##### 4. Modeling\n",
    "- Apply regression models to estimate the effect of precipitation, wind, and temperature on disruption likelihood and duration.\n",
    "- Investigate seasonal and regional variation in the relationship between weather and disruptions.\n",
    "\n",
    "##### 5. Evaluation and visualization\n",
    "- Present results using time series plots, scatterplots, and heatmaps, alongside statistical measures.\n"
   ]
  },
  {
   "cell_type": "code",
   "execution_count": 2,
   "metadata": {},
   "outputs": [],
   "source": [
    "%run load_weather_data\n"
   ]
  },
  {
   "cell_type": "code",
   "execution_count": 3,
   "metadata": {},
   "outputs": [
    {
     "name": "stdout",
     "output_type": "stream",
     "text": [
      "   STN  LON(east)  LAT(north)  ALT(m)                NAME\n",
      "2  215      4.437      52.141    -1.1         Voorschoten\n",
      "4  235      4.781      52.928     1.2             De Kooy\n",
      "5  240      4.790      52.318    -3.3            Schiphol\n",
      "8  249      4.979      52.644    -2.4            Berkhout\n",
      "9  251      5.346      53.392     0.7  Hoorn Terschelling\n"
     ]
    },
    {
     "data": {
      "application/vnd.plotly.v1+json": {
       "config": {
        "plotlyServerURL": "https://plot.ly"
       },
       "data": [
        {
         "customdata": {
          "bdata": "1wDrAPAA+QD7AAQBCwENAQ4BEQETARcBGAEiATYBPwFUAVgBXAFeAXIBdwF5AXwB",
          "dtype": "i2",
          "shape": "24, 1"
         },
         "hovertemplate": "<b>%{hovertext}</b><br><br>LAT(north)=%{lat}<br>LON(east)=%{lon}<br>STN=%{customdata[0]}<extra></extra>",
         "hovertext": [
          "Voorschoten",
          "De Kooy",
          "Schiphol",
          "Berkhout",
          "Hoorn Terschelling",
          "De Bilt",
          "Stavoren",
          "Lelystad",
          "Leeuwarden",
          "Marknesse",
          "Deelen",
          "Hoogeveen",
          "Eelde",
          "Twenthe",
          "Vlissingen",
          "Westdorpe",
          "Woensdrecht",
          "Rotterdam",
          "Cabauw Mast",
          "Gilze-Rijen",
          "Eindhoven",
          "Volkel",
          "Ell",
          "Maastricht"
         ],
         "lat": {
          "bdata": "NV66SQwSSkAQWDm0yHZKQGIQWDm0KEpA30+Nl25SSkAZBFYOLbJKQM3MzMzMDEpAbef7qfFySkC0yHa+nzpKQOkmMQisnEpARIts5/tZSkC6SQwCKwdKQAAAAAAAYEpAAAAAAACQSkBQjZduEiNKQH9qvHSTuElAsHJoke2cSUC28/3UeLlJQEJg5dAi+0lAXI/C9Sj8SUCcxCCwcshJQH0/NV66uUlAMQisHFrUSUDTTWIQWJlJQIcW2c73c0lA",
          "dtype": "f8"
         },
         "legendgroup": "",
         "lon": {
          "bdata": "c2iR7Xy/EUA5tMh2vh8TQClcj8L1KBNA0SLb+X7qE0D8qfHSTWIVQLgehetRuBRA8KfGSzeJFUAUrkfhehQWQDVeukkMAhdAWmQ730+NF0DLoUW2830XQLKd76fGSxpA16NwPQpXGkCq8dJNYpAbQPhT46WbxAxAF9nO91PjDkCR7Xw/NV4RQH0/NV66yRFATmIQWDm0E0BYObTIdr4TQDVeukkMghVAhxbZzvfTFkBaZDvfTw0XQD81XrpJDBdA",
          "dtype": "f8"
         },
         "marker": {
          "color": "blue"
         },
         "mode": "markers",
         "name": "",
         "showlegend": false,
         "subplot": "map",
         "type": "scattermap"
        }
       ],
       "layout": {
        "legend": {
         "tracegroupgap": 0
        },
        "map": {
         "center": {
          "lat": 52.160000000000004,
          "lon": 5.279041666666667
         },
         "domain": {
          "x": [
           0,
           1
          ],
          "y": [
           0,
           1
          ]
         },
         "zoom": 7
        },
        "mapbox": {
         "center": {
          "lat": 52.160000000000004,
          "lon": 5.279041666666667
         },
         "style": "open-street-map",
         "zoom": 7
        },
        "margin": {
         "b": 0,
         "l": 0,
         "r": 0,
         "t": 40
        },
        "template": {
         "data": {
          "bar": [
           {
            "error_x": {
             "color": "#2a3f5f"
            },
            "error_y": {
             "color": "#2a3f5f"
            },
            "marker": {
             "line": {
              "color": "#E5ECF6",
              "width": 0.5
             },
             "pattern": {
              "fillmode": "overlay",
              "size": 10,
              "solidity": 0.2
             }
            },
            "type": "bar"
           }
          ],
          "barpolar": [
           {
            "marker": {
             "line": {
              "color": "#E5ECF6",
              "width": 0.5
             },
             "pattern": {
              "fillmode": "overlay",
              "size": 10,
              "solidity": 0.2
             }
            },
            "type": "barpolar"
           }
          ],
          "carpet": [
           {
            "aaxis": {
             "endlinecolor": "#2a3f5f",
             "gridcolor": "white",
             "linecolor": "white",
             "minorgridcolor": "white",
             "startlinecolor": "#2a3f5f"
            },
            "baxis": {
             "endlinecolor": "#2a3f5f",
             "gridcolor": "white",
             "linecolor": "white",
             "minorgridcolor": "white",
             "startlinecolor": "#2a3f5f"
            },
            "type": "carpet"
           }
          ],
          "choropleth": [
           {
            "colorbar": {
             "outlinewidth": 0,
             "ticks": ""
            },
            "type": "choropleth"
           }
          ],
          "contour": [
           {
            "colorbar": {
             "outlinewidth": 0,
             "ticks": ""
            },
            "colorscale": [
             [
              0,
              "#0d0887"
             ],
             [
              0.1111111111111111,
              "#46039f"
             ],
             [
              0.2222222222222222,
              "#7201a8"
             ],
             [
              0.3333333333333333,
              "#9c179e"
             ],
             [
              0.4444444444444444,
              "#bd3786"
             ],
             [
              0.5555555555555556,
              "#d8576b"
             ],
             [
              0.6666666666666666,
              "#ed7953"
             ],
             [
              0.7777777777777778,
              "#fb9f3a"
             ],
             [
              0.8888888888888888,
              "#fdca26"
             ],
             [
              1,
              "#f0f921"
             ]
            ],
            "type": "contour"
           }
          ],
          "contourcarpet": [
           {
            "colorbar": {
             "outlinewidth": 0,
             "ticks": ""
            },
            "type": "contourcarpet"
           }
          ],
          "heatmap": [
           {
            "colorbar": {
             "outlinewidth": 0,
             "ticks": ""
            },
            "colorscale": [
             [
              0,
              "#0d0887"
             ],
             [
              0.1111111111111111,
              "#46039f"
             ],
             [
              0.2222222222222222,
              "#7201a8"
             ],
             [
              0.3333333333333333,
              "#9c179e"
             ],
             [
              0.4444444444444444,
              "#bd3786"
             ],
             [
              0.5555555555555556,
              "#d8576b"
             ],
             [
              0.6666666666666666,
              "#ed7953"
             ],
             [
              0.7777777777777778,
              "#fb9f3a"
             ],
             [
              0.8888888888888888,
              "#fdca26"
             ],
             [
              1,
              "#f0f921"
             ]
            ],
            "type": "heatmap"
           }
          ],
          "histogram": [
           {
            "marker": {
             "pattern": {
              "fillmode": "overlay",
              "size": 10,
              "solidity": 0.2
             }
            },
            "type": "histogram"
           }
          ],
          "histogram2d": [
           {
            "colorbar": {
             "outlinewidth": 0,
             "ticks": ""
            },
            "colorscale": [
             [
              0,
              "#0d0887"
             ],
             [
              0.1111111111111111,
              "#46039f"
             ],
             [
              0.2222222222222222,
              "#7201a8"
             ],
             [
              0.3333333333333333,
              "#9c179e"
             ],
             [
              0.4444444444444444,
              "#bd3786"
             ],
             [
              0.5555555555555556,
              "#d8576b"
             ],
             [
              0.6666666666666666,
              "#ed7953"
             ],
             [
              0.7777777777777778,
              "#fb9f3a"
             ],
             [
              0.8888888888888888,
              "#fdca26"
             ],
             [
              1,
              "#f0f921"
             ]
            ],
            "type": "histogram2d"
           }
          ],
          "histogram2dcontour": [
           {
            "colorbar": {
             "outlinewidth": 0,
             "ticks": ""
            },
            "colorscale": [
             [
              0,
              "#0d0887"
             ],
             [
              0.1111111111111111,
              "#46039f"
             ],
             [
              0.2222222222222222,
              "#7201a8"
             ],
             [
              0.3333333333333333,
              "#9c179e"
             ],
             [
              0.4444444444444444,
              "#bd3786"
             ],
             [
              0.5555555555555556,
              "#d8576b"
             ],
             [
              0.6666666666666666,
              "#ed7953"
             ],
             [
              0.7777777777777778,
              "#fb9f3a"
             ],
             [
              0.8888888888888888,
              "#fdca26"
             ],
             [
              1,
              "#f0f921"
             ]
            ],
            "type": "histogram2dcontour"
           }
          ],
          "mesh3d": [
           {
            "colorbar": {
             "outlinewidth": 0,
             "ticks": ""
            },
            "type": "mesh3d"
           }
          ],
          "parcoords": [
           {
            "line": {
             "colorbar": {
              "outlinewidth": 0,
              "ticks": ""
             }
            },
            "type": "parcoords"
           }
          ],
          "pie": [
           {
            "automargin": true,
            "type": "pie"
           }
          ],
          "scatter": [
           {
            "fillpattern": {
             "fillmode": "overlay",
             "size": 10,
             "solidity": 0.2
            },
            "type": "scatter"
           }
          ],
          "scatter3d": [
           {
            "line": {
             "colorbar": {
              "outlinewidth": 0,
              "ticks": ""
             }
            },
            "marker": {
             "colorbar": {
              "outlinewidth": 0,
              "ticks": ""
             }
            },
            "type": "scatter3d"
           }
          ],
          "scattercarpet": [
           {
            "marker": {
             "colorbar": {
              "outlinewidth": 0,
              "ticks": ""
             }
            },
            "type": "scattercarpet"
           }
          ],
          "scattergeo": [
           {
            "marker": {
             "colorbar": {
              "outlinewidth": 0,
              "ticks": ""
             }
            },
            "type": "scattergeo"
           }
          ],
          "scattergl": [
           {
            "marker": {
             "colorbar": {
              "outlinewidth": 0,
              "ticks": ""
             }
            },
            "type": "scattergl"
           }
          ],
          "scattermap": [
           {
            "marker": {
             "colorbar": {
              "outlinewidth": 0,
              "ticks": ""
             }
            },
            "type": "scattermap"
           }
          ],
          "scattermapbox": [
           {
            "marker": {
             "colorbar": {
              "outlinewidth": 0,
              "ticks": ""
             }
            },
            "type": "scattermapbox"
           }
          ],
          "scatterpolar": [
           {
            "marker": {
             "colorbar": {
              "outlinewidth": 0,
              "ticks": ""
             }
            },
            "type": "scatterpolar"
           }
          ],
          "scatterpolargl": [
           {
            "marker": {
             "colorbar": {
              "outlinewidth": 0,
              "ticks": ""
             }
            },
            "type": "scatterpolargl"
           }
          ],
          "scatterternary": [
           {
            "marker": {
             "colorbar": {
              "outlinewidth": 0,
              "ticks": ""
             }
            },
            "type": "scatterternary"
           }
          ],
          "surface": [
           {
            "colorbar": {
             "outlinewidth": 0,
             "ticks": ""
            },
            "colorscale": [
             [
              0,
              "#0d0887"
             ],
             [
              0.1111111111111111,
              "#46039f"
             ],
             [
              0.2222222222222222,
              "#7201a8"
             ],
             [
              0.3333333333333333,
              "#9c179e"
             ],
             [
              0.4444444444444444,
              "#bd3786"
             ],
             [
              0.5555555555555556,
              "#d8576b"
             ],
             [
              0.6666666666666666,
              "#ed7953"
             ],
             [
              0.7777777777777778,
              "#fb9f3a"
             ],
             [
              0.8888888888888888,
              "#fdca26"
             ],
             [
              1,
              "#f0f921"
             ]
            ],
            "type": "surface"
           }
          ],
          "table": [
           {
            "cells": {
             "fill": {
              "color": "#EBF0F8"
             },
             "line": {
              "color": "white"
             }
            },
            "header": {
             "fill": {
              "color": "#C8D4E3"
             },
             "line": {
              "color": "white"
             }
            },
            "type": "table"
           }
          ]
         },
         "layout": {
          "annotationdefaults": {
           "arrowcolor": "#2a3f5f",
           "arrowhead": 0,
           "arrowwidth": 1
          },
          "autotypenumbers": "strict",
          "coloraxis": {
           "colorbar": {
            "outlinewidth": 0,
            "ticks": ""
           }
          },
          "colorscale": {
           "diverging": [
            [
             0,
             "#8e0152"
            ],
            [
             0.1,
             "#c51b7d"
            ],
            [
             0.2,
             "#de77ae"
            ],
            [
             0.3,
             "#f1b6da"
            ],
            [
             0.4,
             "#fde0ef"
            ],
            [
             0.5,
             "#f7f7f7"
            ],
            [
             0.6,
             "#e6f5d0"
            ],
            [
             0.7,
             "#b8e186"
            ],
            [
             0.8,
             "#7fbc41"
            ],
            [
             0.9,
             "#4d9221"
            ],
            [
             1,
             "#276419"
            ]
           ],
           "sequential": [
            [
             0,
             "#0d0887"
            ],
            [
             0.1111111111111111,
             "#46039f"
            ],
            [
             0.2222222222222222,
             "#7201a8"
            ],
            [
             0.3333333333333333,
             "#9c179e"
            ],
            [
             0.4444444444444444,
             "#bd3786"
            ],
            [
             0.5555555555555556,
             "#d8576b"
            ],
            [
             0.6666666666666666,
             "#ed7953"
            ],
            [
             0.7777777777777778,
             "#fb9f3a"
            ],
            [
             0.8888888888888888,
             "#fdca26"
            ],
            [
             1,
             "#f0f921"
            ]
           ],
           "sequentialminus": [
            [
             0,
             "#0d0887"
            ],
            [
             0.1111111111111111,
             "#46039f"
            ],
            [
             0.2222222222222222,
             "#7201a8"
            ],
            [
             0.3333333333333333,
             "#9c179e"
            ],
            [
             0.4444444444444444,
             "#bd3786"
            ],
            [
             0.5555555555555556,
             "#d8576b"
            ],
            [
             0.6666666666666666,
             "#ed7953"
            ],
            [
             0.7777777777777778,
             "#fb9f3a"
            ],
            [
             0.8888888888888888,
             "#fdca26"
            ],
            [
             1,
             "#f0f921"
            ]
           ]
          },
          "colorway": [
           "#636efa",
           "#EF553B",
           "#00cc96",
           "#ab63fa",
           "#FFA15A",
           "#19d3f3",
           "#FF6692",
           "#B6E880",
           "#FF97FF",
           "#FECB52"
          ],
          "font": {
           "color": "#2a3f5f"
          },
          "geo": {
           "bgcolor": "white",
           "lakecolor": "white",
           "landcolor": "#E5ECF6",
           "showlakes": true,
           "showland": true,
           "subunitcolor": "white"
          },
          "hoverlabel": {
           "align": "left"
          },
          "hovermode": "closest",
          "mapbox": {
           "style": "light"
          },
          "paper_bgcolor": "white",
          "plot_bgcolor": "#E5ECF6",
          "polar": {
           "angularaxis": {
            "gridcolor": "white",
            "linecolor": "white",
            "ticks": ""
           },
           "bgcolor": "#E5ECF6",
           "radialaxis": {
            "gridcolor": "white",
            "linecolor": "white",
            "ticks": ""
           }
          },
          "scene": {
           "xaxis": {
            "backgroundcolor": "#E5ECF6",
            "gridcolor": "white",
            "gridwidth": 2,
            "linecolor": "white",
            "showbackground": true,
            "ticks": "",
            "zerolinecolor": "white"
           },
           "yaxis": {
            "backgroundcolor": "#E5ECF6",
            "gridcolor": "white",
            "gridwidth": 2,
            "linecolor": "white",
            "showbackground": true,
            "ticks": "",
            "zerolinecolor": "white"
           },
           "zaxis": {
            "backgroundcolor": "#E5ECF6",
            "gridcolor": "white",
            "gridwidth": 2,
            "linecolor": "white",
            "showbackground": true,
            "ticks": "",
            "zerolinecolor": "white"
           }
          },
          "shapedefaults": {
           "line": {
            "color": "#2a3f5f"
           }
          },
          "ternary": {
           "aaxis": {
            "gridcolor": "white",
            "linecolor": "white",
            "ticks": ""
           },
           "baxis": {
            "gridcolor": "white",
            "linecolor": "white",
            "ticks": ""
           },
           "bgcolor": "#E5ECF6",
           "caxis": {
            "gridcolor": "white",
            "linecolor": "white",
            "ticks": ""
           }
          },
          "title": {
           "x": 0.05
          },
          "xaxis": {
           "automargin": true,
           "gridcolor": "white",
           "linecolor": "white",
           "ticks": "",
           "title": {
            "standoff": 15
           },
           "zerolinecolor": "white",
           "zerolinewidth": 2
          },
          "yaxis": {
           "automargin": true,
           "gridcolor": "white",
           "linecolor": "white",
           "ticks": "",
           "title": {
            "standoff": 15
           },
           "zerolinecolor": "white",
           "zerolinewidth": 2
          }
         }
        },
        "title": {
         "text": "Weather Stations in the Netherlands"
        }
       }
      }
     },
     "metadata": {},
     "output_type": "display_data"
    }
   ],
   "source": [
    "import pandas as pd\n",
    "import plotly.express as px\n",
    "import os\n",
    "\n",
    "df_stations = pd.read_parquet(os.path.join(os.getcwd(),r\"data\\df_stations.parquet\"))\n",
    "print(df_stations.head())\n",
    "\n",
    "fig = px.scatter_map(\n",
    "    df_stations,\n",
    "    lat=\"LAT(north)\",\n",
    "    lon=\"LON(east)\",\n",
    "    hover_name=\"NAME\",        # Column to appear in bold in the hover tooltip\n",
    "    hover_data=[\"STN\"],       # Additional data to appear in the tooltip\n",
    "    color_discrete_sequence=[\"blue\"], # Set marker color\n",
    "    zoom=7,                   # Initial map zoom level\n",
    "    title=\"Weather Stations in the Netherlands\"\n",
    ")\n",
    "\n",
    "fig.update_layout(\n",
    "    mapbox_style=\"open-street-map\",\n",
    "    margin={\"r\":0, \"t\":40, \"l\":0, \"b\":0} # Adjust margins\n",
    ")\n",
    "\n",
    "# 4. Show the figure\n",
    "fig.show()\n"
   ]
  },
  {
   "cell_type": "markdown",
   "metadata": {},
   "source": [
    "Schiphol, De Bilt, Cabauw Mast, Rotterdam, Voorschoten\n"
   ]
  },
  {
   "cell_type": "code",
   "execution_count": 4,
   "metadata": {},
   "outputs": [
    {
     "name": "stdout",
     "output_type": "stream",
     "text": [
      "The 3 closest stations to your location are:\n",
      "          NAME  STN  distance_km  Temperature_C  Wind_Speed_kmh\n",
      "0  Voorschoten  215    24.483698           15.2              22\n",
      "2     Schiphol  240    48.886385           15.5              25\n",
      "5      De Bilt  260    52.014654           15.6              19\n",
      "--------------------------------------------------\n",
      "Interpolated weather data for your location:\n",
      "Estimated Temperature: 15.37°C\n",
      "Estimated Wind Speed: 22.05 km/h\n"
     ]
    }
   ],
   "source": [
    "import pandas as pd\n",
    "from geopy.distance import geodesic\n",
    "import numpy as np\n",
    "import os\n",
    "\n",
    "# 1. Sample DataFrame with station locations and weather data\n",
    "#    (Replace with your actual DataFrame)\n",
    "data = {\n",
    "    'STN': [215, 235, 240, 249, 251, 260, 267],\n",
    "    'LON(east)': [4.437, 4.781, 4.790, 4.979, 5.346, 5.180, 5.384],\n",
    "    'LAT(north)': [52.141, 52.928, 52.318, 52.644, 53.392, 52.100, 52.898],\n",
    "    'NAME': ['Voorschoten', 'De Kooy', 'Schiphol', 'Berkhout', 'Hoorn Terschelling', 'De Bilt', 'Stavoren'],\n",
    "    'Temperature_C': [15.2, 14.8, 15.5, 14.9, 14.1, 15.6, 14.5],\n",
    "    'Wind_Speed_kmh': [22, 28, 25, 26, 35, 19, 30]\n",
    "}\n",
    "df_stations = pd.DataFrame(data)\n",
    "\n",
    "\n",
    "\n",
    "\n",
    "def find_closest_stations(input_lat, input_lon, stations_df):\n",
    "    \"\"\"Finds the 3 closest weather stations to a given lat/lon point.\"\"\"\n",
    "    input_location = (input_lat, input_lon)\n",
    "    \n",
    "    distances = stations_df.apply(\n",
    "        lambda row: geodesic(input_location, (row['LAT(north)'], row['LON(east)'])).km,\n",
    "        axis=1\n",
    "    )\n",
    "    \n",
    "    df_with_dist = stations_df.copy()\n",
    "    df_with_dist['distance_km'] = distances\n",
    "    \n",
    "    return df_with_dist.sort_values('distance_km').head(3)\n",
    "\n",
    "\n",
    "def get_weighted_average_weather(closest_stations_df):\n",
    "    \"\"\"\n",
    "    Calculates the weighted average of weather data from the closest stations\n",
    "    using Inverse Distance Weighting (IDW).\n",
    "    \n",
    "    Returns:\n",
    "        A dictionary with the interpolated weather data.\n",
    "    \"\"\"\n",
    "    # Handle the edge case where the location is exactly at a station\n",
    "    if closest_stations_df['distance_km'].iloc[0] < 0.01: # less than 10 meters\n",
    "        # Return the data from the first station directly\n",
    "        first_station = closest_stations_df.iloc[0]\n",
    "        weather_cols = ['Temperature_C', 'Wind_Speed_kmh'] # Define weather columns\n",
    "        return first_station[weather_cols].to_dict()\n",
    "\n",
    "    # Calculate inverse distance weights\n",
    "    weights = 1 / closest_stations_df['distance_km']\n",
    "    sum_of_weights = np.sum(weights)\n",
    "    \n",
    "    weighted_averages = {}\n",
    "    \n",
    "    # Iterate through the weather data columns to calculate the weighted average\n",
    "    weather_cols_to_average = ['Temperature_C', 'Wind_Speed_kmh']\n",
    "    \n",
    "    for col in weather_cols_to_average:\n",
    "        weighted_sum = np.sum(closest_stations_df[col] * weights)\n",
    "        weighted_average = weighted_sum / sum_of_weights\n",
    "        weighted_averages[col] = weighted_average\n",
    "        \n",
    "    return weighted_averages\n",
    "\n",
    "\n",
    "# --- EXAMPLE USAGE ---\n",
    "\n",
    "# 1. Manually enter a location (e.g., Rotterdam Centraal)\n",
    "my_lat = 51.9225\n",
    "my_lon = 4.47917\n",
    "\n",
    "# 2. Find the 3 closest stations\n",
    "closest_stations = find_closest_stations(my_lat, my_lon, df_stations)\n",
    "\n",
    "print(\"The 3 closest stations to your location are:\")\n",
    "print(closest_stations[['NAME', 'STN', 'distance_km', 'Temperature_C', 'Wind_Speed_kmh']])\n",
    "print(\"-\" * 50)\n",
    "\n",
    "# 3. Calculate and display the interpolated weather data for that location\n",
    "interpolated_weather = get_weighted_average_weather(closest_stations)\n",
    "\n",
    "print(\"Interpolated weather data for your location:\")\n",
    "print(f\"Estimated Temperature: {interpolated_weather['Temperature_C']:.2f}°C\")\n",
    "print(f\"Estimated Wind Speed: {interpolated_weather['Wind_Speed_kmh']:.2f} km/h\")"
   ]
  },
  {
   "cell_type": "code",
   "execution_count": 5,
   "metadata": {},
   "outputs": [
    {
     "name": "stderr",
     "output_type": "stream",
     "text": [
      "C:\\Users\\tjrij\\Documents\\TIL-groepje-1\\plot_train_stations.py:63: DeprecationWarning:\n",
      "\n",
      "*scattermapbox* is deprecated! Use *scattermap* instead. Learn more at: https://plotly.com/python/mapbox-to-maplibre/\n",
      "\n",
      "C:\\Users\\tjrij\\Documents\\TIL-groepje-1\\plot_train_stations.py:77: DeprecationWarning:\n",
      "\n",
      "*scattermapbox* is deprecated! Use *scattermap* instead. Learn more at: https://plotly.com/python/mapbox-to-maplibre/\n",
      "\n"
     ]
    },
    {
     "data": {
      "application/vnd.plotly.v1+json": {
       "config": {
        "plotlyServerURL": "https://plot.ly"
       },
       "data": [
        {
         "hoverinfo": "text",
         "lat": {
          "bdata": "NV66SQwSSkAQWDm0yHZKQGIQWDm0KEpA30+Nl25SSkAZBFYOLbJKQM3MzMzMDEpAbef7qfFySkC0yHa+nzpKQOkmMQisnEpARIts5/tZSkC6SQwCKwdKQAAAAAAAYEpAAAAAAACQSkBQjZduEiNKQH9qvHSTuElAsHJoke2cSUC28/3UeLlJQEJg5dAi+0lAXI/C9Sj8SUCcxCCwcshJQH0/NV66uUlAMQisHFrUSUDTTWIQWJlJQIcW2c73c0lA",
          "dtype": "f8"
         },
         "lon": {
          "bdata": "c2iR7Xy/EUA5tMh2vh8TQClcj8L1KBNA0SLb+X7qE0D8qfHSTWIVQLgehetRuBRA8KfGSzeJFUAUrkfhehQWQDVeukkMAhdAWmQ730+NF0DLoUW2830XQLKd76fGSxpA16NwPQpXGkCq8dJNYpAbQPhT46WbxAxAF9nO91PjDkCR7Xw/NV4RQH0/NV66yRFATmIQWDm0E0BYObTIdr4TQDVeukkMghVAhxbZzvfTFkBaZDvfTw0XQD81XrpJDBdA",
          "dtype": "f8"
         },
         "marker": {
          "color": "blue",
          "size": 10
         },
         "mode": "markers",
         "name": "Weather Stations",
         "text": [
          "Voorschoten",
          "De Kooy",
          "Schiphol",
          "Berkhout",
          "Hoorn Terschelling",
          "De Bilt",
          "Stavoren",
          "Lelystad",
          "Leeuwarden",
          "Marknesse",
          "Deelen",
          "Hoogeveen",
          "Eelde",
          "Twenthe",
          "Vlissingen",
          "Westdorpe",
          "Woensdrecht",
          "Rotterdam",
          "Cabauw Mast",
          "Gilze-Rijen",
          "Eindhoven",
          "Volkel",
          "Ell",
          "Maastricht"
         ],
         "type": "scattermapbox"
        },
        {
         "hoverinfo": "text",
         "lat": {
          "bdata": "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",
          "dtype": "f8"
         },
         "lon": {
          "bdata": "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",
          "dtype": "f8"
         },
         "marker": {
          "color": "red",
          "size": 5
         },
         "mode": "markers",
         "name": "Train Stations",
         "text": [
          "'s-Hertogenbosch",
          "'s-Hertogenbosch Oost",
          "'t Harde",
          "Aachen Hbf",
          "Aachen West",
          "Aalten",
          "Abcoude",
          "Ahaus",
          "Aime-la-Plagne",
          "Airport Charles de Gaulle",
          "Aix-en-Provence TGV",
          "Akkrum",
          "Albertville",
          "Alkmaar",
          "Alkmaar Noord",
          "Almelo",
          "Almelo de Riet",
          "Almere Buiten",
          "Almere Centrum",
          "Almere Muziekwijk",
          "Almere Oostvaarders",
          "Almere Parkwijk",
          "Almere Poort",
          "Alphen a/d Rijn",
          "Altenberge",
          "Amersfoort Centraal",
          "Amersfoort Schothorst",
          "Amersfoort Vathorst",
          "Amsterdam Amstel",
          "Amsterdam Bijlmer ArenA",
          "Amsterdam Centraal",
          "Amsterdam Holendrecht",
          "Amsterdam Lelylaan",
          "Amsterdam Muiderpoort",
          "Amsterdam RAI",
          "Amsterdam Science Park",
          "Amsterdam Sloterdijk",
          "Amsterdam Zuid",
          "Amstetten NÖ",
          "Anna Paulowna",
          "Antwerpen-Berchem",
          "Antwerpen-Centraal",
          "Antwerpen-Luchtbal",
          "Antwerpen-Noorderdokken",
          "Antwerpen-Zuid",
          "Apeldoorn",
          "Apeldoorn De Maten",
          "Apeldoorn Osseveld",
          "Appingedam",
          "Arkel",
          "Arnemuiden",
          "Arnhem Centraal",
          "Arnhem Presikhaaf",
          "Arnhem Velperpoort",
          "Arnhem Zuid",
          "Assen",
          "Augsburg Hbf",
          "Avignon TGV",
          "Baarn",
          "Bad Bentheim",
          "Bad Nieuweschans",
          "Bad Oeynhausen",
          "Baden (CH)",
          "Baflo",
          "Barendrecht",
          "Barneveld Centrum",
          "Barneveld Noord",
          "Barneveld Zuid",
          "Basel Bad Bf",
          "Basel SBB",
          "Bedum",
          "Beek-Elsloo",
          "Beesd",
          "Beilen",
          "Belsele",
          "Bergen op Zoom",
          "Berlin Gesundbrunnen",
          "Berlin Hbf",
          "Berlin Ostbahnhof",
          "Berlin-Spandau",
          "Best",
          "Beveren",
          "Beverwijk",
          "Bielefeld Hbf",
          "Bilthoven",
          "Bilzen",
          "Blerick",
          "Bloemendaal",
          "Bodegraven",
          "Boisheim",
          "Bologna Centrale",
          "Bönen",
          "Bonn Hbf",
          "Bonn-Beuel",
          "Boom",
          "Bork (Westf)",
          "Borne",
          "Boskoop",
          "Boskoop Snijdelwijk",
          "Bourg-St-Maurice",
          "Boven-Hardinxveld",
          "Bovenkarspel Flora",
          "Bovenkarspel-Grootebroek",
          "Boxmeer",
          "Boxtel",
          "Breda",
          "Breda-Prinsenbeek",
          "Bressoux",
          "Breukelen",
          "Breyell",
          "Brummen",
          "Brussel-Centraal",
          "Brussel-Noord",
          "Brussel-Zuid Midi",
          "Brussels Airport-Zaventem",
          "Buitenpost",
          "Bunde",
          "Bünde (Westf)",
          "Bunnik",
          "Bussum Zuid",
          "Capelle Schollevaar",
          "Castricum",
          "Chambéry",
          "Chevremont",
          "Coesfeld (Westf)",
          "Coevorden",
          "Como S. Giovanni",
          "Cuijk",
          "Culemborg",
          "Daarlerveen",
          "Dalen",
          "Dalfsen",
          "De Vink",
          "De Westereen",
          "Deinum",
          "Delden",
          "Delft",
          "Delft Campus",
          "Delfzijl",
          "Delfzijl West",
          "Den Dolder",
          "Den Haag Centraal",
          "Den Haag HS",
          "Den Haag Laan v NOI",
          "Den Haag Mariahoeve",
          "Den Haag Moerwijk",
          "Den Haag Ypenburg",
          "Den Helder",
          "Den Helder Zuid",
          "Deurne",
          "Deventer",
          "Deventer Colmschate",
          "Didam",
          "Diemen",
          "Diemen Zuid",
          "Diepenbeek",
          "Dieren",
          "Doetinchem",
          "Doetinchem De Huet",
          "Dordrecht",
          "Dordrecht Stadspolders",
          "Dordrecht Zuid",
          "Dortmund Derne",
          "Dortmund Hbf",
          "Dortmund Kirchderne",
          "Driebergen-Zeist",
          "Driehuis",
          "Dronryp",
          "Dronten",
          "Duisburg Hbf",
          "Duiven",
          "Duivendrecht",
          "Dülken",
          "Dülmen",
          "Düsseldorf Flughafen",
          "Düsseldorf Hbf",
          "Echt",
          "Ede Centrum",
          "Ede-Wageningen",
          "Eemshaven",
          "Eijsden",
          "Eindhoven Centraal",
          "Eindhoven Strijp-S",
          "Ekeren",
          "Elst",
          "Emmen",
          "Emmen Zuid",
          "Emmerich",
          "Emmerich-Elten",
          "Enkhuizen",
          "Ennepetal",
          "Enschede",
          "Enschede De Eschmarke",
          "Enschede Kennispark",
          "Epe (Westf)",
          "Ermelo",
          "Essen",
          "Etten-Leur",
          "Eygelshoven",
          "Eygelshoven Markt",
          "Feanwâlden",
          "Firenze Campo di Marte",
          "Franeker",
          "Frankfurt (M) Hbf",
          "Frankfurt (Main) Süd",
          "Frankfurt Flughafen Fernb",
          "Freiburg (Breisgau) Hbf",
          "Gaanderen",
          "Geldermalsen",
          "Geldrop",
          "Geleen Oost",
          "Geleen-Lutterade",
          "Gent Sint Pieters",
          "Gilze-Rijen",
          "Glanerbrug",
          "Glons",
          "Goes",
          "Goor",
          "Göppingen",
          "Gorinchem",
          "Göteborg Central",
          "Gouda",
          "Gouda Goverwelle",
          "Gramsbergen",
          "Grijpskerk",
          "Gronau (Westf.)",
          "Groningen",
          "Groningen Europapark",
          "Groningen Noord",
          "Grou-Jirnsum",
          "Günzburg",
          "Haarlem",
          "Haarlem Spaarnwoude",
          "Hagen Hbf",
          "Halfweg-Zwanenburg",
          "Hamm (Westf.)",
          "Hannover Hbf",
          "Hardenberg",
          "Harderwijk",
          "Hardinxveld Blauwe Zoom",
          "Hardinxveld-Giessendam",
          "Haren",
          "Harlingen",
          "Harlingen Haven",
          "Hasselt",
          "Heemskerk",
          "Heemstede-Aerdenhout",
          "Heerenveen",
          "Heerenveen IJsstadion",
          "Heerhugowaard",
          "Heerlen",
          "Heerlen Woonboulevard",
          "Heeze",
          "Heide (B)",
          "Heiloo",
          "Heino",
          "Helmond",
          "Helmond 't Hout",
          "Helmond Brandevoort",
          "Helmond Brouwhuis",
          "Hemiksem",
          "Hemmen-Dodewaard",
          "Hengelo",
          "Hengelo Gezondheidspark",
          "Hengelo Oost",
          "Herstal",
          "Herzogenrath",
          "Hillegom",
          "Hilversum",
          "Hilversum Media Park",
          "Hilversum Sportpark",
          "Hindeloopen",
          "Hoboken-Polder",
          "Hoensbroek",
          "Hoevelaken",
          "Hollandsche Rading",
          "Holten",
          "Holzwickede",
          "Hoofddorp",
          "Hoogeveen",
          "Hoogezand-Sappemeer",
          "Hoogkarspel",
          "Hoorn",
          "Hoorn Kersenboogerd",
          "Hopfgarten",
          "Horst-Sevenum",
          "Houten",
          "Houten Castellum",
          "Houthem-St. Gerlach",
          "Hurdegaryp",
          "IJlst",
          "Innsbruck Hbf",
          "Jenbach",
          "Kaldenkirchen",
          "Kalmthout",
          "Kampen",
          "Kampen Zuid",
          "Kapelle-Biezelinge",
          "Kapellen",
          "Karlsruhe Hbf",
          "Kerkrade Centrum",
          "Kesteren",
          "Kijkuit",
          "Klarenbeek",
          "Klimmen-Ransdaal",
          "Koblenz Hbf",
          "Köln Hbf",
          "Köln Messe/Deutz",
          "Köln West",
          "Köln-Ehrenfeld",
          "Köln-Mülheim",
          "Koog aan de Zaan",
          "Koudum-Molkwerum",
          "Københavns Lufthavn St",
          "Krabbendijke",
          "Krommenie-Assendelft",
          "Kropswolde",
          "Kruiningen-Yerseke",
          "Kufstein",
          "Lage Zwaluwe",
          "Landgraaf",
          "Landry",
          "Lansingerland-Zoetermeer",
          "Leer (Ostfriesl)",
          "Leerdam",
          "Leeuwarden",
          "Leeuwarden Camminghaburen",
          "Legden",
          "Leiden Centraal",
          "Leiden Lammenschans",
          "Lelystad Centrum",
          "Lette (Kr Coesfeld)",
          "Leuven",
          "Lichtenvoorde-Groenlo",
          "Liège-Carré",
          "Liège-Guillemins",
          "Liège-Saint-Lambert",
          "Liers",
          "Lille Europe",
          "Limburg Süd",
          "Linz Hbf",
          "Lochem",
          "Lokeren",
          "London St. Pancras Int.",
          "Loppersum",
          "Lüdinghausen",
          "Lünen Hbf",
          "Lunteren",
          "Maarheeze",
          "Maarn",
          "Maarssen",
          "Maastricht",
          "Maastricht Noord",
          "Maastricht Randwyck",
          "Mainz Hbf",
          "Malmö Central",
          "Mannheim Hbf",
          "Mantgum",
          "Mariënberg",
          "Marne-la-Vallée-Chessy",
          "Marseille-St-Charles",
          "Martenshoek",
          "Mechelen",
          "Meerssen",
          "Melsele",
          "Meppel",
          "Metelen Land",
          "Middelburg",
          "Milano Porta Garibaldi",
          "Milmort",
          "Minden (Westf)",
          "Mönchengladbach Hbf",
          "Mook-Molenhoek",
          "Moutiers-Salins-Brides",
          "München Hbf",
          "München Ost",
          "Münster (W) Zentrum Nord",
          "Münster (Westf) Hbf",
          "Münster-Häger",
          "Naarden-Bussum",
          "Neuss Hbf",
          "Niel",
          "Nieuw Amsterdam",
          "Nieuw Vennep",
          "Nieuwerkerk a/d IJssel",
          "Nieuwkerken-Waas",
          "Nijkerk",
          "Nijmegen",
          "Nijmegen Dukenburg",
          "Nijmegen Goffert",
          "Nijmegen Heyendaal",
          "Nijmegen Lent",
          "Nijverdal",
          "Noorderkempen",
          "Nordwalde",
          "Nunspeet",
          "Nürnberg Hbf",
          "Nuth",
          "Obdam",
          "Oberhausen Hbf",
          "Oberhausen-Sterkrade",
          "Ochtrup",
          "Offenburg",
          "Oisterwijk",
          "Oldenzaal",
          "Olst",
          "Ommen",
          "Oosterbeek",
          "Opheusden",
          "Osnabrück Hbf",
          "Oss",
          "Oss West",
          "Oudenbosch",
          "Overveen",
          "Paris-Nord",
          "Passau Hbf",
          "Plochingen",
          "Praest",
          "Preussen",
          "Purmerend",
          "Purmerend Overwhere",
          "Purmerend Weidevenne",
          "Putten",
          "Puurs",
          "Raalte",
          "Ravenstein",
          "Regensburg Hbf",
          "Reuver",
          "Rheden",
          "Rheine",
          "Rhenen",
          "Rijssen",
          "Rijswijk",
          "Rilland-Bath",
          "Roermond",
          "Roodeschool",
          "Roosendaal",
          "Rosendahl-Holtwick",
          "Rosenheim",
          "Rosmalen",
          "Rotterdam Alexander",
          "Rotterdam Blaak",
          "Rotterdam Centraal",
          "Rotterdam Lombardijen",
          "Rotterdam Noord",
          "Rotterdam Stadion",
          "Rotterdam Zuid",
          "Ruisbroek-Sauvegarde",
          "Ruurlo",
          "Salzburg Hbf",
          "Santpoort Noord",
          "Santpoort Zuid",
          "Sassenheim",
          "Sauwerd",
          "Schagen",
          "Scheemda",
          "Schelle",
          "Schiedam Centrum",
          "Schin op Geul",
          "Schinnen",
          "Schiphol Airport",
          "Schwelm",
          "Schwerte (Ruhr)",
          "Selm",
          "Selm-Beifang",
          "Siegburg/Bonn",
          "Sinaai",
          "Sint-Mariaburg",
          "Sint-Niklaas",
          "Sittard",
          "Sliedrecht",
          "Sliedrecht Baanhoek",
          "Sneek",
          "Sneek Noord",
          "Soest",
          "Soest Zuid",
          "Soestdijk",
          "Spaubeek",
          "St.Pölten Hbf",
          "Stavoren",
          "Stedum",
          "Steenwijk",
          "Steinfurt-Borghorst",
          "Steinfurt-Burgsteinfurt",
          "Steinfurt-Grottenkamp",
          "Stendal",
          "Stuttgart Hbf",
          "Susteren",
          "Swalmen",
          "Tegelen",
          "Terborg",
          "Tiel",
          "Tiel Passewaaij",
          "Tilburg",
          "Tilburg Reeshof",
          "Tilburg Universiteit",
          "Tongeren",
          "Troisdorf",
          "Twello",
          "Uitgeest",
          "Uithuizen",
          "Uithuizermeeden",
          "Ulm Hbf",
          "Unna",
          "Usquert",
          "Utrecht Centraal",
          "Utrecht Leidsche Rijn",
          "Utrecht Lunetten",
          "Utrecht Maliebaan",
          "Utrecht Overvecht",
          "Utrecht Terwijde",
          "Utrecht Vaartsche Rijn",
          "Utrecht Zuilen",
          "Valence TGV",
          "Valkenburg",
          "Varsseveld",
          "Veendam",
          "Veenendaal Centrum",
          "Veenendaal West",
          "Veenendaal-De Klomp",
          "Velp",
          "Venezia Santa Lucia",
          "Venlo",
          "Venray",
          "Vierlingsbeek",
          "Viersen",
          "Visé",
          "Vleuten",
          "Vlissingen",
          "Vlissingen Souburg",
          "Voerendaal",
          "Voorburg",
          "Voorhout",
          "Voorschoten",
          "Voorst-Empe",
          "Vorden",
          "Vriezenveen",
          "Vroomshoop",
          "Vught",
          "Waddinxveen",
          "Waddinxveen Noord",
          "Waddinxveen Triangel",
          "Warffum",
          "Weener",
          "Weert",
          "Weesp",
          "Wehl",
          "Wels Hbf",
          "Wesel",
          "Westervoort",
          "Wezep",
          "Wien Hbf",
          "Wien Hütteldorf",
          "Wierden",
          "Wijchen",
          "Wijhe",
          "Wildert",
          "Winschoten",
          "Winsum",
          "Winterswijk",
          "Winterswijk West",
          "Woerden",
          "Wolfheze",
          "Wolfsburg Hbf",
          "Wolvega",
          "Wörgl",
          "Workum",
          "Wormerveer",
          "Wuppertal Hbf",
          "Wuppertal-Barmen",
          "Wuppertal-Oberbarmen",
          "Wuppertal-Vohwinkel",
          "Würzburg Hbf",
          "Zaandam",
          "Zaandam Kogerveld",
          "Zaandijk Zaanse Schans",
          "Zaltbommel",
          "Zandvoort aan Zee",
          "Zetten-Andelst",
          "Zevenaar",
          "Zevenbergen",
          "Zoetermeer",
          "Zoetermeer Oost",
          "Zuidbroek",
          "Zuidhorn",
          "Zürich HB",
          "Zutphen",
          "Zwijndrecht",
          "Zwijndrecht (B)",
          "Zwolle",
          "Zwolle Stadshagen"
         ],
         "type": "scattermapbox"
        }
       ],
       "layout": {
        "legend": {
         "x": 0.01,
         "xanchor": "left",
         "y": 0.99,
         "yanchor": "top"
        },
        "mapbox": {
         "center": {
          "lat": 52.3,
          "lon": 5.5
         },
         "style": "open-street-map",
         "zoom": 7
        },
        "margin": {
         "b": 0,
         "l": 0,
         "r": 0,
         "t": 40
        },
        "template": {
         "data": {
          "bar": [
           {
            "error_x": {
             "color": "#2a3f5f"
            },
            "error_y": {
             "color": "#2a3f5f"
            },
            "marker": {
             "line": {
              "color": "#E5ECF6",
              "width": 0.5
             },
             "pattern": {
              "fillmode": "overlay",
              "size": 10,
              "solidity": 0.2
             }
            },
            "type": "bar"
           }
          ],
          "barpolar": [
           {
            "marker": {
             "line": {
              "color": "#E5ECF6",
              "width": 0.5
             },
             "pattern": {
              "fillmode": "overlay",
              "size": 10,
              "solidity": 0.2
             }
            },
            "type": "barpolar"
           }
          ],
          "carpet": [
           {
            "aaxis": {
             "endlinecolor": "#2a3f5f",
             "gridcolor": "white",
             "linecolor": "white",
             "minorgridcolor": "white",
             "startlinecolor": "#2a3f5f"
            },
            "baxis": {
             "endlinecolor": "#2a3f5f",
             "gridcolor": "white",
             "linecolor": "white",
             "minorgridcolor": "white",
             "startlinecolor": "#2a3f5f"
            },
            "type": "carpet"
           }
          ],
          "choropleth": [
           {
            "colorbar": {
             "outlinewidth": 0,
             "ticks": ""
            },
            "type": "choropleth"
           }
          ],
          "contour": [
           {
            "colorbar": {
             "outlinewidth": 0,
             "ticks": ""
            },
            "colorscale": [
             [
              0,
              "#0d0887"
             ],
             [
              0.1111111111111111,
              "#46039f"
             ],
             [
              0.2222222222222222,
              "#7201a8"
             ],
             [
              0.3333333333333333,
              "#9c179e"
             ],
             [
              0.4444444444444444,
              "#bd3786"
             ],
             [
              0.5555555555555556,
              "#d8576b"
             ],
             [
              0.6666666666666666,
              "#ed7953"
             ],
             [
              0.7777777777777778,
              "#fb9f3a"
             ],
             [
              0.8888888888888888,
              "#fdca26"
             ],
             [
              1,
              "#f0f921"
             ]
            ],
            "type": "contour"
           }
          ],
          "contourcarpet": [
           {
            "colorbar": {
             "outlinewidth": 0,
             "ticks": ""
            },
            "type": "contourcarpet"
           }
          ],
          "heatmap": [
           {
            "colorbar": {
             "outlinewidth": 0,
             "ticks": ""
            },
            "colorscale": [
             [
              0,
              "#0d0887"
             ],
             [
              0.1111111111111111,
              "#46039f"
             ],
             [
              0.2222222222222222,
              "#7201a8"
             ],
             [
              0.3333333333333333,
              "#9c179e"
             ],
             [
              0.4444444444444444,
              "#bd3786"
             ],
             [
              0.5555555555555556,
              "#d8576b"
             ],
             [
              0.6666666666666666,
              "#ed7953"
             ],
             [
              0.7777777777777778,
              "#fb9f3a"
             ],
             [
              0.8888888888888888,
              "#fdca26"
             ],
             [
              1,
              "#f0f921"
             ]
            ],
            "type": "heatmap"
           }
          ],
          "histogram": [
           {
            "marker": {
             "pattern": {
              "fillmode": "overlay",
              "size": 10,
              "solidity": 0.2
             }
            },
            "type": "histogram"
           }
          ],
          "histogram2d": [
           {
            "colorbar": {
             "outlinewidth": 0,
             "ticks": ""
            },
            "colorscale": [
             [
              0,
              "#0d0887"
             ],
             [
              0.1111111111111111,
              "#46039f"
             ],
             [
              0.2222222222222222,
              "#7201a8"
             ],
             [
              0.3333333333333333,
              "#9c179e"
             ],
             [
              0.4444444444444444,
              "#bd3786"
             ],
             [
              0.5555555555555556,
              "#d8576b"
             ],
             [
              0.6666666666666666,
              "#ed7953"
             ],
             [
              0.7777777777777778,
              "#fb9f3a"
             ],
             [
              0.8888888888888888,
              "#fdca26"
             ],
             [
              1,
              "#f0f921"
             ]
            ],
            "type": "histogram2d"
           }
          ],
          "histogram2dcontour": [
           {
            "colorbar": {
             "outlinewidth": 0,
             "ticks": ""
            },
            "colorscale": [
             [
              0,
              "#0d0887"
             ],
             [
              0.1111111111111111,
              "#46039f"
             ],
             [
              0.2222222222222222,
              "#7201a8"
             ],
             [
              0.3333333333333333,
              "#9c179e"
             ],
             [
              0.4444444444444444,
              "#bd3786"
             ],
             [
              0.5555555555555556,
              "#d8576b"
             ],
             [
              0.6666666666666666,
              "#ed7953"
             ],
             [
              0.7777777777777778,
              "#fb9f3a"
             ],
             [
              0.8888888888888888,
              "#fdca26"
             ],
             [
              1,
              "#f0f921"
             ]
            ],
            "type": "histogram2dcontour"
           }
          ],
          "mesh3d": [
           {
            "colorbar": {
             "outlinewidth": 0,
             "ticks": ""
            },
            "type": "mesh3d"
           }
          ],
          "parcoords": [
           {
            "line": {
             "colorbar": {
              "outlinewidth": 0,
              "ticks": ""
             }
            },
            "type": "parcoords"
           }
          ],
          "pie": [
           {
            "automargin": true,
            "type": "pie"
           }
          ],
          "scatter": [
           {
            "fillpattern": {
             "fillmode": "overlay",
             "size": 10,
             "solidity": 0.2
            },
            "type": "scatter"
           }
          ],
          "scatter3d": [
           {
            "line": {
             "colorbar": {
              "outlinewidth": 0,
              "ticks": ""
             }
            },
            "marker": {
             "colorbar": {
              "outlinewidth": 0,
              "ticks": ""
             }
            },
            "type": "scatter3d"
           }
          ],
          "scattercarpet": [
           {
            "marker": {
             "colorbar": {
              "outlinewidth": 0,
              "ticks": ""
             }
            },
            "type": "scattercarpet"
           }
          ],
          "scattergeo": [
           {
            "marker": {
             "colorbar": {
              "outlinewidth": 0,
              "ticks": ""
             }
            },
            "type": "scattergeo"
           }
          ],
          "scattergl": [
           {
            "marker": {
             "colorbar": {
              "outlinewidth": 0,
              "ticks": ""
             }
            },
            "type": "scattergl"
           }
          ],
          "scattermap": [
           {
            "marker": {
             "colorbar": {
              "outlinewidth": 0,
              "ticks": ""
             }
            },
            "type": "scattermap"
           }
          ],
          "scattermapbox": [
           {
            "marker": {
             "colorbar": {
              "outlinewidth": 0,
              "ticks": ""
             }
            },
            "type": "scattermapbox"
           }
          ],
          "scatterpolar": [
           {
            "marker": {
             "colorbar": {
              "outlinewidth": 0,
              "ticks": ""
             }
            },
            "type": "scatterpolar"
           }
          ],
          "scatterpolargl": [
           {
            "marker": {
             "colorbar": {
              "outlinewidth": 0,
              "ticks": ""
             }
            },
            "type": "scatterpolargl"
           }
          ],
          "scatterternary": [
           {
            "marker": {
             "colorbar": {
              "outlinewidth": 0,
              "ticks": ""
             }
            },
            "type": "scatterternary"
           }
          ],
          "surface": [
           {
            "colorbar": {
             "outlinewidth": 0,
             "ticks": ""
            },
            "colorscale": [
             [
              0,
              "#0d0887"
             ],
             [
              0.1111111111111111,
              "#46039f"
             ],
             [
              0.2222222222222222,
              "#7201a8"
             ],
             [
              0.3333333333333333,
              "#9c179e"
             ],
             [
              0.4444444444444444,
              "#bd3786"
             ],
             [
              0.5555555555555556,
              "#d8576b"
             ],
             [
              0.6666666666666666,
              "#ed7953"
             ],
             [
              0.7777777777777778,
              "#fb9f3a"
             ],
             [
              0.8888888888888888,
              "#fdca26"
             ],
             [
              1,
              "#f0f921"
             ]
            ],
            "type": "surface"
           }
          ],
          "table": [
           {
            "cells": {
             "fill": {
              "color": "#EBF0F8"
             },
             "line": {
              "color": "white"
             }
            },
            "header": {
             "fill": {
              "color": "#C8D4E3"
             },
             "line": {
              "color": "white"
             }
            },
            "type": "table"
           }
          ]
         },
         "layout": {
          "annotationdefaults": {
           "arrowcolor": "#2a3f5f",
           "arrowhead": 0,
           "arrowwidth": 1
          },
          "autotypenumbers": "strict",
          "coloraxis": {
           "colorbar": {
            "outlinewidth": 0,
            "ticks": ""
           }
          },
          "colorscale": {
           "diverging": [
            [
             0,
             "#8e0152"
            ],
            [
             0.1,
             "#c51b7d"
            ],
            [
             0.2,
             "#de77ae"
            ],
            [
             0.3,
             "#f1b6da"
            ],
            [
             0.4,
             "#fde0ef"
            ],
            [
             0.5,
             "#f7f7f7"
            ],
            [
             0.6,
             "#e6f5d0"
            ],
            [
             0.7,
             "#b8e186"
            ],
            [
             0.8,
             "#7fbc41"
            ],
            [
             0.9,
             "#4d9221"
            ],
            [
             1,
             "#276419"
            ]
           ],
           "sequential": [
            [
             0,
             "#0d0887"
            ],
            [
             0.1111111111111111,
             "#46039f"
            ],
            [
             0.2222222222222222,
             "#7201a8"
            ],
            [
             0.3333333333333333,
             "#9c179e"
            ],
            [
             0.4444444444444444,
             "#bd3786"
            ],
            [
             0.5555555555555556,
             "#d8576b"
            ],
            [
             0.6666666666666666,
             "#ed7953"
            ],
            [
             0.7777777777777778,
             "#fb9f3a"
            ],
            [
             0.8888888888888888,
             "#fdca26"
            ],
            [
             1,
             "#f0f921"
            ]
           ],
           "sequentialminus": [
            [
             0,
             "#0d0887"
            ],
            [
             0.1111111111111111,
             "#46039f"
            ],
            [
             0.2222222222222222,
             "#7201a8"
            ],
            [
             0.3333333333333333,
             "#9c179e"
            ],
            [
             0.4444444444444444,
             "#bd3786"
            ],
            [
             0.5555555555555556,
             "#d8576b"
            ],
            [
             0.6666666666666666,
             "#ed7953"
            ],
            [
             0.7777777777777778,
             "#fb9f3a"
            ],
            [
             0.8888888888888888,
             "#fdca26"
            ],
            [
             1,
             "#f0f921"
            ]
           ]
          },
          "colorway": [
           "#636efa",
           "#EF553B",
           "#00cc96",
           "#ab63fa",
           "#FFA15A",
           "#19d3f3",
           "#FF6692",
           "#B6E880",
           "#FF97FF",
           "#FECB52"
          ],
          "font": {
           "color": "#2a3f5f"
          },
          "geo": {
           "bgcolor": "white",
           "lakecolor": "white",
           "landcolor": "#E5ECF6",
           "showlakes": true,
           "showland": true,
           "subunitcolor": "white"
          },
          "hoverlabel": {
           "align": "left"
          },
          "hovermode": "closest",
          "mapbox": {
           "style": "light"
          },
          "paper_bgcolor": "white",
          "plot_bgcolor": "#E5ECF6",
          "polar": {
           "angularaxis": {
            "gridcolor": "white",
            "linecolor": "white",
            "ticks": ""
           },
           "bgcolor": "#E5ECF6",
           "radialaxis": {
            "gridcolor": "white",
            "linecolor": "white",
            "ticks": ""
           }
          },
          "scene": {
           "xaxis": {
            "backgroundcolor": "#E5ECF6",
            "gridcolor": "white",
            "gridwidth": 2,
            "linecolor": "white",
            "showbackground": true,
            "ticks": "",
            "zerolinecolor": "white"
           },
           "yaxis": {
            "backgroundcolor": "#E5ECF6",
            "gridcolor": "white",
            "gridwidth": 2,
            "linecolor": "white",
            "showbackground": true,
            "ticks": "",
            "zerolinecolor": "white"
           },
           "zaxis": {
            "backgroundcolor": "#E5ECF6",
            "gridcolor": "white",
            "gridwidth": 2,
            "linecolor": "white",
            "showbackground": true,
            "ticks": "",
            "zerolinecolor": "white"
           }
          },
          "shapedefaults": {
           "line": {
            "color": "#2a3f5f"
           }
          },
          "ternary": {
           "aaxis": {
            "gridcolor": "white",
            "linecolor": "white",
            "ticks": ""
           },
           "baxis": {
            "gridcolor": "white",
            "linecolor": "white",
            "ticks": ""
           },
           "bgcolor": "#E5ECF6",
           "caxis": {
            "gridcolor": "white",
            "linecolor": "white",
            "ticks": ""
           }
          },
          "title": {
           "x": 0.05
          },
          "xaxis": {
           "automargin": true,
           "gridcolor": "white",
           "linecolor": "white",
           "ticks": "",
           "title": {
            "standoff": 15
           },
           "zerolinecolor": "white",
           "zerolinewidth": 2
          },
          "yaxis": {
           "automargin": true,
           "gridcolor": "white",
           "linecolor": "white",
           "ticks": "",
           "title": {
            "standoff": 15
           },
           "zerolinecolor": "white",
           "zerolinewidth": 2
          }
         }
        },
        "title": {
         "text": "Weather and Train Stations in the Netherlands"
        }
       }
      }
     },
     "metadata": {},
     "output_type": "display_data"
    }
   ],
   "source": [
    "%run plot_train_stations.py"
   ]
  },
  {
   "cell_type": "code",
   "execution_count": 7,
   "metadata": {},
   "outputs": [
    {
     "name": "stdout",
     "output_type": "stream",
     "text": [
      "Current working directory: c:\\Users\\tjrij\\Documents\\TIL-groepje-1\n",
      "184 stations gevonden binnen 70 km van Bodegraven.\n",
      "Bestand opgeslagen als: data/stations_within_circle.csv\n"
     ]
    },
    {
     "data": {
      "text/html": [
       "<div>\n",
       "<style scoped>\n",
       "    .dataframe tbody tr th:only-of-type {\n",
       "        vertical-align: middle;\n",
       "    }\n",
       "\n",
       "    .dataframe tbody tr th {\n",
       "        vertical-align: top;\n",
       "    }\n",
       "\n",
       "    .dataframe thead th {\n",
       "        text-align: right;\n",
       "    }\n",
       "</style>\n",
       "<table border=\"1\" class=\"dataframe\">\n",
       "  <thead>\n",
       "    <tr style=\"text-align: right;\">\n",
       "      <th></th>\n",
       "      <th>id</th>\n",
       "      <th>code</th>\n",
       "      <th>uic</th>\n",
       "      <th>name_short</th>\n",
       "      <th>name_medium</th>\n",
       "      <th>name_long</th>\n",
       "      <th>slug</th>\n",
       "      <th>country</th>\n",
       "      <th>type</th>\n",
       "      <th>geo_lat</th>\n",
       "      <th>geo_lng</th>\n",
       "    </tr>\n",
       "  </thead>\n",
       "  <tbody>\n",
       "    <tr>\n",
       "      <th>0</th>\n",
       "      <td>266</td>\n",
       "      <td>HT</td>\n",
       "      <td>8400319</td>\n",
       "      <td>Den Bosch</td>\n",
       "      <td>'s-Hertogenbosch</td>\n",
       "      <td>'s-Hertogenbosch</td>\n",
       "      <td>s-hertogenbosch</td>\n",
       "      <td>NL</td>\n",
       "      <td>knooppuntIntercitystation</td>\n",
       "      <td>51.690480</td>\n",
       "      <td>5.293620</td>\n",
       "    </tr>\n",
       "    <tr>\n",
       "      <th>1</th>\n",
       "      <td>269</td>\n",
       "      <td>HTO</td>\n",
       "      <td>8400320</td>\n",
       "      <td>Dn Bosch O</td>\n",
       "      <td>'s-Hertogenb. O.</td>\n",
       "      <td>'s-Hertogenbosch Oost</td>\n",
       "      <td>s-hertogenbosch-oost</td>\n",
       "      <td>NL</td>\n",
       "      <td>stoptreinstation</td>\n",
       "      <td>51.700554</td>\n",
       "      <td>5.318333</td>\n",
       "    </tr>\n",
       "    <tr>\n",
       "      <th>6</th>\n",
       "      <td>5</td>\n",
       "      <td>AC</td>\n",
       "      <td>8400047</td>\n",
       "      <td>Abcoude</td>\n",
       "      <td>Abcoude</td>\n",
       "      <td>Abcoude</td>\n",
       "      <td>abcoude</td>\n",
       "      <td>NL</td>\n",
       "      <td>stoptreinstation</td>\n",
       "      <td>52.278500</td>\n",
       "      <td>4.977000</td>\n",
       "    </tr>\n",
       "    <tr>\n",
       "      <th>13</th>\n",
       "      <td>26</td>\n",
       "      <td>AMR</td>\n",
       "      <td>8400050</td>\n",
       "      <td>Alkmaar</td>\n",
       "      <td>Alkmaar</td>\n",
       "      <td>Alkmaar</td>\n",
       "      <td>alkmaar</td>\n",
       "      <td>NL</td>\n",
       "      <td>knooppuntIntercitystation</td>\n",
       "      <td>52.637779</td>\n",
       "      <td>4.739722</td>\n",
       "    </tr>\n",
       "    <tr>\n",
       "      <th>14</th>\n",
       "      <td>28</td>\n",
       "      <td>AMRN</td>\n",
       "      <td>8400052</td>\n",
       "      <td>Alkmaar N</td>\n",
       "      <td>Alkmaar Noord</td>\n",
       "      <td>Alkmaar Noord</td>\n",
       "      <td>alkmaar-noord</td>\n",
       "      <td>NL</td>\n",
       "      <td>stoptreinstation</td>\n",
       "      <td>52.643890</td>\n",
       "      <td>4.764167</td>\n",
       "    </tr>\n",
       "  </tbody>\n",
       "</table>\n",
       "</div>"
      ],
      "text/plain": [
       "     id  code      uic  name_short       name_medium              name_long  \\\n",
       "0   266    HT  8400319   Den Bosch  's-Hertogenbosch       's-Hertogenbosch   \n",
       "1   269   HTO  8400320  Dn Bosch O  's-Hertogenb. O.  's-Hertogenbosch Oost   \n",
       "6     5    AC  8400047     Abcoude           Abcoude                Abcoude   \n",
       "13   26   AMR  8400050     Alkmaar           Alkmaar                Alkmaar   \n",
       "14   28  AMRN  8400052   Alkmaar N     Alkmaar Noord          Alkmaar Noord   \n",
       "\n",
       "                    slug country                       type    geo_lat  \\\n",
       "0        s-hertogenbosch      NL  knooppuntIntercitystation  51.690480   \n",
       "1   s-hertogenbosch-oost      NL           stoptreinstation  51.700554   \n",
       "6                abcoude      NL           stoptreinstation  52.278500   \n",
       "13               alkmaar      NL  knooppuntIntercitystation  52.637779   \n",
       "14         alkmaar-noord      NL           stoptreinstation  52.643890   \n",
       "\n",
       "     geo_lng  \n",
       "0   5.293620  \n",
       "1   5.318333  \n",
       "6   4.977000  \n",
       "13  4.739722  \n",
       "14  4.764167  "
      ]
     },
     "execution_count": 7,
     "metadata": {},
     "output_type": "execute_result"
    }
   ],
   "source": [
    "import pandas as pd\n",
    "from geopy.distance import geodesic\n",
    "import os\n",
    "\n",
    "# control current working map\n",
    "print(\"Current working directory:\", os.getcwd())\n",
    "\n",
    "#Rea d staions data\n",
    "df = pd.read_csv('data/stations-2023-09.csv')\n",
    "\n",
    "#centre of circle — Bodegraven\n",
    "center_lat = 52.0822\n",
    "center_lon = 4.7447\n",
    "radius_km = 70  # Straal in kilometers\n",
    "\n",
    "# Is the station in the circle\n",
    "def within_radius(row):\n",
    "    station_loc = (row['geo_lat'], row['geo_lng'])\n",
    "    center_loc = (center_lat, center_lon)\n",
    "    distance = geodesic(center_loc, station_loc).km\n",
    "    return distance <= radius_km\n",
    "\n",
    "#Filter stations within the circle\n",
    "df_circle = df[df.apply(within_radius, axis=1)]\n",
    "\n",
    "# save as CSV\n",
    "output_path = 'data/stations_within_circle.csv'\n",
    "df_circle.to_csv(output_path, index=False)\n",
    "\n",
    "#  show results\n",
    "print(f\"{len(df_circle)} stations gevonden binnen {radius_km} km van Bodegraven.\")\n",
    "print(f\"Bestand opgeslagen als: {output_path}\")\n",
    "df_circle.head()"
   ]
  },
  {
   "cell_type": "code",
   "execution_count": 17,
   "metadata": {},
   "outputs": [
    {
     "data": {
      "text/html": [
       "<div>\n",
       "<style scoped>\n",
       "    .dataframe tbody tr th:only-of-type {\n",
       "        vertical-align: middle;\n",
       "    }\n",
       "\n",
       "    .dataframe tbody tr th {\n",
       "        vertical-align: top;\n",
       "    }\n",
       "\n",
       "    .dataframe thead th {\n",
       "        text-align: right;\n",
       "    }\n",
       "</style>\n",
       "<table border=\"1\" class=\"dataframe\">\n",
       "  <thead>\n",
       "    <tr style=\"text-align: right;\">\n",
       "      <th></th>\n",
       "      <th>STN</th>\n",
       "      <th>YYYYMMDD</th>\n",
       "      <th>HH</th>\n",
       "      <th>DD</th>\n",
       "      <th>FH</th>\n",
       "      <th>FF</th>\n",
       "      <th>FX</th>\n",
       "      <th>T</th>\n",
       "      <th>T10N</th>\n",
       "      <th>Q</th>\n",
       "      <th>DR</th>\n",
       "      <th>RH</th>\n",
       "      <th>VV</th>\n",
       "      <th>M</th>\n",
       "      <th>R</th>\n",
       "      <th>S</th>\n",
       "      <th>O</th>\n",
       "      <th>Y</th>\n",
       "    </tr>\n",
       "  </thead>\n",
       "  <tbody>\n",
       "    <tr>\n",
       "      <th>0</th>\n",
       "      <td>215</td>\n",
       "      <td>20240101</td>\n",
       "      <td>1</td>\n",
       "      <td>210</td>\n",
       "      <td>100</td>\n",
       "      <td>110</td>\n",
       "      <td>160</td>\n",
       "      <td>72</td>\n",
       "      <td>NaN</td>\n",
       "      <td>0</td>\n",
       "      <td>10</td>\n",
       "      <td>13</td>\n",
       "      <td>56</td>\n",
       "      <td>0</td>\n",
       "      <td>1</td>\n",
       "      <td>0</td>\n",
       "      <td>0</td>\n",
       "      <td>0</td>\n",
       "    </tr>\n",
       "    <tr>\n",
       "      <th>1</th>\n",
       "      <td>215</td>\n",
       "      <td>20240101</td>\n",
       "      <td>2</td>\n",
       "      <td>210</td>\n",
       "      <td>90</td>\n",
       "      <td>70</td>\n",
       "      <td>150</td>\n",
       "      <td>75</td>\n",
       "      <td>NaN</td>\n",
       "      <td>0</td>\n",
       "      <td>4</td>\n",
       "      <td>6</td>\n",
       "      <td>61</td>\n",
       "      <td>0</td>\n",
       "      <td>1</td>\n",
       "      <td>0</td>\n",
       "      <td>0</td>\n",
       "      <td>0</td>\n",
       "    </tr>\n",
       "    <tr>\n",
       "      <th>2</th>\n",
       "      <td>215</td>\n",
       "      <td>20240101</td>\n",
       "      <td>3</td>\n",
       "      <td>210</td>\n",
       "      <td>80</td>\n",
       "      <td>70</td>\n",
       "      <td>120</td>\n",
       "      <td>74</td>\n",
       "      <td>NaN</td>\n",
       "      <td>0</td>\n",
       "      <td>3</td>\n",
       "      <td>9</td>\n",
       "      <td>50</td>\n",
       "      <td>0</td>\n",
       "      <td>1</td>\n",
       "      <td>0</td>\n",
       "      <td>0</td>\n",
       "      <td>0</td>\n",
       "    </tr>\n",
       "    <tr>\n",
       "      <th>3</th>\n",
       "      <td>215</td>\n",
       "      <td>20240101</td>\n",
       "      <td>4</td>\n",
       "      <td>240</td>\n",
       "      <td>70</td>\n",
       "      <td>80</td>\n",
       "      <td>130</td>\n",
       "      <td>89</td>\n",
       "      <td>NaN</td>\n",
       "      <td>0</td>\n",
       "      <td>3</td>\n",
       "      <td>4</td>\n",
       "      <td>67</td>\n",
       "      <td>0</td>\n",
       "      <td>1</td>\n",
       "      <td>0</td>\n",
       "      <td>0</td>\n",
       "      <td>0</td>\n",
       "    </tr>\n",
       "    <tr>\n",
       "      <th>4</th>\n",
       "      <td>215</td>\n",
       "      <td>20240101</td>\n",
       "      <td>5</td>\n",
       "      <td>240</td>\n",
       "      <td>80</td>\n",
       "      <td>80</td>\n",
       "      <td>130</td>\n",
       "      <td>92</td>\n",
       "      <td>NaN</td>\n",
       "      <td>0</td>\n",
       "      <td>0</td>\n",
       "      <td>-1</td>\n",
       "      <td>66</td>\n",
       "      <td>0</td>\n",
       "      <td>1</td>\n",
       "      <td>0</td>\n",
       "      <td>0</td>\n",
       "      <td>0</td>\n",
       "    </tr>\n",
       "    <tr>\n",
       "      <th>...</th>\n",
       "      <td>...</td>\n",
       "      <td>...</td>\n",
       "      <td>...</td>\n",
       "      <td>...</td>\n",
       "      <td>...</td>\n",
       "      <td>...</td>\n",
       "      <td>...</td>\n",
       "      <td>...</td>\n",
       "      <td>...</td>\n",
       "      <td>...</td>\n",
       "      <td>...</td>\n",
       "      <td>...</td>\n",
       "      <td>...</td>\n",
       "      <td>...</td>\n",
       "      <td>...</td>\n",
       "      <td>...</td>\n",
       "      <td>...</td>\n",
       "      <td>...</td>\n",
       "    </tr>\n",
       "    <tr>\n",
       "      <th>43915</th>\n",
       "      <td>348</td>\n",
       "      <td>20241231</td>\n",
       "      <td>20</td>\n",
       "      <td>200</td>\n",
       "      <td>100</td>\n",
       "      <td>100</td>\n",
       "      <td>160</td>\n",
       "      <td>59</td>\n",
       "      <td>NaN</td>\n",
       "      <td>0</td>\n",
       "      <td>0</td>\n",
       "      <td>0</td>\n",
       "      <td>71</td>\n",
       "      <td>0</td>\n",
       "      <td>0</td>\n",
       "      <td>0</td>\n",
       "      <td>0</td>\n",
       "      <td>0</td>\n",
       "    </tr>\n",
       "    <tr>\n",
       "      <th>43916</th>\n",
       "      <td>348</td>\n",
       "      <td>20241231</td>\n",
       "      <td>21</td>\n",
       "      <td>210</td>\n",
       "      <td>120</td>\n",
       "      <td>120</td>\n",
       "      <td>180</td>\n",
       "      <td>63</td>\n",
       "      <td>NaN</td>\n",
       "      <td>0</td>\n",
       "      <td>0</td>\n",
       "      <td>0</td>\n",
       "      <td>74</td>\n",
       "      <td>0</td>\n",
       "      <td>0</td>\n",
       "      <td>0</td>\n",
       "      <td>0</td>\n",
       "      <td>0</td>\n",
       "    </tr>\n",
       "    <tr>\n",
       "      <th>43917</th>\n",
       "      <td>348</td>\n",
       "      <td>20241231</td>\n",
       "      <td>22</td>\n",
       "      <td>210</td>\n",
       "      <td>110</td>\n",
       "      <td>100</td>\n",
       "      <td>170</td>\n",
       "      <td>68</td>\n",
       "      <td>NaN</td>\n",
       "      <td>0</td>\n",
       "      <td>0</td>\n",
       "      <td>0</td>\n",
       "      <td>74</td>\n",
       "      <td>0</td>\n",
       "      <td>0</td>\n",
       "      <td>0</td>\n",
       "      <td>0</td>\n",
       "      <td>0</td>\n",
       "    </tr>\n",
       "    <tr>\n",
       "      <th>43918</th>\n",
       "      <td>348</td>\n",
       "      <td>20241231</td>\n",
       "      <td>23</td>\n",
       "      <td>210</td>\n",
       "      <td>110</td>\n",
       "      <td>110</td>\n",
       "      <td>160</td>\n",
       "      <td>75</td>\n",
       "      <td>NaN</td>\n",
       "      <td>0</td>\n",
       "      <td>0</td>\n",
       "      <td>0</td>\n",
       "      <td>71</td>\n",
       "      <td>0</td>\n",
       "      <td>0</td>\n",
       "      <td>0</td>\n",
       "      <td>0</td>\n",
       "      <td>0</td>\n",
       "    </tr>\n",
       "    <tr>\n",
       "      <th>43919</th>\n",
       "      <td>348</td>\n",
       "      <td>20241231</td>\n",
       "      <td>24</td>\n",
       "      <td>210</td>\n",
       "      <td>120</td>\n",
       "      <td>120</td>\n",
       "      <td>170</td>\n",
       "      <td>81</td>\n",
       "      <td>44.0</td>\n",
       "      <td>0</td>\n",
       "      <td>0</td>\n",
       "      <td>0</td>\n",
       "      <td>59</td>\n",
       "      <td>0</td>\n",
       "      <td>0</td>\n",
       "      <td>0</td>\n",
       "      <td>0</td>\n",
       "      <td>0</td>\n",
       "    </tr>\n",
       "  </tbody>\n",
       "</table>\n",
       "<p>43920 rows × 18 columns</p>\n",
       "</div>"
      ],
      "text/plain": [
       "       STN  YYYYMMDD  HH   DD   FH   FF   FX   T  T10N  Q  DR  RH  VV  M  R  \\\n",
       "0      215  20240101   1  210  100  110  160  72   NaN  0  10  13  56  0  1   \n",
       "1      215  20240101   2  210   90   70  150  75   NaN  0   4   6  61  0  1   \n",
       "2      215  20240101   3  210   80   70  120  74   NaN  0   3   9  50  0  1   \n",
       "3      215  20240101   4  240   70   80  130  89   NaN  0   3   4  67  0  1   \n",
       "4      215  20240101   5  240   80   80  130  92   NaN  0   0  -1  66  0  1   \n",
       "...    ...       ...  ..  ...  ...  ...  ...  ..   ... ..  ..  ..  .. .. ..   \n",
       "43915  348  20241231  20  200  100  100  160  59   NaN  0   0   0  71  0  0   \n",
       "43916  348  20241231  21  210  120  120  180  63   NaN  0   0   0  74  0  0   \n",
       "43917  348  20241231  22  210  110  100  170  68   NaN  0   0   0  74  0  0   \n",
       "43918  348  20241231  23  210  110  110  160  75   NaN  0   0   0  71  0  0   \n",
       "43919  348  20241231  24  210  120  120  170  81  44.0  0   0   0  59  0  0   \n",
       "\n",
       "       S  O  Y  \n",
       "0      0  0  0  \n",
       "1      0  0  0  \n",
       "2      0  0  0  \n",
       "3      0  0  0  \n",
       "4      0  0  0  \n",
       "...   .. .. ..  \n",
       "43915  0  0  0  \n",
       "43916  0  0  0  \n",
       "43917  0  0  0  \n",
       "43918  0  0  0  \n",
       "43919  0  0  0  \n",
       "\n",
       "[43920 rows x 18 columns]"
      ]
     },
     "execution_count": 17,
     "metadata": {},
     "output_type": "execute_result"
    }
   ],
   "source": [
    "pd.read_parquet('data/df_weather_5_stations.parquet')"
   ]
  },
  {
   "cell_type": "code",
   "execution_count": 18,
   "metadata": {},
   "outputs": [
    {
     "name": "stdout",
     "output_type": "stream",
     "text": [
      "['STN', 'YYYYMMDD', 'HH', 'DD', 'FH', 'FF', 'FX', 'T', 'T10N', 'Q', 'DR', 'RH', 'VV', 'M', 'R', 'S', 'O', 'Y']\n"
     ]
    }
   ],
   "source": [
    "print(df_weather.columns.tolist())"
   ]
  },
  {
   "cell_type": "code",
   "execution_count": 19,
   "metadata": {},
   "outputs": [
    {
     "data": {
      "image/png": "[encoded data removed]",
      "text/plain": [
       "<Figure size 1400x1000 with 2 Axes>"
      ]
     },
     "metadata": {},
     "output_type": "display_data"
    }
   ],
   "source": [
    "import pandas as pd\n",
    "import seaborn as sns\n",
    "import matplotlib.pyplot as plt\n",
    "\n",
    "# 1. 📥 Weerdata inladen\n",
    "df_weather = pd.read_parquet('data/df_weather_5_stations.parquet')\n",
    "\n",
    "# 2. ⚙️ Kolommen selecteren (DD = windrichting nemen we niet mee)\n",
    "weather_cols = [\n",
    "    'FH',  # uur gemiddelde windsnelheid\n",
    "    'FF',  # windsnelheid\n",
    "    'FX',  # windstoot\n",
    "    'T',   # temperatuur\n",
    "    'DR',  # duur neerslag\n",
    "    'RH',  # hoeveelheid neerslag\n",
    "    'VV',  # zicht\n",
    "    # 'N',  # bewolking (ontbreekt bij jou)\n",
    "    # 'U',  # relatieve vochtigheid (ontbreekt bij jou)\n",
    "    'M',   # mist (binair)\n",
    "    'R',   # regen (binair)\n",
    "    'S',   # sneeuw (binair)\n",
    "    'O',   # onweer (binair)\n",
    "    'Y'    # ijzel (binair)\n",
    "]\n",
    "\n",
    "df_weather_sel = df_weather[weather_cols].copy()\n",
    "\n",
    "# 3. 🧮 Waarden omrekenen (wind, temp en neerslag in echte eenheden)\n",
    "df_weather_sel['FH'] /= 10\n",
    "df_weather_sel['FF'] /= 10\n",
    "df_weather_sel['FX'] /= 10\n",
    "df_weather_sel['T']  /= 10\n",
    "df_weather_sel['RH'] /= 10\n",
    "df_weather_sel['DR'] /= 10\n",
    "\n",
    "# 4. 🧼 Missende waarden afhandelen\n",
    "# (je kunt ook imputatie gebruiken, maar voor nu droppen we ze)\n",
    "df_weather_sel = df_weather_sel.dropna()\n",
    "\n",
    "# 5. 🧮 Correlatiematrix berekenen (Spearman is beter voor mix binair + continu)\n",
    "corr_matrix = df_weather_sel.corr(method='spearman')\n",
    "\n",
    "# 6. 📊 Heatmap plotten\n",
    "plt.figure(figsize=(14, 10))\n",
    "sns.heatmap(\n",
    "    corr_matrix,\n",
    "    annot=True,\n",
    "    cmap='coolwarm',\n",
    "    fmt=\".2f\",\n",
    "    linewidths=0.5\n",
    ")\n",
    "plt.title('Spearman Correlatie tussen Weersfactoren', fontsize=16)\n",
    "plt.tight_layout()\n",
    "plt.show()\n",
    "\n",
    "# 7. 📌 >>>>>>>>>>>>>>>>>>>>>>>>>>>>>>>>>>>>>>>>>>>>>>>>>>>>>>>>>>>>>>>>>>>>>>\n",
    "# HIER KOMT JE DISRUPTIONS DATA STRAKS BIJ\n",
    "# Voorbeeldstap (als je straks je disruptions dataframe hebt):\n",
    "# df_disruptions = pd.read_csv('data/disruptions_2024.csv')\n",
    "# disruptions_cols = ['vertraging_totaal', 'aantal_verstoringen', ...]  # jouw 15 variabelen\n",
    "# \n",
    "# # Zorg dat je de data per tijdseenheid kan koppelen (bijv. per dag of uur)\n",
    "# # door bijvoorbeeld:\n",
    "# # - df_weather_sel['YYYYMMDD'] toevoegen\n",
    "# # - groupby('YYYYMMDD') en mean() of sum() gebruiken\n",
    "#\n",
    "# merged = df_weather_sel.join(df_disruptions[disruptions_cols])\n",
    "# full_corr = merged.corr(method='spearman')\n",
    "#\n",
    "# # Heatmap met weersfactoren + disruptions\n",
    "# sns.heatmap(full_corr, annot=True, cmap='coolwarm', fmt=\".2f\", linewidths=0.5)\n",
    "# plt.title('Correlatie tussen Weer en Treinverstoringen')\n",
    "# plt.show()\n",
    "#  >>>>>>>>>>>>>>>>>>>>>>>>>>>>>>>>>>>>>>>>>>>>>>>>>>>>>>>>>>>>>>>>>>>>>>\n"
   ]
  },
  {
   "cell_type": "code",
   "execution_count": null,
   "metadata": {},
   "outputs": [
    {
     "name": "stderr",
     "output_type": "stream",
     "text": [
      "C:\\Users\\jarri\\AppData\\Local\\Temp\\ipykernel_2712\\201187746.py:47: FutureWarning: 'H' is deprecated and will be removed in a future version, please use 'h' instead.\n",
      "  df_disruptions['datetime'] = df_disruptions['start_time'].dt.floor('H')\n",
      "C:\\Users\\jarri\\AppData\\Local\\Temp\\ipykernel_2712\\201187746.py:101: UserWarning: Glyph 128202 (\\N{BAR CHART}) missing from font(s) DejaVu Sans.\n",
      "  plt.tight_layout()\n",
      "d:\\Anaconda3\\envs\\TIL6022-25\\Lib\\site-packages\\IPython\\core\\pylabtools.py:170: UserWarning: Glyph 128202 (\\N{BAR CHART}) missing from font(s) DejaVu Sans.\n",
      "  fig.canvas.print_figure(bytes_io, **kw)\n"
     ]
    },
    {
     "data": {
      "image/png": "[encoded data removed]",
      "text/plain": [
       "<Figure size 1800x1000 with 2 Axes>"
      ]
     },
     "metadata": {},
     "output_type": "display_data"
    }
   ],
   "source": [
    "import pandas as pd\n",
    "import seaborn as sns\n",
    "import matplotlib.pyplot as plt\n",
    "from sklearn.preprocessing import StandardScaler\n",
    "\n",
    "# Loading weather data\n",
    "df_weather = pd.read_parquet('data/df_weather_5_stations.parquet')\n",
    "\n",
    "# HH as string. \n",
    "df_weather['HH'] = df_weather['HH'].astype(str).str.zfill(2)\n",
    "\n",
    "# Merge YYYYMMDD and HH to datetime string\n",
    "df_weather['datetime_str'] = df_weather['YYYYMMDD'].astype(str) + df_weather['HH']\n",
    "\n",
    "# filter for correct rows\n",
    "df_weather = df_weather[df_weather['datetime_str'].str.len() == 10]\n",
    "\n",
    "# change to datetime\n",
    "df_weather['datetime'] = pd.to_datetime(\n",
    "    df_weather['datetime_str'], \n",
    "    format='%Y%m%d%H', \n",
    "    errors='coerce'\n",
    ")\n",
    "\n",
    "# Eventuele mislukte conversies eruit\n",
    "df_weather = df_weather.dropna(subset=['datetime'])\n",
    "\n",
    "# Select relevant columns\n",
    "weather_cols = ['FH','FF','FX','T','T10N','Q','DR','RH','VV','M','R','S','O','Y']\n",
    "df_weather_sel = df_weather[['datetime'] + weather_cols].copy()\n",
    "\n",
    "# Correct units\n",
    "for col in ['FH','FF','FX','T','RH','DR']:\n",
    "    df_weather_sel[col] = df_weather_sel[col] / 10\n",
    "\n",
    "# Load disruptions\n",
    "df_disruptions = pd.read_csv('data/disruptions_filtered_top15_causes.csv')\n",
    "\n",
    "# Unify start times. \n",
    "df_disruptions['start_time'] = pd.to_datetime(df_disruptions['start_time'])\n",
    "df_disruptions['datetime'] = df_disruptions['start_time'].dt.floor('H')\n",
    "\n",
    "# Create pivot table of the disruptions. \n",
    "df_disruptions['flag'] = 1\n",
    "df_disruption_pivot = (\n",
    "    df_disruptions\n",
    "    .pivot_table(\n",
    "        index='datetime',\n",
    "        columns='cause_en',   # English description of cause\n",
    "        values='flag',\n",
    "        aggfunc='sum',        # number of disruptions per hour per type\n",
    "        fill_value=0\n",
    "    )\n",
    "    .reset_index()\n",
    ")\n",
    "\n",
    "# Merge weather and disruptions\n",
    "merged = pd.merge(df_weather_sel, df_disruption_pivot, on='datetime', how='inner')\n",
    "\n",
    "scaler = StandardScaler()\n",
    "merged[weather_cols] = scaler.fit_transform(merged[weather_cols])\n",
    "\n",
    "\n",
    "# Correlation calculations\n",
    "all_cols = merged.columns.tolist()\n",
    "disruption_cols = [c for c in all_cols if c not in weather_cols + ['datetime']]\n",
    "\n",
    "# Spearman correlation \n",
    "corr_matrix = merged.drop(columns=['datetime']).corr(method='spearman')\n",
    "\n",
    "# Weather vs disruption in the matrix.\n",
    "corr_sub = corr_matrix.loc[weather_cols, disruption_cols]\n",
    "\n",
    "# Plot the heatmap\n",
    "plt.figure(figsize=(18, 10))\n",
    "sns.heatmap(\n",
    "    corr_sub,\n",
    "    annot=True,\n",
    "    fmt=\".2f\",\n",
    "    cmap='coolwarm',\n",
    "    linewidths=0.5\n",
    ")\n",
    "plt.title('📊 Correlatie tussen Weersomstandigheden en Treinstoringen per Uur', fontsize=16)\n",
    "plt.xlabel('Disruptietype')\n",
    "plt.ylabel('Weersvariabelen')\n",
    "plt.tight_layout()\n",
    "plt.show()"
   ]
  }
 ],
 "metadata": {
  "kernelspec": {
   "display_name": "TIL6022-25",
   "language": "python",
   "name": "python3"
  },
  "language_info": {
   "codemirror_mode": {
    "name": "ipython",
    "version": 3
   },
   "file_extension": ".py",
   "mimetype": "text/x-python",
   "name": "python",
   "nbconvert_exporter": "python",
   "pygments_lexer": "ipython3",
   "version": "3.12.3"
  },
  "orig_nbformat": 4
 },
 "nbformat": 4,
 "nbformat_minor": 2
}
