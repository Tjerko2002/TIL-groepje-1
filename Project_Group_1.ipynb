{
 "cells": [
  {
   "cell_type": "markdown",
   "metadata": {},
   "source": [
    "# Project Group - \n",
    "\n",
    "Members: Jarrik Algera, Lorenzo Bouman, Jasper IJsselstein, Joep Neelissen, Tjerk Rijkens\n",
    "\n",
    "\n",
    "Student numbers: test"
   ]
  },
  {
   "cell_type": "markdown",
   "metadata": {},
   "source": [
    "# Research Objective\n",
    "\n",
    "*Requires data modeling and quantitative research in Transport, Infrastructure & Logistics*"
   ]
  },
  {
   "cell_type": "markdown",
   "metadata": {},
   "source": [
    "The objective of this project is to examine the relationship between weather conditions and train disruptions in the Netherlands. Railway disruption records are combined with meteorological data to quantify the extent to which factors such as precipitation, wind, and temperature are associated with delays and service interruptions. The analysis aims to establish whether specific weather conditions systematically affect railway performance and to what degree. The geographical scale is limited to the Netherlands, and after initial data cleaning and exploratory analyis a specific corridor is chosen. The temporal scale is 2024. \n",
    "\n",
    "## Main question\n",
    "\n",
    "#### *To what extent do weather conditions influence train disruptions in the Netherlands?*\n",
    "\n",
    "### Sub-questions\n",
    "\n",
    "*Are disruptions more frequent on days with adverse weather compared to days with mild weather?*\n",
    "\n",
    "\n",
    "*Do disruption durations increase under heavy precipitation, strong wind, or temperature extremes?*\n",
    "\n",
    "\n",
    "*Which weather variable shows the strongest association with disruption frequency?*\n",
    "\n",
    "\n",
    "*Are there seasonal differences in how weather affects train disruptions?*\n",
    "\n",
    "\n",
    "*Are there regional variations in the relationship between weather and disruptions?*"
   ]
  },
  {
   "cell_type": "markdown",
   "metadata": {},
   "source": [
    "# Contribution Statement\n",
    "\n",
    "*Be specific. Some of the tasks can be coding (expect everyone to do this), background research, conceptualisation, visualisation, data analysis, data modelling*"
   ]
  },
  {
   "cell_type": "markdown",
   "metadata": {},
   "source": [
    "**Author 1**: N/A\n",
    "\n",
    "**Author 2**: N/A\n",
    "\n",
    "**Author 3**: N/A"
   ]
  },
  {
   "cell_type": "markdown",
   "metadata": {},
   "source": [
    "# Data Used"
   ]
  },
  {
   "cell_type": "markdown",
   "metadata": {},
   "source": [
    "## Datasets\n",
    "\n",
    "Two primary datasets are available for this study. The first dataset contains records of train disruptions in the Netherlands between 2011 and 2024. Each record provides details on the type of disruption (for example staffing problems or a signal failure), its duration, the time of occurrence, and the affected trajectory (for example Eindhoven - Venlo, Nijmegen - Venlo). This dataset represents the dependent variable, as it directly reflects railway system performance. The dataset is obtained from Rijden de Treinen (https://www.rijdendetreinen.nl/open-data/treinstoringen#downloads). It is important to realize that not every train that is delayed or cancelled is communicated by NS as a disruption; the rule of thumb that NS uses is that a disruption is communicated when multiple trains are delayed or cancelled (i.e. a major impact of the train service). The dataset is provided as a .csv file.\n",
    "\n",
    "The second dataset is derived from the Royal Netherlands Meteorological Institute (KNMI) (https://www.daggegevens.knmi.nl/klimatologie/uurgegevens) and provides hourly weather observations. It includes variables such as precipitation intensity, temperature, and wind speed and direction. Not every weather station measures all these variables. Therefore, it is necessary to make a selection of usable stations. These variables serve as independent factors to explain variation in railway disruptions."
   ]
  },
  {
   "cell_type": "markdown",
   "metadata": {},
   "source": [
    "# Data Pipeline"
   ]
  },
  {
   "cell_type": "markdown",
   "metadata": {},
   "source": [
    "## Intended Data Analysis Pipeline\n",
    "\n",
    "### The planned analysis will follow several stages:\n",
    "\n",
    "The planned analysis will follow several stages:\n",
    "\n",
    "##### 1. Data cleaning and preparation\n",
    "- Align disruption data with corresponding weather observations based on time and location. Thus should be executed on an hourly basis for proper comparison. \n",
    "- Filter data to dataframe of weather data in 2024. \n",
    "- Base data from weather stations on chosen train trajectory. \n",
    "- Filter through weather stations to exclude stations without rain and temperature measurements.\n",
    "- Choose appropriate parameters related to the weather data to use in analysis\n",
    "\n",
    "\n",
    "##### 2. Exploratory analysis\n",
    "- Compute descriptive statistics for disruption frequency and duration.\n",
    "- Visualize weather variables alongside disruptions to detect initial patterns.\n",
    "\n",
    "##### 3. Correlation analysis\n",
    "- Assess associations between weather conditions and disruption frequency or duration.\n",
    "\n",
    "##### 4. Modeling\n",
    "- Apply regression models to estimate the effect of precipitation, wind, and temperature on disruption likelihood and duration.\n",
    "- Investigate seasonal and regional variation in the relationship between weather and disruptions.\n",
    "\n",
    "##### 5. Evaluation and visualization\n",
    "- Present results using time series plots, scatterplots, and heatmaps, alongside statistical measures.\n"
   ]
  },
  {
   "cell_type": "code",
   "execution_count": 2,
   "metadata": {},
   "outputs": [],
   "source": [
    "%run load_weather_data\n"
   ]
  },
  {
   "cell_type": "code",
   "execution_count": 3,
   "metadata": {},
   "outputs": [
    {
     "name": "stdout",
     "output_type": "stream",
     "text": [
      "   STN  LON(east)  LAT(north)  ALT(m)                NAME\n",
      "2  215      4.437      52.141    -1.1         Voorschoten\n",
      "4  235      4.781      52.928     1.2             De Kooy\n",
      "5  240      4.790      52.318    -3.3            Schiphol\n",
      "8  249      4.979      52.644    -2.4            Berkhout\n",
      "9  251      5.346      53.392     0.7  Hoorn Terschelling\n"
     ]
    },
    {
     "data": {
      "application/vnd.plotly.v1+json": {
       "config": {
        "plotlyServerURL": "https://plot.ly"
       },
       "data": [
        {
         "customdata": {
          "bdata": "1wDrAPAA+QD7AAQBCwENAQ4BEQETARcBGAEiATYBPwFUAVgBXAFeAXIBdwF5AXwB",
          "dtype": "i2",
          "shape": "24, 1"
         },
         "hovertemplate": "<b>%{hovertext}</b><br><br>LAT(north)=%{lat}<br>LON(east)=%{lon}<br>STN=%{customdata[0]}<extra></extra>",
         "hovertext": [
          "Voorschoten",
          "De Kooy",
          "Schiphol",
          "Berkhout",
          "Hoorn Terschelling",
          "De Bilt",
          "Stavoren",
          "Lelystad",
          "Leeuwarden",
          "Marknesse",
          "Deelen",
          "Hoogeveen",
          "Eelde",
          "Twenthe",
          "Vlissingen",
          "Westdorpe",
          "Woensdrecht",
          "Rotterdam",
          "Cabauw Mast",
          "Gilze-Rijen",
          "Eindhoven",
          "Volkel",
          "Ell",
          "Maastricht"
         ],
         "lat": {
          "bdata": "NV66SQwSSkAQWDm0yHZKQGIQWDm0KEpA30+Nl25SSkAZBFYOLbJKQM3MzMzMDEpAbef7qfFySkC0yHa+nzpKQOkmMQisnEpARIts5/tZSkC6SQwCKwdKQAAAAAAAYEpAAAAAAACQSkBQjZduEiNKQH9qvHSTuElAsHJoke2cSUC28/3UeLlJQEJg5dAi+0lAXI/C9Sj8SUCcxCCwcshJQH0/NV66uUlAMQisHFrUSUDTTWIQWJlJQIcW2c73c0lA",
          "dtype": "f8"
         },
         "legendgroup": "",
         "lon": {
          "bdata": "c2iR7Xy/EUA5tMh2vh8TQClcj8L1KBNA0SLb+X7qE0D8qfHSTWIVQLgehetRuBRA8KfGSzeJFUAUrkfhehQWQDVeukkMAhdAWmQ730+NF0DLoUW2830XQLKd76fGSxpA16NwPQpXGkCq8dJNYpAbQPhT46WbxAxAF9nO91PjDkCR7Xw/NV4RQH0/NV66yRFATmIQWDm0E0BYObTIdr4TQDVeukkMghVAhxbZzvfTFkBaZDvfTw0XQD81XrpJDBdA",
          "dtype": "f8"
         },
         "marker": {
          "color": "blue"
         },
         "mode": "markers",
         "name": "",
         "showlegend": false,
         "subplot": "map",
         "type": "scattermap"
        }
       ],
       "layout": {
        "legend": {
         "tracegroupgap": 0
        },
        "map": {
         "center": {
          "lat": 52.160000000000004,
          "lon": 5.279041666666667
         },
         "domain": {
          "x": [
           0,
           1
          ],
          "y": [
           0,
           1
          ]
         },
         "zoom": 7
        },
        "mapbox": {
         "center": {
          "lat": 52.160000000000004,
          "lon": 5.279041666666667
         },
         "style": "open-street-map",
         "zoom": 7
        },
        "margin": {
         "b": 0,
         "l": 0,
         "r": 0,
         "t": 40
        },
        "template": {
         "data": {
          "bar": [
           {
            "error_x": {
             "color": "#2a3f5f"
            },
            "error_y": {
             "color": "#2a3f5f"
            },
            "marker": {
             "line": {
              "color": "#E5ECF6",
              "width": 0.5
             },
             "pattern": {
              "fillmode": "overlay",
              "size": 10,
              "solidity": 0.2
             }
            },
            "type": "bar"
           }
          ],
          "barpolar": [
           {
            "marker": {
             "line": {
              "color": "#E5ECF6",
              "width": 0.5
             },
             "pattern": {
              "fillmode": "overlay",
              "size": 10,
              "solidity": 0.2
             }
            },
            "type": "barpolar"
           }
          ],
          "carpet": [
           {
            "aaxis": {
             "endlinecolor": "#2a3f5f",
             "gridcolor": "white",
             "linecolor": "white",
             "minorgridcolor": "white",
             "startlinecolor": "#2a3f5f"
            },
            "baxis": {
             "endlinecolor": "#2a3f5f",
             "gridcolor": "white",
             "linecolor": "white",
             "minorgridcolor": "white",
             "startlinecolor": "#2a3f5f"
            },
            "type": "carpet"
           }
          ],
          "choropleth": [
           {
            "colorbar": {
             "outlinewidth": 0,
             "ticks": ""
            },
            "type": "choropleth"
           }
          ],
          "contour": [
           {
            "colorbar": {
             "outlinewidth": 0,
             "ticks": ""
            },
            "colorscale": [
             [
              0,
              "#0d0887"
             ],
             [
              0.1111111111111111,
              "#46039f"
             ],
             [
              0.2222222222222222,
              "#7201a8"
             ],
             [
              0.3333333333333333,
              "#9c179e"
             ],
             [
              0.4444444444444444,
              "#bd3786"
             ],
             [
              0.5555555555555556,
              "#d8576b"
             ],
             [
              0.6666666666666666,
              "#ed7953"
             ],
             [
              0.7777777777777778,
              "#fb9f3a"
             ],
             [
              0.8888888888888888,
              "#fdca26"
             ],
             [
              1,
              "#f0f921"
             ]
            ],
            "type": "contour"
           }
          ],
          "contourcarpet": [
           {
            "colorbar": {
             "outlinewidth": 0,
             "ticks": ""
            },
            "type": "contourcarpet"
           }
          ],
          "heatmap": [
           {
            "colorbar": {
             "outlinewidth": 0,
             "ticks": ""
            },
            "colorscale": [
             [
              0,
              "#0d0887"
             ],
             [
              0.1111111111111111,
              "#46039f"
             ],
             [
              0.2222222222222222,
              "#7201a8"
             ],
             [
              0.3333333333333333,
              "#9c179e"
             ],
             [
              0.4444444444444444,
              "#bd3786"
             ],
             [
              0.5555555555555556,
              "#d8576b"
             ],
             [
              0.6666666666666666,
              "#ed7953"
             ],
             [
              0.7777777777777778,
              "#fb9f3a"
             ],
             [
              0.8888888888888888,
              "#fdca26"
             ],
             [
              1,
              "#f0f921"
             ]
            ],
            "type": "heatmap"
           }
          ],
          "histogram": [
           {
            "marker": {
             "pattern": {
              "fillmode": "overlay",
              "size": 10,
              "solidity": 0.2
             }
            },
            "type": "histogram"
           }
          ],
          "histogram2d": [
           {
            "colorbar": {
             "outlinewidth": 0,
             "ticks": ""
            },
            "colorscale": [
             [
              0,
              "#0d0887"
             ],
             [
              0.1111111111111111,
              "#46039f"
             ],
             [
              0.2222222222222222,
              "#7201a8"
             ],
             [
              0.3333333333333333,
              "#9c179e"
             ],
             [
              0.4444444444444444,
              "#bd3786"
             ],
             [
              0.5555555555555556,
              "#d8576b"
             ],
             [
              0.6666666666666666,
              "#ed7953"
             ],
             [
              0.7777777777777778,
              "#fb9f3a"
             ],
             [
              0.8888888888888888,
              "#fdca26"
             ],
             [
              1,
              "#f0f921"
             ]
            ],
            "type": "histogram2d"
           }
          ],
          "histogram2dcontour": [
           {
            "colorbar": {
             "outlinewidth": 0,
             "ticks": ""
            },
            "colorscale": [
             [
              0,
              "#0d0887"
             ],
             [
              0.1111111111111111,
              "#46039f"
             ],
             [
              0.2222222222222222,
              "#7201a8"
             ],
             [
              0.3333333333333333,
              "#9c179e"
             ],
             [
              0.4444444444444444,
              "#bd3786"
             ],
             [
              0.5555555555555556,
              "#d8576b"
             ],
             [
              0.6666666666666666,
              "#ed7953"
             ],
             [
              0.7777777777777778,
              "#fb9f3a"
             ],
             [
              0.8888888888888888,
              "#fdca26"
             ],
             [
              1,
              "#f0f921"
             ]
            ],
            "type": "histogram2dcontour"
           }
          ],
          "mesh3d": [
           {
            "colorbar": {
             "outlinewidth": 0,
             "ticks": ""
            },
            "type": "mesh3d"
           }
          ],
          "parcoords": [
           {
            "line": {
             "colorbar": {
              "outlinewidth": 0,
              "ticks": ""
             }
            },
            "type": "parcoords"
           }
          ],
          "pie": [
           {
            "automargin": true,
            "type": "pie"
           }
          ],
          "scatter": [
           {
            "fillpattern": {
             "fillmode": "overlay",
             "size": 10,
             "solidity": 0.2
            },
            "type": "scatter"
           }
          ],
          "scatter3d": [
           {
            "line": {
             "colorbar": {
              "outlinewidth": 0,
              "ticks": ""
             }
            },
            "marker": {
             "colorbar": {
              "outlinewidth": 0,
              "ticks": ""
             }
            },
            "type": "scatter3d"
           }
          ],
          "scattercarpet": [
           {
            "marker": {
             "colorbar": {
              "outlinewidth": 0,
              "ticks": ""
             }
            },
            "type": "scattercarpet"
           }
          ],
          "scattergeo": [
           {
            "marker": {
             "colorbar": {
              "outlinewidth": 0,
              "ticks": ""
             }
            },
            "type": "scattergeo"
           }
          ],
          "scattergl": [
           {
            "marker": {
             "colorbar": {
              "outlinewidth": 0,
              "ticks": ""
             }
            },
            "type": "scattergl"
           }
          ],
          "scattermap": [
           {
            "marker": {
             "colorbar": {
              "outlinewidth": 0,
              "ticks": ""
             }
            },
            "type": "scattermap"
           }
          ],
          "scattermapbox": [
           {
            "marker": {
             "colorbar": {
              "outlinewidth": 0,
              "ticks": ""
             }
            },
            "type": "scattermapbox"
           }
          ],
          "scatterpolar": [
           {
            "marker": {
             "colorbar": {
              "outlinewidth": 0,
              "ticks": ""
             }
            },
            "type": "scatterpolar"
           }
          ],
          "scatterpolargl": [
           {
            "marker": {
             "colorbar": {
              "outlinewidth": 0,
              "ticks": ""
             }
            },
            "type": "scatterpolargl"
           }
          ],
          "scatterternary": [
           {
            "marker": {
             "colorbar": {
              "outlinewidth": 0,
              "ticks": ""
             }
            },
            "type": "scatterternary"
           }
          ],
          "surface": [
           {
            "colorbar": {
             "outlinewidth": 0,
             "ticks": ""
            },
            "colorscale": [
             [
              0,
              "#0d0887"
             ],
             [
              0.1111111111111111,
              "#46039f"
             ],
             [
              0.2222222222222222,
              "#7201a8"
             ],
             [
              0.3333333333333333,
              "#9c179e"
             ],
             [
              0.4444444444444444,
              "#bd3786"
             ],
             [
              0.5555555555555556,
              "#d8576b"
             ],
             [
              0.6666666666666666,
              "#ed7953"
             ],
             [
              0.7777777777777778,
              "#fb9f3a"
             ],
             [
              0.8888888888888888,
              "#fdca26"
             ],
             [
              1,
              "#f0f921"
             ]
            ],
            "type": "surface"
           }
          ],
          "table": [
           {
            "cells": {
             "fill": {
              "color": "#EBF0F8"
             },
             "line": {
              "color": "white"
             }
            },
            "header": {
             "fill": {
              "color": "#C8D4E3"
             },
             "line": {
              "color": "white"
             }
            },
            "type": "table"
           }
          ]
         },
         "layout": {
          "annotationdefaults": {
           "arrowcolor": "#2a3f5f",
           "arrowhead": 0,
           "arrowwidth": 1
          },
          "autotypenumbers": "strict",
          "coloraxis": {
           "colorbar": {
            "outlinewidth": 0,
            "ticks": ""
           }
          },
          "colorscale": {
           "diverging": [
            [
             0,
             "#8e0152"
            ],
            [
             0.1,
             "#c51b7d"
            ],
            [
             0.2,
             "#de77ae"
            ],
            [
             0.3,
             "#f1b6da"
            ],
            [
             0.4,
             "#fde0ef"
            ],
            [
             0.5,
             "#f7f7f7"
            ],
            [
             0.6,
             "#e6f5d0"
            ],
            [
             0.7,
             "#b8e186"
            ],
            [
             0.8,
             "#7fbc41"
            ],
            [
             0.9,
             "#4d9221"
            ],
            [
             1,
             "#276419"
            ]
           ],
           "sequential": [
            [
             0,
             "#0d0887"
            ],
            [
             0.1111111111111111,
             "#46039f"
            ],
            [
             0.2222222222222222,
             "#7201a8"
            ],
            [
             0.3333333333333333,
             "#9c179e"
            ],
            [
             0.4444444444444444,
             "#bd3786"
            ],
            [
             0.5555555555555556,
             "#d8576b"
            ],
            [
             0.6666666666666666,
             "#ed7953"
            ],
            [
             0.7777777777777778,
             "#fb9f3a"
            ],
            [
             0.8888888888888888,
             "#fdca26"
            ],
            [
             1,
             "#f0f921"
            ]
           ],
           "sequentialminus": [
            [
             0,
             "#0d0887"
            ],
            [
             0.1111111111111111,
             "#46039f"
            ],
            [
             0.2222222222222222,
             "#7201a8"
            ],
            [
             0.3333333333333333,
             "#9c179e"
            ],
            [
             0.4444444444444444,
             "#bd3786"
            ],
            [
             0.5555555555555556,
             "#d8576b"
            ],
            [
             0.6666666666666666,
             "#ed7953"
            ],
            [
             0.7777777777777778,
             "#fb9f3a"
            ],
            [
             0.8888888888888888,
             "#fdca26"
            ],
            [
             1,
             "#f0f921"
            ]
           ]
          },
          "colorway": [
           "#636efa",
           "#EF553B",
           "#00cc96",
           "#ab63fa",
           "#FFA15A",
           "#19d3f3",
           "#FF6692",
           "#B6E880",
           "#FF97FF",
           "#FECB52"
          ],
          "font": {
           "color": "#2a3f5f"
          },
          "geo": {
           "bgcolor": "white",
           "lakecolor": "white",
           "landcolor": "#E5ECF6",
           "showlakes": true,
           "showland": true,
           "subunitcolor": "white"
          },
          "hoverlabel": {
           "align": "left"
          },
          "hovermode": "closest",
          "mapbox": {
           "style": "light"
          },
          "paper_bgcolor": "white",
          "plot_bgcolor": "#E5ECF6",
          "polar": {
           "angularaxis": {
            "gridcolor": "white",
            "linecolor": "white",
            "ticks": ""
           },
           "bgcolor": "#E5ECF6",
           "radialaxis": {
            "gridcolor": "white",
            "linecolor": "white",
            "ticks": ""
           }
          },
          "scene": {
           "xaxis": {
            "backgroundcolor": "#E5ECF6",
            "gridcolor": "white",
            "gridwidth": 2,
            "linecolor": "white",
            "showbackground": true,
            "ticks": "",
            "zerolinecolor": "white"
           },
           "yaxis": {
            "backgroundcolor": "#E5ECF6",
            "gridcolor": "white",
            "gridwidth": 2,
            "linecolor": "white",
            "showbackground": true,
            "ticks": "",
            "zerolinecolor": "white"
           },
           "zaxis": {
            "backgroundcolor": "#E5ECF6",
            "gridcolor": "white",
            "gridwidth": 2,
            "linecolor": "white",
            "showbackground": true,
            "ticks": "",
            "zerolinecolor": "white"
           }
          },
          "shapedefaults": {
           "line": {
            "color": "#2a3f5f"
           }
          },
          "ternary": {
           "aaxis": {
            "gridcolor": "white",
            "linecolor": "white",
            "ticks": ""
           },
           "baxis": {
            "gridcolor": "white",
            "linecolor": "white",
            "ticks": ""
           },
           "bgcolor": "#E5ECF6",
           "caxis": {
            "gridcolor": "white",
            "linecolor": "white",
            "ticks": ""
           }
          },
          "title": {
           "x": 0.05
          },
          "xaxis": {
           "automargin": true,
           "gridcolor": "white",
           "linecolor": "white",
           "ticks": "",
           "title": {
            "standoff": 15
           },
           "zerolinecolor": "white",
           "zerolinewidth": 2
          },
          "yaxis": {
           "automargin": true,
           "gridcolor": "white",
           "linecolor": "white",
           "ticks": "",
           "title": {
            "standoff": 15
           },
           "zerolinecolor": "white",
           "zerolinewidth": 2
          }
         }
        },
        "title": {
         "text": "Weather Stations in the Netherlands"
        }
       }
      }
     },
     "metadata": {},
     "output_type": "display_data"
    }
   ],
   "source": [
    "import pandas as pd\n",
    "import plotly.express as px\n",
    "import os\n",
    "\n",
    "df_stations = pd.read_parquet(os.path.join(os.getcwd(),r\"data\\df_stations.parquet\"))\n",
    "print(df_stations.head())\n",
    "\n",
    "fig = px.scatter_map(\n",
    "    df_stations,\n",
    "    lat=\"LAT(north)\",\n",
    "    lon=\"LON(east)\",\n",
    "    hover_name=\"NAME\",        # Column to appear in bold in the hover tooltip\n",
    "    hover_data=[\"STN\"],       # Additional data to appear in the tooltip\n",
    "    color_discrete_sequence=[\"blue\"], # Set marker color\n",
    "    zoom=7,                   # Initial map zoom level\n",
    "    title=\"Weather Stations in the Netherlands\"\n",
    ")\n",
    "\n",
    "fig.update_layout(\n",
    "    mapbox_style=\"open-street-map\",\n",
    "    margin={\"r\":0, \"t\":40, \"l\":0, \"b\":0} # Adjust margins\n",
    ")\n",
    "\n",
    "# 4. Show the figure\n",
    "fig.show()\n"
   ]
  },
  {
   "cell_type": "markdown",
   "metadata": {},
   "source": [
    "Schiphol, De Bilt, Cabauw Mast, Rotterdam, Voorschoten\n"
   ]
  },
  {
   "cell_type": "code",
   "execution_count": 4,
   "metadata": {},
   "outputs": [
    {
     "name": "stdout",
     "output_type": "stream",
     "text": [
      "The 3 closest stations to your location are:\n",
      "          NAME  STN  distance_km  Temperature_C  Wind_Speed_kmh\n",
      "0  Voorschoten  215    24.483698           15.2              22\n",
      "2     Schiphol  240    48.886385           15.5              25\n",
      "5      De Bilt  260    52.014654           15.6              19\n",
      "--------------------------------------------------\n",
      "Interpolated weather data for your location:\n",
      "Estimated Temperature: 15.37°C\n",
      "Estimated Wind Speed: 22.05 km/h\n"
     ]
    }
   ],
   "source": [
    "import pandas as pd\n",
    "from geopy.distance import geodesic\n",
    "import numpy as np\n",
    "import os\n",
    "\n",
    "# 1. Sample DataFrame with station locations and weather data\n",
    "#    (Replace with your actual DataFrame)\n",
    "data = {\n",
    "    'STN': [215, 235, 240, 249, 251, 260, 267],\n",
    "    'LON(east)': [4.437, 4.781, 4.790, 4.979, 5.346, 5.180, 5.384],\n",
    "    'LAT(north)': [52.141, 52.928, 52.318, 52.644, 53.392, 52.100, 52.898],\n",
    "    'NAME': ['Voorschoten', 'De Kooy', 'Schiphol', 'Berkhout', 'Hoorn Terschelling', 'De Bilt', 'Stavoren'],\n",
    "    'Temperature_C': [15.2, 14.8, 15.5, 14.9, 14.1, 15.6, 14.5],\n",
    "    'Wind_Speed_kmh': [22, 28, 25, 26, 35, 19, 30]\n",
    "}\n",
    "df_stations = pd.DataFrame(data)\n",
    "\n",
    "\n",
    "\n",
    "\n",
    "def find_closest_stations(input_lat, input_lon, stations_df):\n",
    "    \"\"\"Finds the 3 closest weather stations to a given lat/lon point.\"\"\"\n",
    "    input_location = (input_lat, input_lon)\n",
    "    \n",
    "    distances = stations_df.apply(\n",
    "        lambda row: geodesic(input_location, (row['LAT(north)'], row['LON(east)'])).km,\n",
    "        axis=1\n",
    "    )\n",
    "    \n",
    "    df_with_dist = stations_df.copy()\n",
    "    df_with_dist['distance_km'] = distances\n",
    "    \n",
    "    return df_with_dist.sort_values('distance_km').head(3)\n",
    "\n",
    "\n",
    "def get_weighted_average_weather(closest_stations_df):\n",
    "    \"\"\"\n",
    "    Calculates the weighted average of weather data from the closest stations\n",
    "    using Inverse Distance Weighting (IDW).\n",
    "    \n",
    "    Returns:\n",
    "        A dictionary with the interpolated weather data.\n",
    "    \"\"\"\n",
    "    # Handle the edge case where the location is exactly at a station\n",
    "    if closest_stations_df['distance_km'].iloc[0] < 0.01: # less than 10 meters\n",
    "        # Return the data from the first station directly\n",
    "        first_station = closest_stations_df.iloc[0]\n",
    "        weather_cols = ['Temperature_C', 'Wind_Speed_kmh'] # Define weather columns\n",
    "        return first_station[weather_cols].to_dict()\n",
    "\n",
    "    # Calculate inverse distance weights\n",
    "    weights = 1 / closest_stations_df['distance_km']\n",
    "    sum_of_weights = np.sum(weights)\n",
    "    \n",
    "    weighted_averages = {}\n",
    "    \n",
    "    # Iterate through the weather data columns to calculate the weighted average\n",
    "    weather_cols_to_average = ['Temperature_C', 'Wind_Speed_kmh']\n",
    "    \n",
    "    for col in weather_cols_to_average:\n",
    "        weighted_sum = np.sum(closest_stations_df[col] * weights)\n",
    "        weighted_average = weighted_sum / sum_of_weights\n",
    "        weighted_averages[col] = weighted_average\n",
    "        \n",
    "    return weighted_averages\n",
    "\n",
    "\n",
    "# --- EXAMPLE USAGE ---\n",
    "\n",
    "# 1. Manually enter a location (e.g., Rotterdam Centraal)\n",
    "my_lat = 51.9225\n",
    "my_lon = 4.47917\n",
    "\n",
    "# 2. Find the 3 closest stations\n",
    "closest_stations = find_closest_stations(my_lat, my_lon, df_stations)\n",
    "\n",
    "print(\"The 3 closest stations to your location are:\")\n",
    "print(closest_stations[['NAME', 'STN', 'distance_km', 'Temperature_C', 'Wind_Speed_kmh']])\n",
    "print(\"-\" * 50)\n",
    "\n",
    "# 3. Calculate and display the interpolated weather data for that location\n",
    "interpolated_weather = get_weighted_average_weather(closest_stations)\n",
    "\n",
    "print(\"Interpolated weather data for your location:\")\n",
    "print(f\"Estimated Temperature: {interpolated_weather['Temperature_C']:.2f}°C\")\n",
    "print(f\"Estimated Wind Speed: {interpolated_weather['Wind_Speed_kmh']:.2f} km/h\")"
   ]
  },
  {
   "cell_type": "code",
   "execution_count": 5,
   "metadata": {},
   "outputs": [
    {
     "name": "stderr",
     "output_type": "stream",
     "text": [
      "C:\\Users\\tjrij\\Documents\\TIL-groepje-1\\plot_train_stations.py:63: DeprecationWarning:\n",
      "\n",
      "*scattermapbox* is deprecated! Use *scattermap* instead. Learn more at: https://plotly.com/python/mapbox-to-maplibre/\n",
      "\n",
      "C:\\Users\\tjrij\\Documents\\TIL-groepje-1\\plot_train_stations.py:77: DeprecationWarning:\n",
      "\n",
      "*scattermapbox* is deprecated! Use *scattermap* instead. Learn more at: https://plotly.com/python/mapbox-to-maplibre/\n",
      "\n"
     ]
    },
    {
     "data": {
      "application/vnd.plotly.v1+json": {
       "config": {
        "plotlyServerURL": "https://plot.ly"
       },
       "data": [
        {
         "hoverinfo": "text",
         "lat": {
          "bdata": "NV66SQwSSkAQWDm0yHZKQGIQWDm0KEpA30+Nl25SSkAZBFYOLbJKQM3MzMzMDEpAbef7qfFySkC0yHa+nzpKQOkmMQisnEpARIts5/tZSkC6SQwCKwdKQAAAAAAAYEpAAAAAAACQSkBQjZduEiNKQH9qvHSTuElAsHJoke2cSUC28/3UeLlJQEJg5dAi+0lAXI/C9Sj8SUCcxCCwcshJQH0/NV66uUlAMQisHFrUSUDTTWIQWJlJQIcW2c73c0lA",
          "dtype": "f8"
         },
         "lon": {
          "bdata": "c2iR7Xy/EUA5tMh2vh8TQClcj8L1KBNA0SLb+X7qE0D8qfHSTWIVQLgehetRuBRA8KfGSzeJFUAUrkfhehQWQDVeukkMAhdAWmQ730+NF0DLoUW2830XQLKd76fGSxpA16NwPQpXGkCq8dJNYpAbQPhT46WbxAxAF9nO91PjDkCR7Xw/NV4RQH0/NV66yRFATmIQWDm0E0BYObTIdr4TQDVeukkMghVAhxbZzvfTFkBaZDvfTw0XQD81XrpJDBdA",
          "dtype": "f8"
         },
         "marker": {
          "color": "blue",
          "size": 10
         },
         "mode": "markers",
         "name": "Weather Stations",
         "text": [
          "Voorschoten",
          "De Kooy",
          "Schiphol",
          "Berkhout",
          "Hoorn Terschelling",
          "De Bilt",
          "Stavoren",
          "Lelystad",
          "Leeuwarden",
          "Marknesse",
          "Deelen",
          "Hoogeveen",
          "Eelde",
          "Twenthe",
          "Vlissingen",
          "Westdorpe",
          "Woensdrecht",
          "Rotterdam",
          "Cabauw Mast",
          "Gilze-Rijen",
          "Eindhoven",
          "Volkel",
          "Ell",
          "Maastricht"
         ],
         "type": "scattermapbox"
        },
        {
         "hoverinfo": "text",
         "lat": {
          "bdata": "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",
          "dtype": "f8"
         },
         "lon": {
          "bdata": "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",
          "dtype": "f8"
         },
         "marker": {
          "color": "red",
          "size": 5
         },
         "mode": "markers",
         "name": "Train Stations",
         "text": [
          "'s-Hertogenbosch",
          "'s-Hertogenbosch Oost",
          "'t Harde",
          "Aachen Hbf",
          "Aachen West",
          "Aalten",
          "Abcoude",
          "Ahaus",
          "Aime-la-Plagne",
          "Airport Charles de Gaulle",
          "Aix-en-Provence TGV",
          "Akkrum",
          "Albertville",
          "Alkmaar",
          "Alkmaar Noord",
          "Almelo",
          "Almelo de Riet",
          "Almere Buiten",
          "Almere Centrum",
          "Almere Muziekwijk",
          "Almere Oostvaarders",
          "Almere Parkwijk",
          "Almere Poort",
          "Alphen a/d Rijn",
          "Altenberge",
          "Amersfoort Centraal",
          "Amersfoort Schothorst",
          "Amersfoort Vathorst",
          "Amsterdam Amstel",
          "Amsterdam Bijlmer ArenA",
          "Amsterdam Centraal",
          "Amsterdam Holendrecht",
          "Amsterdam Lelylaan",
          "Amsterdam Muiderpoort",
          "Amsterdam RAI",
          "Amsterdam Science Park",
          "Amsterdam Sloterdijk",
          "Amsterdam Zuid",
          "Amstetten NÖ",
          "Anna Paulowna",
          "Antwerpen-Berchem",
          "Antwerpen-Centraal",
          "Antwerpen-Luchtbal",
          "Antwerpen-Noorderdokken",
          "Antwerpen-Zuid",
          "Apeldoorn",
          "Apeldoorn De Maten",
          "Apeldoorn Osseveld",
          "Appingedam",
          "Arkel",
          "Arnemuiden",
          "Arnhem Centraal",
          "Arnhem Presikhaaf",
          "Arnhem Velperpoort",
          "Arnhem Zuid",
          "Assen",
          "Augsburg Hbf",
          "Avignon TGV",
          "Baarn",
          "Bad Bentheim",
          "Bad Nieuweschans",
          "Bad Oeynhausen",
          "Baden (CH)",
          "Baflo",
          "Barendrecht",
          "Barneveld Centrum",
          "Barneveld Noord",
          "Barneveld Zuid",
          "Basel Bad Bf",
          "Basel SBB",
          "Bedum",
          "Beek-Elsloo",
          "Beesd",
          "Beilen",
          "Belsele",
          "Bergen op Zoom",
          "Berlin Gesundbrunnen",
          "Berlin Hbf",
          "Berlin Ostbahnhof",
          "Berlin-Spandau",
          "Best",
          "Beveren",
          "Beverwijk",
          "Bielefeld Hbf",
          "Bilthoven",
          "Bilzen",
          "Blerick",
          "Bloemendaal",
          "Bodegraven",
          "Boisheim",
          "Bologna Centrale",
          "Bönen",
          "Bonn Hbf",
          "Bonn-Beuel",
          "Boom",
          "Bork (Westf)",
          "Borne",
          "Boskoop",
          "Boskoop Snijdelwijk",
          "Bourg-St-Maurice",
          "Boven-Hardinxveld",
          "Bovenkarspel Flora",
          "Bovenkarspel-Grootebroek",
          "Boxmeer",
          "Boxtel",
          "Breda",
          "Breda-Prinsenbeek",
          "Bressoux",
          "Breukelen",
          "Breyell",
          "Brummen",
          "Brussel-Centraal",
          "Brussel-Noord",
          "Brussel-Zuid Midi",
          "Brussels Airport-Zaventem",
          "Buitenpost",
          "Bunde",
          "Bünde (Westf)",
          "Bunnik",
          "Bussum Zuid",
          "Capelle Schollevaar",
          "Castricum",
          "Chambéry",
          "Chevremont",
          "Coesfeld (Westf)",
          "Coevorden",
          "Como S. Giovanni",
          "Cuijk",
          "Culemborg",
          "Daarlerveen",
          "Dalen",
          "Dalfsen",
          "De Vink",
          "De Westereen",
          "Deinum",
          "Delden",
          "Delft",
          "Delft Campus",
          "Delfzijl",
          "Delfzijl West",
          "Den Dolder",
          "Den Haag Centraal",
          "Den Haag HS",
          "Den Haag Laan v NOI",
          "Den Haag Mariahoeve",
          "Den Haag Moerwijk",
          "Den Haag Ypenburg",
          "Den Helder",
          "Den Helder Zuid",
          "Deurne",
          "Deventer",
          "Deventer Colmschate",
          "Didam",
          "Diemen",
          "Diemen Zuid",
          "Diepenbeek",
          "Dieren",
          "Doetinchem",
          "Doetinchem De Huet",
          "Dordrecht",
          "Dordrecht Stadspolders",
          "Dordrecht Zuid",
          "Dortmund Derne",
          "Dortmund Hbf",
          "Dortmund Kirchderne",
          "Driebergen-Zeist",
          "Driehuis",
          "Dronryp",
          "Dronten",
          "Duisburg Hbf",
          "Duiven",
          "Duivendrecht",
          "Dülken",
          "Dülmen",
          "Düsseldorf Flughafen",
          "Düsseldorf Hbf",
          "Echt",
          "Ede Centrum",
          "Ede-Wageningen",
          "Eemshaven",
          "Eijsden",
          "Eindhoven Centraal",
          "Eindhoven Strijp-S",
          "Ekeren",
          "Elst",
          "Emmen",
          "Emmen Zuid",
          "Emmerich",
          "Emmerich-Elten",
          "Enkhuizen",
          "Ennepetal",
          "Enschede",
          "Enschede De Eschmarke",
          "Enschede Kennispark",
          "Epe (Westf)",
          "Ermelo",
          "Essen",
          "Etten-Leur",
          "Eygelshoven",
          "Eygelshoven Markt",
          "Feanwâlden",
          "Firenze Campo di Marte",
          "Franeker",
          "Frankfurt (M) Hbf",
          "Frankfurt (Main) Süd",
          "Frankfurt Flughafen Fernb",
          "Freiburg (Breisgau) Hbf",
          "Gaanderen",
          "Geldermalsen",
          "Geldrop",
          "Geleen Oost",
          "Geleen-Lutterade",
          "Gent Sint Pieters",
          "Gilze-Rijen",
          "Glanerbrug",
          "Glons",
          "Goes",
          "Goor",
          "Göppingen",
          "Gorinchem",
          "Göteborg Central",
          "Gouda",
          "Gouda Goverwelle",
          "Gramsbergen",
          "Grijpskerk",
          "Gronau (Westf.)",
          "Groningen",
          "Groningen Europapark",
          "Groningen Noord",
          "Grou-Jirnsum",
          "Günzburg",
          "Haarlem",
          "Haarlem Spaarnwoude",
          "Hagen Hbf",
          "Halfweg-Zwanenburg",
          "Hamm (Westf.)",
          "Hannover Hbf",
          "Hardenberg",
          "Harderwijk",
          "Hardinxveld Blauwe Zoom",
          "Hardinxveld-Giessendam",
          "Haren",
          "Harlingen",
          "Harlingen Haven",
          "Hasselt",
          "Heemskerk",
          "Heemstede-Aerdenhout",
          "Heerenveen",
          "Heerenveen IJsstadion",
          "Heerhugowaard",
          "Heerlen",
          "Heerlen Woonboulevard",
          "Heeze",
          "Heide (B)",
          "Heiloo",
          "Heino",
          "Helmond",
          "Helmond 't Hout",
          "Helmond Brandevoort",
          "Helmond Brouwhuis",
          "Hemiksem",
          "Hemmen-Dodewaard",
          "Hengelo",
          "Hengelo Gezondheidspark",
          "Hengelo Oost",
          "Herstal",
          "Herzogenrath",
          "Hillegom",
          "Hilversum",
          "Hilversum Media Park",
          "Hilversum Sportpark",
          "Hindeloopen",
          "Hoboken-Polder",
          "Hoensbroek",
          "Hoevelaken",
          "Hollandsche Rading",
          "Holten",
          "Holzwickede",
          "Hoofddorp",
          "Hoogeveen",
          "Hoogezand-Sappemeer",
          "Hoogkarspel",
          "Hoorn",
          "Hoorn Kersenboogerd",
          "Hopfgarten",
          "Horst-Sevenum",
          "Houten",
          "Houten Castellum",
          "Houthem-St. Gerlach",
          "Hurdegaryp",
          "IJlst",
          "Innsbruck Hbf",
          "Jenbach",
          "Kaldenkirchen",
          "Kalmthout",
          "Kampen",
          "Kampen Zuid",
          "Kapelle-Biezelinge",
          "Kapellen",
          "Karlsruhe Hbf",
          "Kerkrade Centrum",
          "Kesteren",
          "Kijkuit",
          "Klarenbeek",
          "Klimmen-Ransdaal",
          "Koblenz Hbf",
          "Köln Hbf",
          "Köln Messe/Deutz",
          "Köln West",
          "Köln-Ehrenfeld",
          "Köln-Mülheim",
          "Koog aan de Zaan",
          "Koudum-Molkwerum",
          "Københavns Lufthavn St",
          "Krabbendijke",
          "Krommenie-Assendelft",
          "Kropswolde",
          "Kruiningen-Yerseke",
          "Kufstein",
          "Lage Zwaluwe",
          "Landgraaf",
          "Landry",
          "Lansingerland-Zoetermeer",
          "Leer (Ostfriesl)",
          "Leerdam",
          "Leeuwarden",
          "Leeuwarden Camminghaburen",
          "Legden",
          "Leiden Centraal",
          "Leiden Lammenschans",
          "Lelystad Centrum",
          "Lette (Kr Coesfeld)",
          "Leuven",
          "Lichtenvoorde-Groenlo",
          "Liège-Carré",
          "Liège-Guillemins",
          "Liège-Saint-Lambert",
          "Liers",
          "Lille Europe",
          "Limburg Süd",
          "Linz Hbf",
          "Lochem",
          "Lokeren",
          "London St. Pancras Int.",
          "Loppersum",
          "Lüdinghausen",
          "Lünen Hbf",
          "Lunteren",
          "Maarheeze",
          "Maarn",
          "Maarssen",
          "Maastricht",
          "Maastricht Noord",
          "Maastricht Randwyck",
          "Mainz Hbf",
          "Malmö Central",
          "Mannheim Hbf",
          "Mantgum",
          "Mariënberg",
          "Marne-la-Vallée-Chessy",
          "Marseille-St-Charles",
          "Martenshoek",
          "Mechelen",
          "Meerssen",
          "Melsele",
          "Meppel",
          "Metelen Land",
          "Middelburg",
          "Milano Porta Garibaldi",
          "Milmort",
          "Minden (Westf)",
          "Mönchengladbach Hbf",
          "Mook-Molenhoek",
          "Moutiers-Salins-Brides",
          "München Hbf",
          "München Ost",
          "Münster (W) Zentrum Nord",
          "Münster (Westf) Hbf",
          "Münster-Häger",
          "Naarden-Bussum",
          "Neuss Hbf",
          "Niel",
          "Nieuw Amsterdam",
          "Nieuw Vennep",
          "Nieuwerkerk a/d IJssel",
          "Nieuwkerken-Waas",
          "Nijkerk",
          "Nijmegen",
          "Nijmegen Dukenburg",
          "Nijmegen Goffert",
          "Nijmegen Heyendaal",
          "Nijmegen Lent",
          "Nijverdal",
          "Noorderkempen",
          "Nordwalde",
          "Nunspeet",
          "Nürnberg Hbf",
          "Nuth",
          "Obdam",
          "Oberhausen Hbf",
          "Oberhausen-Sterkrade",
          "Ochtrup",
          "Offenburg",
          "Oisterwijk",
          "Oldenzaal",
          "Olst",
          "Ommen",
          "Oosterbeek",
          "Opheusden",
          "Osnabrück Hbf",
          "Oss",
          "Oss West",
          "Oudenbosch",
          "Overveen",
          "Paris-Nord",
          "Passau Hbf",
          "Plochingen",
          "Praest",
          "Preussen",
          "Purmerend",
          "Purmerend Overwhere",
          "Purmerend Weidevenne",
          "Putten",
          "Puurs",
          "Raalte",
          "Ravenstein",
          "Regensburg Hbf",
          "Reuver",
          "Rheden",
          "Rheine",
          "Rhenen",
          "Rijssen",
          "Rijswijk",
          "Rilland-Bath",
          "Roermond",
          "Roodeschool",
          "Roosendaal",
          "Rosendahl-Holtwick",
          "Rosenheim",
          "Rosmalen",
          "Rotterdam Alexander",
          "Rotterdam Blaak",
          "Rotterdam Centraal",
          "Rotterdam Lombardijen",
          "Rotterdam Noord",
          "Rotterdam Stadion",
          "Rotterdam Zuid",
          "Ruisbroek-Sauvegarde",
          "Ruurlo",
          "Salzburg Hbf",
          "Santpoort Noord",
          "Santpoort Zuid",
          "Sassenheim",
          "Sauwerd",
          "Schagen",
          "Scheemda",
          "Schelle",
          "Schiedam Centrum",
          "Schin op Geul",
          "Schinnen",
          "Schiphol Airport",
          "Schwelm",
          "Schwerte (Ruhr)",
          "Selm",
          "Selm-Beifang",
          "Siegburg/Bonn",
          "Sinaai",
          "Sint-Mariaburg",
          "Sint-Niklaas",
          "Sittard",
          "Sliedrecht",
          "Sliedrecht Baanhoek",
          "Sneek",
          "Sneek Noord",
          "Soest",
          "Soest Zuid",
          "Soestdijk",
          "Spaubeek",
          "St.Pölten Hbf",
          "Stavoren",
          "Stedum",
          "Steenwijk",
          "Steinfurt-Borghorst",
          "Steinfurt-Burgsteinfurt",
          "Steinfurt-Grottenkamp",
          "Stendal",
          "Stuttgart Hbf",
          "Susteren",
          "Swalmen",
          "Tegelen",
          "Terborg",
          "Tiel",
          "Tiel Passewaaij",
          "Tilburg",
          "Tilburg Reeshof",
          "Tilburg Universiteit",
          "Tongeren",
          "Troisdorf",
          "Twello",
          "Uitgeest",
          "Uithuizen",
          "Uithuizermeeden",
          "Ulm Hbf",
          "Unna",
          "Usquert",
          "Utrecht Centraal",
          "Utrecht Leidsche Rijn",
          "Utrecht Lunetten",
          "Utrecht Maliebaan",
          "Utrecht Overvecht",
          "Utrecht Terwijde",
          "Utrecht Vaartsche Rijn",
          "Utrecht Zuilen",
          "Valence TGV",
          "Valkenburg",
          "Varsseveld",
          "Veendam",
          "Veenendaal Centrum",
          "Veenendaal West",
          "Veenendaal-De Klomp",
          "Velp",
          "Venezia Santa Lucia",
          "Venlo",
          "Venray",
          "Vierlingsbeek",
          "Viersen",
          "Visé",
          "Vleuten",
          "Vlissingen",
          "Vlissingen Souburg",
          "Voerendaal",
          "Voorburg",
          "Voorhout",
          "Voorschoten",
          "Voorst-Empe",
          "Vorden",
          "Vriezenveen",
          "Vroomshoop",
          "Vught",
          "Waddinxveen",
          "Waddinxveen Noord",
          "Waddinxveen Triangel",
          "Warffum",
          "Weener",
          "Weert",
          "Weesp",
          "Wehl",
          "Wels Hbf",
          "Wesel",
          "Westervoort",
          "Wezep",
          "Wien Hbf",
          "Wien Hütteldorf",
          "Wierden",
          "Wijchen",
          "Wijhe",
          "Wildert",
          "Winschoten",
          "Winsum",
          "Winterswijk",
          "Winterswijk West",
          "Woerden",
          "Wolfheze",
          "Wolfsburg Hbf",
          "Wolvega",
          "Wörgl",
          "Workum",
          "Wormerveer",
          "Wuppertal Hbf",
          "Wuppertal-Barmen",
          "Wuppertal-Oberbarmen",
          "Wuppertal-Vohwinkel",
          "Würzburg Hbf",
          "Zaandam",
          "Zaandam Kogerveld",
          "Zaandijk Zaanse Schans",
          "Zaltbommel",
          "Zandvoort aan Zee",
          "Zetten-Andelst",
          "Zevenaar",
          "Zevenbergen",
          "Zoetermeer",
          "Zoetermeer Oost",
          "Zuidbroek",
          "Zuidhorn",
          "Zürich HB",
          "Zutphen",
          "Zwijndrecht",
          "Zwijndrecht (B)",
          "Zwolle",
          "Zwolle Stadshagen"
         ],
         "type": "scattermapbox"
        }
       ],
       "layout": {
        "legend": {
         "x": 0.01,
         "xanchor": "left",
         "y": 0.99,
         "yanchor": "top"
        },
        "mapbox": {
         "center": {
          "lat": 52.3,
          "lon": 5.5
         },
         "style": "open-street-map",
         "zoom": 7
        },
        "margin": {
         "b": 0,
         "l": 0,
         "r": 0,
         "t": 40
        },
        "template": {
         "data": {
          "bar": [
           {
            "error_x": {
             "color": "#2a3f5f"
            },
            "error_y": {
             "color": "#2a3f5f"
            },
            "marker": {
             "line": {
              "color": "#E5ECF6",
              "width": 0.5
             },
             "pattern": {
              "fillmode": "overlay",
              "size": 10,
              "solidity": 0.2
             }
            },
            "type": "bar"
           }
          ],
          "barpolar": [
           {
            "marker": {
             "line": {
              "color": "#E5ECF6",
              "width": 0.5
             },
             "pattern": {
              "fillmode": "overlay",
              "size": 10,
              "solidity": 0.2
             }
            },
            "type": "barpolar"
           }
          ],
          "carpet": [
           {
            "aaxis": {
             "endlinecolor": "#2a3f5f",
             "gridcolor": "white",
             "linecolor": "white",
             "minorgridcolor": "white",
             "startlinecolor": "#2a3f5f"
            },
            "baxis": {
             "endlinecolor": "#2a3f5f",
             "gridcolor": "white",
             "linecolor": "white",
             "minorgridcolor": "white",
             "startlinecolor": "#2a3f5f"
            },
            "type": "carpet"
           }
          ],
          "choropleth": [
           {
            "colorbar": {
             "outlinewidth": 0,
             "ticks": ""
            },
            "type": "choropleth"
           }
          ],
          "contour": [
           {
            "colorbar": {
             "outlinewidth": 0,
             "ticks": ""
            },
            "colorscale": [
             [
              0,
              "#0d0887"
             ],
             [
              0.1111111111111111,
              "#46039f"
             ],
             [
              0.2222222222222222,
              "#7201a8"
             ],
             [
              0.3333333333333333,
              "#9c179e"
             ],
             [
              0.4444444444444444,
              "#bd3786"
             ],
             [
              0.5555555555555556,
              "#d8576b"
             ],
             [
              0.6666666666666666,
              "#ed7953"
             ],
             [
              0.7777777777777778,
              "#fb9f3a"
             ],
             [
              0.8888888888888888,
              "#fdca26"
             ],
             [
              1,
              "#f0f921"
             ]
            ],
            "type": "contour"
           }
          ],
          "contourcarpet": [
           {
            "colorbar": {
             "outlinewidth": 0,
             "ticks": ""
            },
            "type": "contourcarpet"
           }
          ],
          "heatmap": [
           {
            "colorbar": {
             "outlinewidth": 0,
             "ticks": ""
            },
            "colorscale": [
             [
              0,
              "#0d0887"
             ],
             [
              0.1111111111111111,
              "#46039f"
             ],
             [
              0.2222222222222222,
              "#7201a8"
             ],
             [
              0.3333333333333333,
              "#9c179e"
             ],
             [
              0.4444444444444444,
              "#bd3786"
             ],
             [
              0.5555555555555556,
              "#d8576b"
             ],
             [
              0.6666666666666666,
              "#ed7953"
             ],
             [
              0.7777777777777778,
              "#fb9f3a"
             ],
             [
              0.8888888888888888,
              "#fdca26"
             ],
             [
              1,
              "#f0f921"
             ]
            ],
            "type": "heatmap"
           }
          ],
          "histogram": [
           {
            "marker": {
             "pattern": {
              "fillmode": "overlay",
              "size": 10,
              "solidity": 0.2
             }
            },
            "type": "histogram"
           }
          ],
          "histogram2d": [
           {
            "colorbar": {
             "outlinewidth": 0,
             "ticks": ""
            },
            "colorscale": [
             [
              0,
              "#0d0887"
             ],
             [
              0.1111111111111111,
              "#46039f"
             ],
             [
              0.2222222222222222,
              "#7201a8"
             ],
             [
              0.3333333333333333,
              "#9c179e"
             ],
             [
              0.4444444444444444,
              "#bd3786"
             ],
             [
              0.5555555555555556,
              "#d8576b"
             ],
             [
              0.6666666666666666,
              "#ed7953"
             ],
             [
              0.7777777777777778,
              "#fb9f3a"
             ],
             [
              0.8888888888888888,
              "#fdca26"
             ],
             [
              1,
              "#f0f921"
             ]
            ],
            "type": "histogram2d"
           }
          ],
          "histogram2dcontour": [
           {
            "colorbar": {
             "outlinewidth": 0,
             "ticks": ""
            },
            "colorscale": [
             [
              0,
              "#0d0887"
             ],
             [
              0.1111111111111111,
              "#46039f"
             ],
             [
              0.2222222222222222,
              "#7201a8"
             ],
             [
              0.3333333333333333,
              "#9c179e"
             ],
             [
              0.4444444444444444,
              "#bd3786"
             ],
             [
              0.5555555555555556,
              "#d8576b"
             ],
             [
              0.6666666666666666,
              "#ed7953"
             ],
             [
              0.7777777777777778,
              "#fb9f3a"
             ],
             [
              0.8888888888888888,
              "#fdca26"
             ],
             [
              1,
              "#f0f921"
             ]
            ],
            "type": "histogram2dcontour"
           }
          ],
          "mesh3d": [
           {
            "colorbar": {
             "outlinewidth": 0,
             "ticks": ""
            },
            "type": "mesh3d"
           }
          ],
          "parcoords": [
           {
            "line": {
             "colorbar": {
              "outlinewidth": 0,
              "ticks": ""
             }
            },
            "type": "parcoords"
           }
          ],
          "pie": [
           {
            "automargin": true,
            "type": "pie"
           }
          ],
          "scatter": [
           {
            "fillpattern": {
             "fillmode": "overlay",
             "size": 10,
             "solidity": 0.2
            },
            "type": "scatter"
           }
          ],
          "scatter3d": [
           {
            "line": {
             "colorbar": {
              "outlinewidth": 0,
              "ticks": ""
             }
            },
            "marker": {
             "colorbar": {
              "outlinewidth": 0,
              "ticks": ""
             }
            },
            "type": "scatter3d"
           }
          ],
          "scattercarpet": [
           {
            "marker": {
             "colorbar": {
              "outlinewidth": 0,
              "ticks": ""
             }
            },
            "type": "scattercarpet"
           }
          ],
          "scattergeo": [
           {
            "marker": {
             "colorbar": {
              "outlinewidth": 0,
              "ticks": ""
             }
            },
            "type": "scattergeo"
           }
          ],
          "scattergl": [
           {
            "marker": {
             "colorbar": {
              "outlinewidth": 0,
              "ticks": ""
             }
            },
            "type": "scattergl"
           }
          ],
          "scattermap": [
           {
            "marker": {
             "colorbar": {
              "outlinewidth": 0,
              "ticks": ""
             }
            },
            "type": "scattermap"
           }
          ],
          "scattermapbox": [
           {
            "marker": {
             "colorbar": {
              "outlinewidth": 0,
              "ticks": ""
             }
            },
            "type": "scattermapbox"
           }
          ],
          "scatterpolar": [
           {
            "marker": {
             "colorbar": {
              "outlinewidth": 0,
              "ticks": ""
             }
            },
            "type": "scatterpolar"
           }
          ],
          "scatterpolargl": [
           {
            "marker": {
             "colorbar": {
              "outlinewidth": 0,
              "ticks": ""
             }
            },
            "type": "scatterpolargl"
           }
          ],
          "scatterternary": [
           {
            "marker": {
             "colorbar": {
              "outlinewidth": 0,
              "ticks": ""
             }
            },
            "type": "scatterternary"
           }
          ],
          "surface": [
           {
            "colorbar": {
             "outlinewidth": 0,
             "ticks": ""
            },
            "colorscale": [
             [
              0,
              "#0d0887"
             ],
             [
              0.1111111111111111,
              "#46039f"
             ],
             [
              0.2222222222222222,
              "#7201a8"
             ],
             [
              0.3333333333333333,
              "#9c179e"
             ],
             [
              0.4444444444444444,
              "#bd3786"
             ],
             [
              0.5555555555555556,
              "#d8576b"
             ],
             [
              0.6666666666666666,
              "#ed7953"
             ],
             [
              0.7777777777777778,
              "#fb9f3a"
             ],
             [
              0.8888888888888888,
              "#fdca26"
             ],
             [
              1,
              "#f0f921"
             ]
            ],
            "type": "surface"
           }
          ],
          "table": [
           {
            "cells": {
             "fill": {
              "color": "#EBF0F8"
             },
             "line": {
              "color": "white"
             }
            },
            "header": {
             "fill": {
              "color": "#C8D4E3"
             },
             "line": {
              "color": "white"
             }
            },
            "type": "table"
           }
          ]
         },
         "layout": {
          "annotationdefaults": {
           "arrowcolor": "#2a3f5f",
           "arrowhead": 0,
           "arrowwidth": 1
          },
          "autotypenumbers": "strict",
          "coloraxis": {
           "colorbar": {
            "outlinewidth": 0,
            "ticks": ""
           }
          },
          "colorscale": {
           "diverging": [
            [
             0,
             "#8e0152"
            ],
            [
             0.1,
             "#c51b7d"
            ],
            [
             0.2,
             "#de77ae"
            ],
            [
             0.3,
             "#f1b6da"
            ],
            [
             0.4,
             "#fde0ef"
            ],
            [
             0.5,
             "#f7f7f7"
            ],
            [
             0.6,
             "#e6f5d0"
            ],
            [
             0.7,
             "#b8e186"
            ],
            [
             0.8,
             "#7fbc41"
            ],
            [
             0.9,
             "#4d9221"
            ],
            [
             1,
             "#276419"
            ]
           ],
           "sequential": [
            [
             0,
             "#0d0887"
            ],
            [
             0.1111111111111111,
             "#46039f"
            ],
            [
             0.2222222222222222,
             "#7201a8"
            ],
            [
             0.3333333333333333,
             "#9c179e"
            ],
            [
             0.4444444444444444,
             "#bd3786"
            ],
            [
             0.5555555555555556,
             "#d8576b"
            ],
            [
             0.6666666666666666,
             "#ed7953"
            ],
            [
             0.7777777777777778,
             "#fb9f3a"
            ],
            [
             0.8888888888888888,
             "#fdca26"
            ],
            [
             1,
             "#f0f921"
            ]
           ],
           "sequentialminus": [
            [
             0,
             "#0d0887"
            ],
            [
             0.1111111111111111,
             "#46039f"
            ],
            [
             0.2222222222222222,
             "#7201a8"
            ],
            [
             0.3333333333333333,
             "#9c179e"
            ],
            [
             0.4444444444444444,
             "#bd3786"
            ],
            [
             0.5555555555555556,
             "#d8576b"
            ],
            [
             0.6666666666666666,
             "#ed7953"
            ],
            [
             0.7777777777777778,
             "#fb9f3a"
            ],
            [
             0.8888888888888888,
             "#fdca26"
            ],
            [
             1,
             "#f0f921"
            ]
           ]
          },
          "colorway": [
           "#636efa",
           "#EF553B",
           "#00cc96",
           "#ab63fa",
           "#FFA15A",
           "#19d3f3",
           "#FF6692",
           "#B6E880",
           "#FF97FF",
           "#FECB52"
          ],
          "font": {
           "color": "#2a3f5f"
          },
          "geo": {
           "bgcolor": "white",
           "lakecolor": "white",
           "landcolor": "#E5ECF6",
           "showlakes": true,
           "showland": true,
           "subunitcolor": "white"
          },
          "hoverlabel": {
           "align": "left"
          },
          "hovermode": "closest",
          "mapbox": {
           "style": "light"
          },
          "paper_bgcolor": "white",
          "plot_bgcolor": "#E5ECF6",
          "polar": {
           "angularaxis": {
            "gridcolor": "white",
            "linecolor": "white",
            "ticks": ""
           },
           "bgcolor": "#E5ECF6",
           "radialaxis": {
            "gridcolor": "white",
            "linecolor": "white",
            "ticks": ""
           }
          },
          "scene": {
           "xaxis": {
            "backgroundcolor": "#E5ECF6",
            "gridcolor": "white",
            "gridwidth": 2,
            "linecolor": "white",
            "showbackground": true,
            "ticks": "",
            "zerolinecolor": "white"
           },
           "yaxis": {
            "backgroundcolor": "#E5ECF6",
            "gridcolor": "white",
            "gridwidth": 2,
            "linecolor": "white",
            "showbackground": true,
            "ticks": "",
            "zerolinecolor": "white"
           },
           "zaxis": {
            "backgroundcolor": "#E5ECF6",
            "gridcolor": "white",
            "gridwidth": 2,
            "linecolor": "white",
            "showbackground": true,
            "ticks": "",
            "zerolinecolor": "white"
           }
          },
          "shapedefaults": {
           "line": {
            "color": "#2a3f5f"
           }
          },
          "ternary": {
           "aaxis": {
            "gridcolor": "white",
            "linecolor": "white",
            "ticks": ""
           },
           "baxis": {
            "gridcolor": "white",
            "linecolor": "white",
            "ticks": ""
           },
           "bgcolor": "#E5ECF6",
           "caxis": {
            "gridcolor": "white",
            "linecolor": "white",
            "ticks": ""
           }
          },
          "title": {
           "x": 0.05
          },
          "xaxis": {
           "automargin": true,
           "gridcolor": "white",
           "linecolor": "white",
           "ticks": "",
           "title": {
            "standoff": 15
           },
           "zerolinecolor": "white",
           "zerolinewidth": 2
          },
          "yaxis": {
           "automargin": true,
           "gridcolor": "white",
           "linecolor": "white",
           "ticks": "",
           "title": {
            "standoff": 15
           },
           "zerolinecolor": "white",
           "zerolinewidth": 2
          }
         }
        },
        "title": {
         "text": "Weather and Train Stations in the Netherlands"
        }
       }
      }
     },
     "metadata": {},
     "output_type": "display_data"
    }
   ],
   "source": [
    "%run plot_train_stations.py"
   ]
  },
  {
   "cell_type": "code",
   "execution_count": 7,
   "metadata": {},
   "outputs": [
    {
     "name": "stdout",
     "output_type": "stream",
     "text": [
      "Current working directory: c:\\Users\\tjrij\\Documents\\TIL-groepje-1\n",
      "184 stations gevonden binnen 70 km van Bodegraven.\n",
      "Bestand opgeslagen als: data/stations_within_circle.csv\n"
     ]
    },
    {
     "data": {
      "text/html": [
       "<div>\n",
       "<style scoped>\n",
       "    .dataframe tbody tr th:only-of-type {\n",
       "        vertical-align: middle;\n",
       "    }\n",
       "\n",
       "    .dataframe tbody tr th {\n",
       "        vertical-align: top;\n",
       "    }\n",
       "\n",
       "    .dataframe thead th {\n",
       "        text-align: right;\n",
       "    }\n",
       "</style>\n",
       "<table border=\"1\" class=\"dataframe\">\n",
       "  <thead>\n",
       "    <tr style=\"text-align: right;\">\n",
       "      <th></th>\n",
       "      <th>id</th>\n",
       "      <th>code</th>\n",
       "      <th>uic</th>\n",
       "      <th>name_short</th>\n",
       "      <th>name_medium</th>\n",
       "      <th>name_long</th>\n",
       "      <th>slug</th>\n",
       "      <th>country</th>\n",
       "      <th>type</th>\n",
       "      <th>geo_lat</th>\n",
       "      <th>geo_lng</th>\n",
       "    </tr>\n",
       "  </thead>\n",
       "  <tbody>\n",
       "    <tr>\n",
       "      <th>0</th>\n",
       "      <td>266</td>\n",
       "      <td>HT</td>\n",
       "      <td>8400319</td>\n",
       "      <td>Den Bosch</td>\n",
       "      <td>'s-Hertogenbosch</td>\n",
       "      <td>'s-Hertogenbosch</td>\n",
       "      <td>s-hertogenbosch</td>\n",
       "      <td>NL</td>\n",
       "      <td>knooppuntIntercitystation</td>\n",
       "      <td>51.690480</td>\n",
       "      <td>5.293620</td>\n",
       "    </tr>\n",
       "    <tr>\n",
       "      <th>1</th>\n",
       "      <td>269</td>\n",
       "      <td>HTO</td>\n",
       "      <td>8400320</td>\n",
       "      <td>Dn Bosch O</td>\n",
       "      <td>'s-Hertogenb. O.</td>\n",
       "      <td>'s-Hertogenbosch Oost</td>\n",
       "      <td>s-hertogenbosch-oost</td>\n",
       "      <td>NL</td>\n",
       "      <td>stoptreinstation</td>\n",
       "      <td>51.700554</td>\n",
       "      <td>5.318333</td>\n",
       "    </tr>\n",
       "    <tr>\n",
       "      <th>6</th>\n",
       "      <td>5</td>\n",
       "      <td>AC</td>\n",
       "      <td>8400047</td>\n",
       "      <td>Abcoude</td>\n",
       "      <td>Abcoude</td>\n",
       "      <td>Abcoude</td>\n",
       "      <td>abcoude</td>\n",
       "      <td>NL</td>\n",
       "      <td>stoptreinstation</td>\n",
       "      <td>52.278500</td>\n",
       "      <td>4.977000</td>\n",
       "    </tr>\n",
       "    <tr>\n",
       "      <th>13</th>\n",
       "      <td>26</td>\n",
       "      <td>AMR</td>\n",
       "      <td>8400050</td>\n",
       "      <td>Alkmaar</td>\n",
       "      <td>Alkmaar</td>\n",
       "      <td>Alkmaar</td>\n",
       "      <td>alkmaar</td>\n",
       "      <td>NL</td>\n",
       "      <td>knooppuntIntercitystation</td>\n",
       "      <td>52.637779</td>\n",
       "      <td>4.739722</td>\n",
       "    </tr>\n",
       "    <tr>\n",
       "      <th>14</th>\n",
       "      <td>28</td>\n",
       "      <td>AMRN</td>\n",
       "      <td>8400052</td>\n",
       "      <td>Alkmaar N</td>\n",
       "      <td>Alkmaar Noord</td>\n",
       "      <td>Alkmaar Noord</td>\n",
       "      <td>alkmaar-noord</td>\n",
       "      <td>NL</td>\n",
       "      <td>stoptreinstation</td>\n",
       "      <td>52.643890</td>\n",
       "      <td>4.764167</td>\n",
       "    </tr>\n",
       "  </tbody>\n",
       "</table>\n",
       "</div>"
      ],
      "text/plain": [
       "     id  code      uic  name_short       name_medium              name_long  \\\n",
       "0   266    HT  8400319   Den Bosch  's-Hertogenbosch       's-Hertogenbosch   \n",
       "1   269   HTO  8400320  Dn Bosch O  's-Hertogenb. O.  's-Hertogenbosch Oost   \n",
       "6     5    AC  8400047     Abcoude           Abcoude                Abcoude   \n",
       "13   26   AMR  8400050     Alkmaar           Alkmaar                Alkmaar   \n",
       "14   28  AMRN  8400052   Alkmaar N     Alkmaar Noord          Alkmaar Noord   \n",
       "\n",
       "                    slug country                       type    geo_lat  \\\n",
       "0        s-hertogenbosch      NL  knooppuntIntercitystation  51.690480   \n",
       "1   s-hertogenbosch-oost      NL           stoptreinstation  51.700554   \n",
       "6                abcoude      NL           stoptreinstation  52.278500   \n",
       "13               alkmaar      NL  knooppuntIntercitystation  52.637779   \n",
       "14         alkmaar-noord      NL           stoptreinstation  52.643890   \n",
       "\n",
       "     geo_lng  \n",
       "0   5.293620  \n",
       "1   5.318333  \n",
       "6   4.977000  \n",
       "13  4.739722  \n",
       "14  4.764167  "
      ]
     },
     "execution_count": 7,
     "metadata": {},
     "output_type": "execute_result"
    }
   ],
   "source": [
    "import pandas as pd\n",
    "from geopy.distance import geodesic\n",
    "import os\n",
    "\n",
    "# control current working map\n",
    "print(\"Current working directory:\", os.getcwd())\n",
    "\n",
    "#Rea d staions data\n",
    "df = pd.read_csv('data/stations-2023-09.csv')\n",
    "\n",
    "#centre of circle — Bodegraven\n",
    "center_lat = 52.0822\n",
    "center_lon = 4.7447\n",
    "radius_km = 70  # Straal in kilometers\n",
    "\n",
    "# Is the station in the circle\n",
    "def within_radius(row):\n",
    "    station_loc = (row['geo_lat'], row['geo_lng'])\n",
    "    center_loc = (center_lat, center_lon)\n",
    "    distance = geodesic(center_loc, station_loc).km\n",
    "    return distance <= radius_km\n",
    "\n",
    "#Filter stations within the circle\n",
    "df_circle = df[df.apply(within_radius, axis=1)]\n",
    "\n",
    "# save as CSV\n",
    "output_path = 'data/stations_within_circle.csv'\n",
    "df_circle.to_csv(output_path, index=False)\n",
    "\n",
    "#  show results\n",
    "print(f\"{len(df_circle)} stations gevonden binnen {radius_km} km van Bodegraven.\")\n",
    "print(f\"Bestand opgeslagen als: {output_path}\")\n",
    "df_circle.head()"
   ]
  },
  {
   "cell_type": "code",
   "execution_count": 17,
   "metadata": {},
   "outputs": [
    {
     "data": {
      "text/html": [
       "<div>\n",
       "<style scoped>\n",
       "    .dataframe tbody tr th:only-of-type {\n",
       "        vertical-align: middle;\n",
       "    }\n",
       "\n",
       "    .dataframe tbody tr th {\n",
       "        vertical-align: top;\n",
       "    }\n",
       "\n",
       "    .dataframe thead th {\n",
       "        text-align: right;\n",
       "    }\n",
       "</style>\n",
       "<table border=\"1\" class=\"dataframe\">\n",
       "  <thead>\n",
       "    <tr style=\"text-align: right;\">\n",
       "      <th></th>\n",
       "      <th>STN</th>\n",
       "      <th>YYYYMMDD</th>\n",
       "      <th>HH</th>\n",
       "      <th>DD</th>\n",
       "      <th>FH</th>\n",
       "      <th>FF</th>\n",
       "      <th>FX</th>\n",
       "      <th>T</th>\n",
       "      <th>T10N</th>\n",
       "      <th>Q</th>\n",
       "      <th>DR</th>\n",
       "      <th>RH</th>\n",
       "      <th>VV</th>\n",
       "      <th>M</th>\n",
       "      <th>R</th>\n",
       "      <th>S</th>\n",
       "      <th>O</th>\n",
       "      <th>Y</th>\n",
       "    </tr>\n",
       "  </thead>\n",
       "  <tbody>\n",
       "    <tr>\n",
       "      <th>0</th>\n",
       "      <td>215</td>\n",
       "      <td>20240101</td>\n",
       "      <td>1</td>\n",
       "      <td>210</td>\n",
       "      <td>100</td>\n",
       "      <td>110</td>\n",
       "      <td>160</td>\n",
       "      <td>72</td>\n",
       "      <td>NaN</td>\n",
       "      <td>0</td>\n",
       "      <td>10</td>\n",
       "      <td>13</td>\n",
       "      <td>56</td>\n",
       "      <td>0</td>\n",
       "      <td>1</td>\n",
       "      <td>0</td>\n",
       "      <td>0</td>\n",
       "      <td>0</td>\n",
       "    </tr>\n",
       "    <tr>\n",
       "      <th>1</th>\n",
       "      <td>215</td>\n",
       "      <td>20240101</td>\n",
       "      <td>2</td>\n",
       "      <td>210</td>\n",
       "      <td>90</td>\n",
       "      <td>70</td>\n",
       "      <td>150</td>\n",
       "      <td>75</td>\n",
       "      <td>NaN</td>\n",
       "      <td>0</td>\n",
       "      <td>4</td>\n",
       "      <td>6</td>\n",
       "      <td>61</td>\n",
       "      <td>0</td>\n",
       "      <td>1</td>\n",
       "      <td>0</td>\n",
       "      <td>0</td>\n",
       "      <td>0</td>\n",
       "    </tr>\n",
       "    <tr>\n",
       "      <th>2</th>\n",
       "      <td>215</td>\n",
       "      <td>20240101</td>\n",
       "      <td>3</td>\n",
       "      <td>210</td>\n",
       "      <td>80</td>\n",
       "      <td>70</td>\n",
       "      <td>120</td>\n",
       "      <td>74</td>\n",
       "      <td>NaN</td>\n",
       "      <td>0</td>\n",
       "      <td>3</td>\n",
       "      <td>9</td>\n",
       "      <td>50</td>\n",
       "      <td>0</td>\n",
       "      <td>1</td>\n",
       "      <td>0</td>\n",
       "      <td>0</td>\n",
       "      <td>0</td>\n",
       "    </tr>\n",
       "    <tr>\n",
       "      <th>3</th>\n",
       "      <td>215</td>\n",
       "      <td>20240101</td>\n",
       "      <td>4</td>\n",
       "      <td>240</td>\n",
       "      <td>70</td>\n",
       "      <td>80</td>\n",
       "      <td>130</td>\n",
       "      <td>89</td>\n",
       "      <td>NaN</td>\n",
       "      <td>0</td>\n",
       "      <td>3</td>\n",
       "      <td>4</td>\n",
       "      <td>67</td>\n",
       "      <td>0</td>\n",
       "      <td>1</td>\n",
       "      <td>0</td>\n",
       "      <td>0</td>\n",
       "      <td>0</td>\n",
       "    </tr>\n",
       "    <tr>\n",
       "      <th>4</th>\n",
       "      <td>215</td>\n",
       "      <td>20240101</td>\n",
       "      <td>5</td>\n",
       "      <td>240</td>\n",
       "      <td>80</td>\n",
       "      <td>80</td>\n",
       "      <td>130</td>\n",
       "      <td>92</td>\n",
       "      <td>NaN</td>\n",
       "      <td>0</td>\n",
       "      <td>0</td>\n",
       "      <td>-1</td>\n",
       "      <td>66</td>\n",
       "      <td>0</td>\n",
       "      <td>1</td>\n",
       "      <td>0</td>\n",
       "      <td>0</td>\n",
       "      <td>0</td>\n",
       "    </tr>\n",
       "    <tr>\n",
       "      <th>...</th>\n",
       "      <td>...</td>\n",
       "      <td>...</td>\n",
       "      <td>...</td>\n",
       "      <td>...</td>\n",
       "      <td>...</td>\n",
       "      <td>...</td>\n",
       "      <td>...</td>\n",
       "      <td>...</td>\n",
       "      <td>...</td>\n",
       "      <td>...</td>\n",
       "      <td>...</td>\n",
       "      <td>...</td>\n",
       "      <td>...</td>\n",
       "      <td>...</td>\n",
       "      <td>...</td>\n",
       "      <td>...</td>\n",
       "      <td>...</td>\n",
       "      <td>...</td>\n",
       "    </tr>\n",
       "    <tr>\n",
       "      <th>43915</th>\n",
       "      <td>348</td>\n",
       "      <td>20241231</td>\n",
       "      <td>20</td>\n",
       "      <td>200</td>\n",
       "      <td>100</td>\n",
       "      <td>100</td>\n",
       "      <td>160</td>\n",
       "      <td>59</td>\n",
       "      <td>NaN</td>\n",
       "      <td>0</td>\n",
       "      <td>0</td>\n",
       "      <td>0</td>\n",
       "      <td>71</td>\n",
       "      <td>0</td>\n",
       "      <td>0</td>\n",
       "      <td>0</td>\n",
       "      <td>0</td>\n",
       "      <td>0</td>\n",
       "    </tr>\n",
       "    <tr>\n",
       "      <th>43916</th>\n",
       "      <td>348</td>\n",
       "      <td>20241231</td>\n",
       "      <td>21</td>\n",
       "      <td>210</td>\n",
       "      <td>120</td>\n",
       "      <td>120</td>\n",
       "      <td>180</td>\n",
       "      <td>63</td>\n",
       "      <td>NaN</td>\n",
       "      <td>0</td>\n",
       "      <td>0</td>\n",
       "      <td>0</td>\n",
       "      <td>74</td>\n",
       "      <td>0</td>\n",
       "      <td>0</td>\n",
       "      <td>0</td>\n",
       "      <td>0</td>\n",
       "      <td>0</td>\n",
       "    </tr>\n",
       "    <tr>\n",
       "      <th>43917</th>\n",
       "      <td>348</td>\n",
       "      <td>20241231</td>\n",
       "      <td>22</td>\n",
       "      <td>210</td>\n",
       "      <td>110</td>\n",
       "      <td>100</td>\n",
       "      <td>170</td>\n",
       "      <td>68</td>\n",
       "      <td>NaN</td>\n",
       "      <td>0</td>\n",
       "      <td>0</td>\n",
       "      <td>0</td>\n",
       "      <td>74</td>\n",
       "      <td>0</td>\n",
       "      <td>0</td>\n",
       "      <td>0</td>\n",
       "      <td>0</td>\n",
       "      <td>0</td>\n",
       "    </tr>\n",
       "    <tr>\n",
       "      <th>43918</th>\n",
       "      <td>348</td>\n",
       "      <td>20241231</td>\n",
       "      <td>23</td>\n",
       "      <td>210</td>\n",
       "      <td>110</td>\n",
       "      <td>110</td>\n",
       "      <td>160</td>\n",
       "      <td>75</td>\n",
       "      <td>NaN</td>\n",
       "      <td>0</td>\n",
       "      <td>0</td>\n",
       "      <td>0</td>\n",
       "      <td>71</td>\n",
       "      <td>0</td>\n",
       "      <td>0</td>\n",
       "      <td>0</td>\n",
       "      <td>0</td>\n",
       "      <td>0</td>\n",
       "    </tr>\n",
       "    <tr>\n",
       "      <th>43919</th>\n",
       "      <td>348</td>\n",
       "      <td>20241231</td>\n",
       "      <td>24</td>\n",
       "      <td>210</td>\n",
       "      <td>120</td>\n",
       "      <td>120</td>\n",
       "      <td>170</td>\n",
       "      <td>81</td>\n",
       "      <td>44.0</td>\n",
       "      <td>0</td>\n",
       "      <td>0</td>\n",
       "      <td>0</td>\n",
       "      <td>59</td>\n",
       "      <td>0</td>\n",
       "      <td>0</td>\n",
       "      <td>0</td>\n",
       "      <td>0</td>\n",
       "      <td>0</td>\n",
       "    </tr>\n",
       "  </tbody>\n",
       "</table>\n",
       "<p>43920 rows × 18 columns</p>\n",
       "</div>"
      ],
      "text/plain": [
       "       STN  YYYYMMDD  HH   DD   FH   FF   FX   T  T10N  Q  DR  RH  VV  M  R  \\\n",
       "0      215  20240101   1  210  100  110  160  72   NaN  0  10  13  56  0  1   \n",
       "1      215  20240101   2  210   90   70  150  75   NaN  0   4   6  61  0  1   \n",
       "2      215  20240101   3  210   80   70  120  74   NaN  0   3   9  50  0  1   \n",
       "3      215  20240101   4  240   70   80  130  89   NaN  0   3   4  67  0  1   \n",
       "4      215  20240101   5  240   80   80  130  92   NaN  0   0  -1  66  0  1   \n",
       "...    ...       ...  ..  ...  ...  ...  ...  ..   ... ..  ..  ..  .. .. ..   \n",
       "43915  348  20241231  20  200  100  100  160  59   NaN  0   0   0  71  0  0   \n",
       "43916  348  20241231  21  210  120  120  180  63   NaN  0   0   0  74  0  0   \n",
       "43917  348  20241231  22  210  110  100  170  68   NaN  0   0   0  74  0  0   \n",
       "43918  348  20241231  23  210  110  110  160  75   NaN  0   0   0  71  0  0   \n",
       "43919  348  20241231  24  210  120  120  170  81  44.0  0   0   0  59  0  0   \n",
       "\n",
       "       S  O  Y  \n",
       "0      0  0  0  \n",
       "1      0  0  0  \n",
       "2      0  0  0  \n",
       "3      0  0  0  \n",
       "4      0  0  0  \n",
       "...   .. .. ..  \n",
       "43915  0  0  0  \n",
       "43916  0  0  0  \n",
       "43917  0  0  0  \n",
       "43918  0  0  0  \n",
       "43919  0  0  0  \n",
       "\n",
       "[43920 rows x 18 columns]"
      ]
     },
     "execution_count": 17,
     "metadata": {},
     "output_type": "execute_result"
    }
   ],
   "source": [
    "pd.read_parquet('data/df_weather_5_stations.parquet')"
   ]
  },
  {
   "cell_type": "code",
   "execution_count": 18,
   "metadata": {},
   "outputs": [
    {
     "name": "stdout",
     "output_type": "stream",
     "text": [
      "['STN', 'YYYYMMDD', 'HH', 'DD', 'FH', 'FF', 'FX', 'T', 'T10N', 'Q', 'DR', 'RH', 'VV', 'M', 'R', 'S', 'O', 'Y']\n"
     ]
    }
   ],
   "source": [
    "print(df_weather.columns.tolist())"
   ]
  },
  {
   "cell_type": "code",
   "execution_count": 19,
   "metadata": {},
   "outputs": [
    {
     "data": {
      "image/png": "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",
      "text/plain": [
       "<Figure size 1400x1000 with 2 Axes>"
      ]
     },
     "metadata": {},
     "output_type": "display_data"
    }
   ],
   "source": [
    "import pandas as pd\n",
    "import seaborn as sns\n",
    "import matplotlib.pyplot as plt\n",
    "\n",
    "# 1. 📥 Weerdata inladen\n",
    "df_weather = pd.read_parquet('data/df_weather_5_stations.parquet')\n",
    "\n",
    "# 2. ⚙️ Kolommen selecteren (DD = windrichting nemen we niet mee)\n",
    "weather_cols = [\n",
    "    'FH',  # uur gemiddelde windsnelheid\n",
    "    'FF',  # windsnelheid\n",
    "    'FX',  # windstoot\n",
    "    'T',   # temperatuur\n",
    "    'DR',  # duur neerslag\n",
    "    'RH',  # hoeveelheid neerslag\n",
    "    'VV',  # zicht\n",
    "    # 'N',  # bewolking (ontbreekt bij jou)\n",
    "    # 'U',  # relatieve vochtigheid (ontbreekt bij jou)\n",
    "    'M',   # mist (binair)\n",
    "    'R',   # regen (binair)\n",
    "    'S',   # sneeuw (binair)\n",
    "    'O',   # onweer (binair)\n",
    "    'Y'    # ijzel (binair)\n",
    "]\n",
    "\n",
    "df_weather_sel = df_weather[weather_cols].copy()\n",
    "\n",
    "# 3. 🧮 Waarden omrekenen (wind, temp en neerslag in echte eenheden)\n",
    "df_weather_sel['FH'] /= 10\n",
    "df_weather_sel['FF'] /= 10\n",
    "df_weather_sel['FX'] /= 10\n",
    "df_weather_sel['T']  /= 10\n",
    "df_weather_sel['RH'] /= 10\n",
    "df_weather_sel['DR'] /= 10\n",
    "\n",
    "# 4. 🧼 Missende waarden afhandelen\n",
    "# (je kunt ook imputatie gebruiken, maar voor nu droppen we ze)\n",
    "df_weather_sel = df_weather_sel.dropna()\n",
    "\n",
    "# 5. 🧮 Correlatiematrix berekenen (Spearman is beter voor mix binair + continu)\n",
    "corr_matrix = df_weather_sel.corr(method='spearman')\n",
    "\n",
    "# 6. 📊 Heatmap plotten\n",
    "plt.figure(figsize=(14, 10))\n",
    "sns.heatmap(\n",
    "    corr_matrix,\n",
    "    annot=True,\n",
    "    cmap='coolwarm',\n",
    "    fmt=\".2f\",\n",
    "    linewidths=0.5\n",
    ")\n",
    "plt.title('Spearman Correlatie tussen Weersfactoren', fontsize=16)\n",
    "plt.tight_layout()\n",
    "plt.show()\n",
    "\n",
    "# 7. 📌 >>>>>>>>>>>>>>>>>>>>>>>>>>>>>>>>>>>>>>>>>>>>>>>>>>>>>>>>>>>>>>>>>>>>>>\n",
    "# HIER KOMT JE DISRUPTIONS DATA STRAKS BIJ\n",
    "# Voorbeeldstap (als je straks je disruptions dataframe hebt):\n",
    "# df_disruptions = pd.read_csv('data/disruptions_2024.csv')\n",
    "# disruptions_cols = ['vertraging_totaal', 'aantal_verstoringen', ...]  # jouw 15 variabelen\n",
    "# \n",
    "# # Zorg dat je de data per tijdseenheid kan koppelen (bijv. per dag of uur)\n",
    "# # door bijvoorbeeld:\n",
    "# # - df_weather_sel['YYYYMMDD'] toevoegen\n",
    "# # - groupby('YYYYMMDD') en mean() of sum() gebruiken\n",
    "#\n",
    "# merged = df_weather_sel.join(df_disruptions[disruptions_cols])\n",
    "# full_corr = merged.corr(method='spearman')\n",
    "#\n",
    "# # Heatmap met weersfactoren + disruptions\n",
    "# sns.heatmap(full_corr, annot=True, cmap='coolwarm', fmt=\".2f\", linewidths=0.5)\n",
    "# plt.title('Correlatie tussen Weer en Treinverstoringen')\n",
    "# plt.show()\n",
    "#  >>>>>>>>>>>>>>>>>>>>>>>>>>>>>>>>>>>>>>>>>>>>>>>>>>>>>>>>>>>>>>>>>>>>>>\n"
   ]
  }
 ],
 "metadata": {
  "kernelspec": {
   "display_name": "TIL6022-25",
   "language": "python",
   "name": "python3"
  },
  "language_info": {
   "codemirror_mode": {
    "name": "ipython",
    "version": 3
   },
   "file_extension": ".py",
   "mimetype": "text/x-python",
   "name": "python",
   "nbconvert_exporter": "python",
   "pygments_lexer": "ipython3",
   "version": "3.13.5"
   "version": "3.12.3"
  },
  "orig_nbformat": 4
 },
 "nbformat": 4,
 "nbformat_minor": 2
}
