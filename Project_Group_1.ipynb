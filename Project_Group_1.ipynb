{
 "cells": [
  {
   "cell_type": "markdown",
   "metadata": {},
   "source": [
    "# Project Group - \n",
    "\n",
    "Members: Jarrik Algera, Lorenzo Bouman, Jasper IJsselstein, Joep Neelissen, Tjerk Rijkens\n",
    "\n",
    "\n",
    "Student numbers: test"
   ]
  },
  {
   "cell_type": "markdown",
   "metadata": {},
   "source": [
    "# Research Objective\n",
    "\n",
    "*Requires data modeling and quantitative research in Transport, Infrastructure & Logistics*"
   ]
  },
  {
   "cell_type": "markdown",
   "metadata": {},
   "source": [
    "The objective of this project is to examine the relationship between weather conditions and train disruptions in the Netherlands. Railway disruption records are combined with meteorological data to quantify the extent to which factors such as precipitation, wind, and temperature are associated with delays and service interruptions. The analysis aims to establish whether specific weather conditions systematically affect railway performance and to what degree. The geographical scale is limited to the Netherlands, and after initial data cleaning and exploratory analyis a specific corridor is chosen. The temporal scale is 2024. \n",
    "\n",
    "## Main question\n",
    "\n",
    "#### *To what extent do weather conditions influence train disruptions in the Netherlands?*\n",
    "\n",
    "### Sub-questions\n",
    "\n",
    "*Are disruptions more frequent on days with adverse weather compared to days with mild weather?*\n",
    "\n",
    "\n",
    "*Do disruption durations increase under heavy precipitation, strong wind, or temperature extremes?*\n",
    "\n",
    "\n",
    "*Which weather variable shows the strongest association with disruption frequency?*\n",
    "\n",
    "\n",
    "*Are there seasonal differences in how weather affects train disruptions?*\n",
    "\n",
    "\n",
    "*Are there regional variations in the relationship between weather and disruptions?*"
   ]
  },
  {
   "cell_type": "markdown",
   "metadata": {},
   "source": [
    "# Contribution Statement\n",
    "\n",
    "*Be specific. Some of the tasks can be coding (expect everyone to do this), background research, conceptualisation, visualisation, data analysis, data modelling*"
   ]
  },
  {
   "cell_type": "markdown",
   "metadata": {},
   "source": [
    "**Author 1**: N/A\n",
    "\n",
    "**Author 2**: N/A\n",
    "\n",
    "**Author 3**: N/A"
   ]
  },
  {
   "cell_type": "markdown",
   "metadata": {},
   "source": [
    "# Data Used"
   ]
  },
  {
   "cell_type": "markdown",
   "metadata": {},
   "source": [
    "## Datasets\n",
    "\n",
    "Two primary datasets are available for this study. The first dataset contains records of train disruptions in the Netherlands between 2011 and 2024. Each record provides details on the type of disruption (for example staffing problems or a signal failure), its duration, the time of occurrence, and the affected trajectory (for example Eindhoven - Venlo, Nijmegen - Venlo). This dataset represents the dependent variable, as it directly reflects railway system performance. The dataset is obtained from Rijden de Treinen (https://www.rijdendetreinen.nl/open-data/treinstoringen#downloads). It is important to realize that not every train that is delayed or cancelled is communicated by NS as a disruption; the rule of thumb that NS uses is that a disruption is communicated when multiple trains are delayed or cancelled (i.e. a major impact of the train service). The dataset is provided as a .csv file.\n",
    "\n",
    "The second dataset is derived from the Royal Netherlands Meteorological Institute (KNMI) (https://www.daggegevens.knmi.nl/klimatologie/uurgegevens) and provides hourly weather observations. It includes variables such as precipitation intensity, temperature, and wind speed and direction. Not every weather station measures all these variables. Therefore, it is necessary to make a selection of usable stations. These variables serve as independent factors to explain variation in railway disruptions."
   ]
  },
  {
   "cell_type": "markdown",
   "metadata": {},
   "source": [
    "# Data Pipeline"
   ]
  },
  {
   "cell_type": "markdown",
   "metadata": {},
   "source": [
    "## Intended Data Analysis Pipeline\n",
    "\n",
    "### The planned analysis will follow several stages:\n",
    "\n",
    "The planned analysis will follow several stages:\n",
    "\n",
    "##### 1. Data cleaning and preparation\n",
    "- Align disruption data with corresponding weather observations based on time and location. Thus should be executed on an hourly basis for proper comparison. \n",
    "- Filter data to dataframe of weather data in 2024. \n",
    "- Base data from weather stations on chosen train trajectory. \n",
    "- Filter through weather stations to exclude stations without rain and temperature measurements.\n",
    "- Choose appropriate parameters related to the weather data to use in analysis\n",
    "\n",
    "\n",
    "##### 2. Exploratory analysis\n",
    "- Compute descriptive statistics for disruption frequency and duration.\n",
    "- Visualize weather variables alongside disruptions to detect initial patterns.\n",
    "\n",
    "##### 3. Correlation analysis\n",
    "- Assess associations between weather conditions and disruption frequency or duration.\n",
    "\n",
    "##### 4. Modeling\n",
    "- Apply regression models to estimate the effect of precipitation, wind, and temperature on disruption likelihood and duration.\n",
    "- Investigate seasonal and regional variation in the relationship between weather and disruptions.\n",
    "\n",
    "##### 5. Evaluation and visualization\n",
    "- Present results using time series plots, scatterplots, and heatmaps, alongside statistical measures.\n"
   ]
  },
  {
   "cell_type": "code",
   "execution_count": 5,
   "metadata": {},
   "outputs": [],
   "source": [
    "%run load_weather_data\n"
   ]
  },
  {
   "cell_type": "code",
   "execution_count": 16,
   "metadata": {},
   "outputs": [
    {
     "name": "stdout",
     "output_type": "stream",
     "text": [
      "   STN  LON(east)  LAT(north)  ALT(m)                NAME\n",
      "2  215      4.437      52.141    -1.1         Voorschoten\n",
      "4  235      4.781      52.928     1.2             De Kooy\n",
      "5  240      4.790      52.318    -3.3            Schiphol\n",
      "8  249      4.979      52.644    -2.4            Berkhout\n",
      "9  251      5.346      53.392     0.7  Hoorn Terschelling\n"
     ]
    },
    {
     "data": {
      "application/vnd.plotly.v1+json": {
       "config": {
        "plotlyServerURL": "https://plot.ly"
       },
       "data": [
        {
         "customdata": {
          "bdata": "1wDrAPAA+QD7AAQBCwENAQ4BEQETARcBGAEiATYBPwFUAVgBXAFeAXIBdwF5AXwB",
          "dtype": "i2",
          "shape": "24, 1"
         },
         "hovertemplate": "<b>%{hovertext}</b><br><br>LAT(north)=%{lat}<br>LON(east)=%{lon}<br>STN=%{customdata[0]}<extra></extra>",
         "hovertext": [
          "Voorschoten",
          "De Kooy",
          "Schiphol",
          "Berkhout",
          "Hoorn Terschelling",
          "De Bilt",
          "Stavoren",
          "Lelystad",
          "Leeuwarden",
          "Marknesse",
          "Deelen",
          "Hoogeveen",
          "Eelde",
          "Twenthe",
          "Vlissingen",
          "Westdorpe",
          "Woensdrecht",
          "Rotterdam",
          "Cabauw Mast",
          "Gilze-Rijen",
          "Eindhoven",
          "Volkel",
          "Ell",
          "Maastricht"
         ],
         "lat": {
          "bdata": "NV66SQwSSkAQWDm0yHZKQGIQWDm0KEpA30+Nl25SSkAZBFYOLbJKQM3MzMzMDEpAbef7qfFySkC0yHa+nzpKQOkmMQisnEpARIts5/tZSkC6SQwCKwdKQAAAAAAAYEpAAAAAAACQSkBQjZduEiNKQH9qvHSTuElAsHJoke2cSUC28/3UeLlJQEJg5dAi+0lAXI/C9Sj8SUCcxCCwcshJQH0/NV66uUlAMQisHFrUSUDTTWIQWJlJQIcW2c73c0lA",
          "dtype": "f8"
         },
         "legendgroup": "",
         "lon": {
          "bdata": "c2iR7Xy/EUA5tMh2vh8TQClcj8L1KBNA0SLb+X7qE0D8qfHSTWIVQLgehetRuBRA8KfGSzeJFUAUrkfhehQWQDVeukkMAhdAWmQ730+NF0DLoUW2830XQLKd76fGSxpA16NwPQpXGkCq8dJNYpAbQPhT46WbxAxAF9nO91PjDkCR7Xw/NV4RQH0/NV66yRFATmIQWDm0E0BYObTIdr4TQDVeukkMghVAhxbZzvfTFkBaZDvfTw0XQD81XrpJDBdA",
          "dtype": "f8"
         },
         "marker": {
          "color": "blue"
         },
         "mode": "markers",
         "name": "",
         "showlegend": false,
         "subplot": "map",
         "type": "scattermap"
        }
       ],
       "layout": {
        "legend": {
         "tracegroupgap": 0
        },
        "map": {
         "center": {
          "lat": 52.160000000000004,
          "lon": 5.279041666666667
         },
         "domain": {
          "x": [
           0,
           1
          ],
          "y": [
           0,
           1
          ]
         },
         "zoom": 7
        },
        "mapbox": {
         "center": {
          "lat": 52.160000000000004,
          "lon": 5.279041666666667
         },
         "style": "open-street-map",
         "zoom": 7
        },
        "margin": {
         "b": 0,
         "l": 0,
         "r": 0,
         "t": 40
        },
        "template": {
         "data": {
          "bar": [
           {
            "error_x": {
             "color": "#2a3f5f"
            },
            "error_y": {
             "color": "#2a3f5f"
            },
            "marker": {
             "line": {
              "color": "#E5ECF6",
              "width": 0.5
             },
             "pattern": {
              "fillmode": "overlay",
              "size": 10,
              "solidity": 0.2
             }
            },
            "type": "bar"
           }
          ],
          "barpolar": [
           {
            "marker": {
             "line": {
              "color": "#E5ECF6",
              "width": 0.5
             },
             "pattern": {
              "fillmode": "overlay",
              "size": 10,
              "solidity": 0.2
             }
            },
            "type": "barpolar"
           }
          ],
          "carpet": [
           {
            "aaxis": {
             "endlinecolor": "#2a3f5f",
             "gridcolor": "white",
             "linecolor": "white",
             "minorgridcolor": "white",
             "startlinecolor": "#2a3f5f"
            },
            "baxis": {
             "endlinecolor": "#2a3f5f",
             "gridcolor": "white",
             "linecolor": "white",
             "minorgridcolor": "white",
             "startlinecolor": "#2a3f5f"
            },
            "type": "carpet"
           }
          ],
          "choropleth": [
           {
            "colorbar": {
             "outlinewidth": 0,
             "ticks": ""
            },
            "type": "choropleth"
           }
          ],
          "contour": [
           {
            "colorbar": {
             "outlinewidth": 0,
             "ticks": ""
            },
            "colorscale": [
             [
              0,
              "#0d0887"
             ],
             [
              0.1111111111111111,
              "#46039f"
             ],
             [
              0.2222222222222222,
              "#7201a8"
             ],
             [
              0.3333333333333333,
              "#9c179e"
             ],
             [
              0.4444444444444444,
              "#bd3786"
             ],
             [
              0.5555555555555556,
              "#d8576b"
             ],
             [
              0.6666666666666666,
              "#ed7953"
             ],
             [
              0.7777777777777778,
              "#fb9f3a"
             ],
             [
              0.8888888888888888,
              "#fdca26"
             ],
             [
              1,
              "#f0f921"
             ]
            ],
            "type": "contour"
           }
          ],
          "contourcarpet": [
           {
            "colorbar": {
             "outlinewidth": 0,
             "ticks": ""
            },
            "type": "contourcarpet"
           }
          ],
          "heatmap": [
           {
            "colorbar": {
             "outlinewidth": 0,
             "ticks": ""
            },
            "colorscale": [
             [
              0,
              "#0d0887"
             ],
             [
              0.1111111111111111,
              "#46039f"
             ],
             [
              0.2222222222222222,
              "#7201a8"
             ],
             [
              0.3333333333333333,
              "#9c179e"
             ],
             [
              0.4444444444444444,
              "#bd3786"
             ],
             [
              0.5555555555555556,
              "#d8576b"
             ],
             [
              0.6666666666666666,
              "#ed7953"
             ],
             [
              0.7777777777777778,
              "#fb9f3a"
             ],
             [
              0.8888888888888888,
              "#fdca26"
             ],
             [
              1,
              "#f0f921"
             ]
            ],
            "type": "heatmap"
           }
          ],
          "histogram": [
           {
            "marker": {
             "pattern": {
              "fillmode": "overlay",
              "size": 10,
              "solidity": 0.2
             }
            },
            "type": "histogram"
           }
          ],
          "histogram2d": [
           {
            "colorbar": {
             "outlinewidth": 0,
             "ticks": ""
            },
            "colorscale": [
             [
              0,
              "#0d0887"
             ],
             [
              0.1111111111111111,
              "#46039f"
             ],
             [
              0.2222222222222222,
              "#7201a8"
             ],
             [
              0.3333333333333333,
              "#9c179e"
             ],
             [
              0.4444444444444444,
              "#bd3786"
             ],
             [
              0.5555555555555556,
              "#d8576b"
             ],
             [
              0.6666666666666666,
              "#ed7953"
             ],
             [
              0.7777777777777778,
              "#fb9f3a"
             ],
             [
              0.8888888888888888,
              "#fdca26"
             ],
             [
              1,
              "#f0f921"
             ]
            ],
            "type": "histogram2d"
           }
          ],
          "histogram2dcontour": [
           {
            "colorbar": {
             "outlinewidth": 0,
             "ticks": ""
            },
            "colorscale": [
             [
              0,
              "#0d0887"
             ],
             [
              0.1111111111111111,
              "#46039f"
             ],
             [
              0.2222222222222222,
              "#7201a8"
             ],
             [
              0.3333333333333333,
              "#9c179e"
             ],
             [
              0.4444444444444444,
              "#bd3786"
             ],
             [
              0.5555555555555556,
              "#d8576b"
             ],
             [
              0.6666666666666666,
              "#ed7953"
             ],
             [
              0.7777777777777778,
              "#fb9f3a"
             ],
             [
              0.8888888888888888,
              "#fdca26"
             ],
             [
              1,
              "#f0f921"
             ]
            ],
            "type": "histogram2dcontour"
           }
          ],
          "mesh3d": [
           {
            "colorbar": {
             "outlinewidth": 0,
             "ticks": ""
            },
            "type": "mesh3d"
           }
          ],
          "parcoords": [
           {
            "line": {
             "colorbar": {
              "outlinewidth": 0,
              "ticks": ""
             }
            },
            "type": "parcoords"
           }
          ],
          "pie": [
           {
            "automargin": true,
            "type": "pie"
           }
          ],
          "scatter": [
           {
            "fillpattern": {
             "fillmode": "overlay",
             "size": 10,
             "solidity": 0.2
            },
            "type": "scatter"
           }
          ],
          "scatter3d": [
           {
            "line": {
             "colorbar": {
              "outlinewidth": 0,
              "ticks": ""
             }
            },
            "marker": {
             "colorbar": {
              "outlinewidth": 0,
              "ticks": ""
             }
            },
            "type": "scatter3d"
           }
          ],
          "scattercarpet": [
           {
            "marker": {
             "colorbar": {
              "outlinewidth": 0,
              "ticks": ""
             }
            },
            "type": "scattercarpet"
           }
          ],
          "scattergeo": [
           {
            "marker": {
             "colorbar": {
              "outlinewidth": 0,
              "ticks": ""
             }
            },
            "type": "scattergeo"
           }
          ],
          "scattergl": [
           {
            "marker": {
             "colorbar": {
              "outlinewidth": 0,
              "ticks": ""
             }
            },
            "type": "scattergl"
           }
          ],
          "scattermap": [
           {
            "marker": {
             "colorbar": {
              "outlinewidth": 0,
              "ticks": ""
             }
            },
            "type": "scattermap"
           }
          ],
          "scattermapbox": [
           {
            "marker": {
             "colorbar": {
              "outlinewidth": 0,
              "ticks": ""
             }
            },
            "type": "scattermapbox"
           }
          ],
          "scatterpolar": [
           {
            "marker": {
             "colorbar": {
              "outlinewidth": 0,
              "ticks": ""
             }
            },
            "type": "scatterpolar"
           }
          ],
          "scatterpolargl": [
           {
            "marker": {
             "colorbar": {
              "outlinewidth": 0,
              "ticks": ""
             }
            },
            "type": "scatterpolargl"
           }
          ],
          "scatterternary": [
           {
            "marker": {
             "colorbar": {
              "outlinewidth": 0,
              "ticks": ""
             }
            },
            "type": "scatterternary"
           }
          ],
          "surface": [
           {
            "colorbar": {
             "outlinewidth": 0,
             "ticks": ""
            },
            "colorscale": [
             [
              0,
              "#0d0887"
             ],
             [
              0.1111111111111111,
              "#46039f"
             ],
             [
              0.2222222222222222,
              "#7201a8"
             ],
             [
              0.3333333333333333,
              "#9c179e"
             ],
             [
              0.4444444444444444,
              "#bd3786"
             ],
             [
              0.5555555555555556,
              "#d8576b"
             ],
             [
              0.6666666666666666,
              "#ed7953"
             ],
             [
              0.7777777777777778,
              "#fb9f3a"
             ],
             [
              0.8888888888888888,
              "#fdca26"
             ],
             [
              1,
              "#f0f921"
             ]
            ],
            "type": "surface"
           }
          ],
          "table": [
           {
            "cells": {
             "fill": {
              "color": "#EBF0F8"
             },
             "line": {
              "color": "white"
             }
            },
            "header": {
             "fill": {
              "color": "#C8D4E3"
             },
             "line": {
              "color": "white"
             }
            },
            "type": "table"
           }
          ]
         },
         "layout": {
          "annotationdefaults": {
           "arrowcolor": "#2a3f5f",
           "arrowhead": 0,
           "arrowwidth": 1
          },
          "autotypenumbers": "strict",
          "coloraxis": {
           "colorbar": {
            "outlinewidth": 0,
            "ticks": ""
           }
          },
          "colorscale": {
           "diverging": [
            [
             0,
             "#8e0152"
            ],
            [
             0.1,
             "#c51b7d"
            ],
            [
             0.2,
             "#de77ae"
            ],
            [
             0.3,
             "#f1b6da"
            ],
            [
             0.4,
             "#fde0ef"
            ],
            [
             0.5,
             "#f7f7f7"
            ],
            [
             0.6,
             "#e6f5d0"
            ],
            [
             0.7,
             "#b8e186"
            ],
            [
             0.8,
             "#7fbc41"
            ],
            [
             0.9,
             "#4d9221"
            ],
            [
             1,
             "#276419"
            ]
           ],
           "sequential": [
            [
             0,
             "#0d0887"
            ],
            [
             0.1111111111111111,
             "#46039f"
            ],
            [
             0.2222222222222222,
             "#7201a8"
            ],
            [
             0.3333333333333333,
             "#9c179e"
            ],
            [
             0.4444444444444444,
             "#bd3786"
            ],
            [
             0.5555555555555556,
             "#d8576b"
            ],
            [
             0.6666666666666666,
             "#ed7953"
            ],
            [
             0.7777777777777778,
             "#fb9f3a"
            ],
            [
             0.8888888888888888,
             "#fdca26"
            ],
            [
             1,
             "#f0f921"
            ]
           ],
           "sequentialminus": [
            [
             0,
             "#0d0887"
            ],
            [
             0.1111111111111111,
             "#46039f"
            ],
            [
             0.2222222222222222,
             "#7201a8"
            ],
            [
             0.3333333333333333,
             "#9c179e"
            ],
            [
             0.4444444444444444,
             "#bd3786"
            ],
            [
             0.5555555555555556,
             "#d8576b"
            ],
            [
             0.6666666666666666,
             "#ed7953"
            ],
            [
             0.7777777777777778,
             "#fb9f3a"
            ],
            [
             0.8888888888888888,
             "#fdca26"
            ],
            [
             1,
             "#f0f921"
            ]
           ]
          },
          "colorway": [
           "#636efa",
           "#EF553B",
           "#00cc96",
           "#ab63fa",
           "#FFA15A",
           "#19d3f3",
           "#FF6692",
           "#B6E880",
           "#FF97FF",
           "#FECB52"
          ],
          "font": {
           "color": "#2a3f5f"
          },
          "geo": {
           "bgcolor": "white",
           "lakecolor": "white",
           "landcolor": "#E5ECF6",
           "showlakes": true,
           "showland": true,
           "subunitcolor": "white"
          },
          "hoverlabel": {
           "align": "left"
          },
          "hovermode": "closest",
          "mapbox": {
           "style": "light"
          },
          "paper_bgcolor": "white",
          "plot_bgcolor": "#E5ECF6",
          "polar": {
           "angularaxis": {
            "gridcolor": "white",
            "linecolor": "white",
            "ticks": ""
           },
           "bgcolor": "#E5ECF6",
           "radialaxis": {
            "gridcolor": "white",
            "linecolor": "white",
            "ticks": ""
           }
          },
          "scene": {
           "xaxis": {
            "backgroundcolor": "#E5ECF6",
            "gridcolor": "white",
            "gridwidth": 2,
            "linecolor": "white",
            "showbackground": true,
            "ticks": "",
            "zerolinecolor": "white"
           },
           "yaxis": {
            "backgroundcolor": "#E5ECF6",
            "gridcolor": "white",
            "gridwidth": 2,
            "linecolor": "white",
            "showbackground": true,
            "ticks": "",
            "zerolinecolor": "white"
           },
           "zaxis": {
            "backgroundcolor": "#E5ECF6",
            "gridcolor": "white",
            "gridwidth": 2,
            "linecolor": "white",
            "showbackground": true,
            "ticks": "",
            "zerolinecolor": "white"
           }
          },
          "shapedefaults": {
           "line": {
            "color": "#2a3f5f"
           }
          },
          "ternary": {
           "aaxis": {
            "gridcolor": "white",
            "linecolor": "white",
            "ticks": ""
           },
           "baxis": {
            "gridcolor": "white",
            "linecolor": "white",
            "ticks": ""
           },
           "bgcolor": "#E5ECF6",
           "caxis": {
            "gridcolor": "white",
            "linecolor": "white",
            "ticks": ""
           }
          },
          "title": {
           "x": 0.05
          },
          "xaxis": {
           "automargin": true,
           "gridcolor": "white",
           "linecolor": "white",
           "ticks": "",
           "title": {
            "standoff": 15
           },
           "zerolinecolor": "white",
           "zerolinewidth": 2
          },
          "yaxis": {
           "automargin": true,
           "gridcolor": "white",
           "linecolor": "white",
           "ticks": "",
           "title": {
            "standoff": 15
           },
           "zerolinecolor": "white",
           "zerolinewidth": 2
          }
         }
        },
        "title": {
         "text": "Weather Stations in the Netherlands"
        }
       }
      }
     },
     "metadata": {},
     "output_type": "display_data"
    }
   ],
   "source": [
    "import pandas as pd\n",
    "import plotly.express as px\n",
    "import os\n",
    "\n",
    "df_stations = pd.read_parquet(os.path.join(os.getcwd(),r\"data\\df_stations.parquet\"))\n",
    "print(df_stations.head())\n",
    "\n",
    "fig = px.scatter_map(\n",
    "    df_stations,\n",
    "    lat=\"LAT(north)\",\n",
    "    lon=\"LON(east)\",\n",
    "    hover_name=\"NAME\",        # Column to appear in bold in the hover tooltip\n",
    "    hover_data=[\"STN\"],       # Additional data to appear in the tooltip\n",
    "    color_discrete_sequence=[\"blue\"], # Set marker color\n",
    "    zoom=7,                   # Initial map zoom level\n",
    "    title=\"Weather Stations in the Netherlands\"\n",
    ")\n",
    "\n",
    "fig.update_layout(\n",
    "    mapbox_style=\"open-street-map\",\n",
    "    margin={\"r\":0, \"t\":40, \"l\":0, \"b\":0} # Adjust margins\n",
    ")\n",
    "\n",
    "# 4. Show the figure\n",
    "fig.show()\n"
   ]
  },
  {
   "cell_type": "markdown",
   "metadata": {},
   "source": [
    "Schiphol, De Bilt, Cabauw Mast, Rotterdam, Voorschoten\n"
   ]
  },
  {
   "cell_type": "code",
   "execution_count": null,
   "metadata": {},
   "outputs": [
    {
     "ename": "KeyError",
     "evalue": "'LAT(north)'",
     "output_type": "error",
     "traceback": [
      "\u001b[31m---------------------------------------------------------------------------\u001b[39m",
      "\u001b[31mKeyError\u001b[39m                                  Traceback (most recent call last)",
      "\u001b[36mFile \u001b[39m\u001b[32md:\\Anaconda3\\envs\\TIL6022-25\\Lib\\site-packages\\pandas\\core\\indexes\\base.py:3812\u001b[39m, in \u001b[36mIndex.get_loc\u001b[39m\u001b[34m(self, key)\u001b[39m\n\u001b[32m   3811\u001b[39m \u001b[38;5;28;01mtry\u001b[39;00m:\n\u001b[32m-> \u001b[39m\u001b[32m3812\u001b[39m     \u001b[38;5;28;01mreturn\u001b[39;00m \u001b[38;5;28;43mself\u001b[39;49m\u001b[43m.\u001b[49m\u001b[43m_engine\u001b[49m\u001b[43m.\u001b[49m\u001b[43mget_loc\u001b[49m\u001b[43m(\u001b[49m\u001b[43mcasted_key\u001b[49m\u001b[43m)\u001b[49m\n\u001b[32m   3813\u001b[39m \u001b[38;5;28;01mexcept\u001b[39;00m \u001b[38;5;167;01mKeyError\u001b[39;00m \u001b[38;5;28;01mas\u001b[39;00m err:\n",
      "\u001b[36mFile \u001b[39m\u001b[32mpandas/_libs/index.pyx:167\u001b[39m, in \u001b[36mpandas._libs.index.IndexEngine.get_loc\u001b[39m\u001b[34m()\u001b[39m\n",
      "\u001b[36mFile \u001b[39m\u001b[32mpandas/_libs/index.pyx:196\u001b[39m, in \u001b[36mpandas._libs.index.IndexEngine.get_loc\u001b[39m\u001b[34m()\u001b[39m\n",
      "\u001b[36mFile \u001b[39m\u001b[32mpandas/_libs/hashtable_class_helper.pxi:7088\u001b[39m, in \u001b[36mpandas._libs.hashtable.PyObjectHashTable.get_item\u001b[39m\u001b[34m()\u001b[39m\n",
      "\u001b[36mFile \u001b[39m\u001b[32mpandas/_libs/hashtable_class_helper.pxi:7096\u001b[39m, in \u001b[36mpandas._libs.hashtable.PyObjectHashTable.get_item\u001b[39m\u001b[34m()\u001b[39m\n",
      "\u001b[31mKeyError\u001b[39m: 'LAT(north)'",
      "\nThe above exception was the direct cause of the following exception:\n",
      "\u001b[31mKeyError\u001b[39m                                  Traceback (most recent call last)",
      "\u001b[36mCell\u001b[39m\u001b[36m \u001b[39m\u001b[32mIn[17]\u001b[39m\u001b[32m, line 75\u001b[39m\n\u001b[32m     72\u001b[39m my_lon = \u001b[32m4.47917\u001b[39m\n\u001b[32m     74\u001b[39m \u001b[38;5;66;03m# 2. Find the 3 closest stations\u001b[39;00m\n\u001b[32m---> \u001b[39m\u001b[32m75\u001b[39m closest_stations = \u001b[43mfind_closest_stations\u001b[49m\u001b[43m(\u001b[49m\u001b[43mmy_lat\u001b[49m\u001b[43m,\u001b[49m\u001b[43m \u001b[49m\u001b[43mmy_lon\u001b[49m\u001b[43m,\u001b[49m\u001b[43m \u001b[49m\u001b[43mdf_stations\u001b[49m\u001b[43m)\u001b[49m\n\u001b[32m     77\u001b[39m \u001b[38;5;28mprint\u001b[39m(\u001b[33m\"\u001b[39m\u001b[33mThe 3 closest stations to your location are:\u001b[39m\u001b[33m\"\u001b[39m)\n\u001b[32m     78\u001b[39m \u001b[38;5;28mprint\u001b[39m(closest_stations[[\u001b[33m'\u001b[39m\u001b[33mNAME\u001b[39m\u001b[33m'\u001b[39m, \u001b[33m'\u001b[39m\u001b[33mSTN\u001b[39m\u001b[33m'\u001b[39m, \u001b[33m'\u001b[39m\u001b[33mdistance_km\u001b[39m\u001b[33m'\u001b[39m, \u001b[33m'\u001b[39m\u001b[33mTemperature_C\u001b[39m\u001b[33m'\u001b[39m, \u001b[33m'\u001b[39m\u001b[33mWind_Speed_kmh\u001b[39m\u001b[33m'\u001b[39m]])\n",
      "\u001b[36mCell\u001b[39m\u001b[36m \u001b[39m\u001b[32mIn[17]\u001b[39m\u001b[32m, line 25\u001b[39m, in \u001b[36mfind_closest_stations\u001b[39m\u001b[34m(input_lat, input_lon, stations_df)\u001b[39m\n\u001b[32m     22\u001b[39m \u001b[38;5;250m\u001b[39m\u001b[33;03m\"\"\"Finds the 3 closest weather stations to a given lat/lon point.\"\"\"\u001b[39;00m\n\u001b[32m     23\u001b[39m input_location = (input_lat, input_lon)\n\u001b[32m---> \u001b[39m\u001b[32m25\u001b[39m distances = \u001b[43mstations_df\u001b[49m\u001b[43m.\u001b[49m\u001b[43mapply\u001b[49m\u001b[43m(\u001b[49m\n\u001b[32m     26\u001b[39m \u001b[43m    \u001b[49m\u001b[38;5;28;43;01mlambda\u001b[39;49;00m\u001b[43m \u001b[49m\u001b[43mrow\u001b[49m\u001b[43m:\u001b[49m\u001b[43m \u001b[49m\u001b[43mgeodesic\u001b[49m\u001b[43m(\u001b[49m\u001b[43minput_location\u001b[49m\u001b[43m,\u001b[49m\u001b[43m \u001b[49m\u001b[43m(\u001b[49m\u001b[43mrow\u001b[49m\u001b[43m[\u001b[49m\u001b[33;43m'\u001b[39;49m\u001b[33;43mLAT(north)\u001b[39;49m\u001b[33;43m'\u001b[39;49m\u001b[43m]\u001b[49m\u001b[43m,\u001b[49m\u001b[43m \u001b[49m\u001b[43mrow\u001b[49m\u001b[43m[\u001b[49m\u001b[33;43m'\u001b[39;49m\u001b[33;43mLON(east)\u001b[39;49m\u001b[33;43m'\u001b[39;49m\u001b[43m]\u001b[49m\u001b[43m)\u001b[49m\u001b[43m)\u001b[49m\u001b[43m.\u001b[49m\u001b[43mkm\u001b[49m\u001b[43m,\u001b[49m\n\u001b[32m     27\u001b[39m \u001b[43m    \u001b[49m\u001b[43maxis\u001b[49m\u001b[43m=\u001b[49m\u001b[32;43m1\u001b[39;49m\n\u001b[32m     28\u001b[39m \u001b[43m\u001b[49m\u001b[43m)\u001b[49m\n\u001b[32m     30\u001b[39m df_with_dist = stations_df.copy()\n\u001b[32m     31\u001b[39m df_with_dist[\u001b[33m'\u001b[39m\u001b[33mdistance_km\u001b[39m\u001b[33m'\u001b[39m] = distances\n",
      "\u001b[36mFile \u001b[39m\u001b[32md:\\Anaconda3\\envs\\TIL6022-25\\Lib\\site-packages\\pandas\\core\\frame.py:10381\u001b[39m, in \u001b[36mapply\u001b[39m\u001b[34m(self, func, axis, raw, result_type, args, by_row, engine, engine_kwargs, **kwargs)\u001b[39m\n\u001b[32m  10197\u001b[39m \u001b[38;5;28;01mdef\u001b[39;00m\u001b[38;5;250m \u001b[39m\u001b[34mapply\u001b[39m(\n\u001b[32m  10198\u001b[39m     \u001b[38;5;28mself\u001b[39m,\n\u001b[32m  10199\u001b[39m     func: AggFuncType,\n\u001b[32m   (...)\u001b[39m\u001b[32m  10207\u001b[39m     **kwargs,\n\u001b[32m  10208\u001b[39m ):\n\u001b[32m  10209\u001b[39m \u001b[38;5;250m    \u001b[39m\u001b[33;03m\"\"\"\u001b[39;00m\n\u001b[32m  10210\u001b[39m \u001b[33;03m    Apply a function along an axis of the DataFrame.\u001b[39;00m\n\u001b[32m  10211\u001b[39m \n\u001b[32m  10212\u001b[39m \u001b[33;03m    Objects passed to the function are Series objects whose index is\u001b[39;00m\n\u001b[32m  10213\u001b[39m \u001b[33;03m    either the DataFrame's index (``axis=0``) or the DataFrame's columns\u001b[39;00m\n\u001b[32m  10214\u001b[39m \u001b[33;03m    (``axis=1``). By default (``result_type=None``), the final return type\u001b[39;00m\n\u001b[32m  10215\u001b[39m \u001b[33;03m    is inferred from the return type of the applied function. Otherwise,\u001b[39;00m\n\u001b[32m  10216\u001b[39m \u001b[33;03m    it depends on the `result_type` argument.\u001b[39;00m\n\u001b[32m  10217\u001b[39m \n\u001b[32m  10218\u001b[39m \u001b[33;03m    Parameters\u001b[39;00m\n\u001b[32m  10219\u001b[39m \u001b[33;03m    ----------\u001b[39;00m\n\u001b[32m  10220\u001b[39m \u001b[33;03m    func : function\u001b[39;00m\n\u001b[32m  10221\u001b[39m \u001b[33;03m        Function to apply to each column or row.\u001b[39;00m\n\u001b[32m  10222\u001b[39m \u001b[33;03m    axis : {0 or 'index', 1 or 'columns'}, default 0\u001b[39;00m\n\u001b[32m  10223\u001b[39m \u001b[33;03m        Axis along which the function is applied:\u001b[39;00m\n\u001b[32m  10224\u001b[39m \n\u001b[32m  10225\u001b[39m \u001b[33;03m        * 0 or 'index': apply function to each column.\u001b[39;00m\n\u001b[32m  10226\u001b[39m \u001b[33;03m        * 1 or 'columns': apply function to each row.\u001b[39;00m\n\u001b[32m  10227\u001b[39m \n\u001b[32m  10228\u001b[39m \u001b[33;03m    raw : bool, default False\u001b[39;00m\n\u001b[32m  10229\u001b[39m \u001b[33;03m        Determines if row or column is passed as a Series or ndarray object:\u001b[39;00m\n\u001b[32m  10230\u001b[39m \n\u001b[32m  10231\u001b[39m \u001b[33;03m        * ``False`` : passes each row or column as a Series to the\u001b[39;00m\n\u001b[32m  10232\u001b[39m \u001b[33;03m          function.\u001b[39;00m\n\u001b[32m  10233\u001b[39m \u001b[33;03m        * ``True`` : the passed function will receive ndarray objects\u001b[39;00m\n\u001b[32m  10234\u001b[39m \u001b[33;03m          instead.\u001b[39;00m\n\u001b[32m  10235\u001b[39m \u001b[33;03m          If you are just applying a NumPy reduction function this will\u001b[39;00m\n\u001b[32m  10236\u001b[39m \u001b[33;03m          achieve much better performance.\u001b[39;00m\n\u001b[32m  10237\u001b[39m \n\u001b[32m  10238\u001b[39m \u001b[33;03m    result_type : {'expand', 'reduce', 'broadcast', None}, default None\u001b[39;00m\n\u001b[32m  10239\u001b[39m \u001b[33;03m        These only act when ``axis=1`` (columns):\u001b[39;00m\n\u001b[32m  10240\u001b[39m \n\u001b[32m  10241\u001b[39m \u001b[33;03m        * 'expand' : list-like results will be turned into columns.\u001b[39;00m\n\u001b[32m  10242\u001b[39m \u001b[33;03m        * 'reduce' : returns a Series if possible rather than expanding\u001b[39;00m\n\u001b[32m  10243\u001b[39m \u001b[33;03m          list-like results. This is the opposite of 'expand'.\u001b[39;00m\n\u001b[32m  10244\u001b[39m \u001b[33;03m        * 'broadcast' : results will be broadcast to the original shape\u001b[39;00m\n\u001b[32m  10245\u001b[39m \u001b[33;03m          of the DataFrame, the original index and columns will be\u001b[39;00m\n\u001b[32m  10246\u001b[39m \u001b[33;03m          retained.\u001b[39;00m\n\u001b[32m  10247\u001b[39m \n\u001b[32m  10248\u001b[39m \u001b[33;03m        The default behaviour (None) depends on the return value of the\u001b[39;00m\n\u001b[32m  10249\u001b[39m \u001b[33;03m        applied function: list-like results will be returned as a Series\u001b[39;00m\n\u001b[32m  10250\u001b[39m \u001b[33;03m        of those. However if the apply function returns a Series these\u001b[39;00m\n\u001b[32m  10251\u001b[39m \u001b[33;03m        are expanded to columns.\u001b[39;00m\n\u001b[32m  10252\u001b[39m \u001b[33;03m    args : tuple\u001b[39;00m\n\u001b[32m  10253\u001b[39m \u001b[33;03m        Positional arguments to pass to `func` in addition to the\u001b[39;00m\n\u001b[32m  10254\u001b[39m \u001b[33;03m        array/series.\u001b[39;00m\n\u001b[32m  10255\u001b[39m \u001b[33;03m    by_row : False or \"compat\", default \"compat\"\u001b[39;00m\n\u001b[32m  10256\u001b[39m \u001b[33;03m        Only has an effect when ``func`` is a listlike or dictlike of funcs\u001b[39;00m\n\u001b[32m  10257\u001b[39m \u001b[33;03m        and the func isn't a string.\u001b[39;00m\n\u001b[32m  10258\u001b[39m \u001b[33;03m        If \"compat\", will if possible first translate the func into pandas\u001b[39;00m\n\u001b[32m  10259\u001b[39m \u001b[33;03m        methods (e.g. ``Series().apply(np.sum)`` will be translated to\u001b[39;00m\n\u001b[32m  10260\u001b[39m \u001b[33;03m        ``Series().sum()``). If that doesn't work, will try call to apply again with\u001b[39;00m\n\u001b[32m  10261\u001b[39m \u001b[33;03m        ``by_row=True`` and if that fails, will call apply again with\u001b[39;00m\n\u001b[32m  10262\u001b[39m \u001b[33;03m        ``by_row=False`` (backward compatible).\u001b[39;00m\n\u001b[32m  10263\u001b[39m \u001b[33;03m        If False, the funcs will be passed the whole Series at once.\u001b[39;00m\n\u001b[32m  10264\u001b[39m \n\u001b[32m  10265\u001b[39m \u001b[33;03m        .. versionadded:: 2.1.0\u001b[39;00m\n\u001b[32m  10266\u001b[39m \n\u001b[32m  10267\u001b[39m \u001b[33;03m    engine : {'python', 'numba'}, default 'python'\u001b[39;00m\n\u001b[32m  10268\u001b[39m \u001b[33;03m        Choose between the python (default) engine or the numba engine in apply.\u001b[39;00m\n\u001b[32m  10269\u001b[39m \n\u001b[32m  10270\u001b[39m \u001b[33;03m        The numba engine will attempt to JIT compile the passed function,\u001b[39;00m\n\u001b[32m  10271\u001b[39m \u001b[33;03m        which may result in speedups for large DataFrames.\u001b[39;00m\n\u001b[32m  10272\u001b[39m \u001b[33;03m        It also supports the following engine_kwargs :\u001b[39;00m\n\u001b[32m  10273\u001b[39m \n\u001b[32m  10274\u001b[39m \u001b[33;03m        - nopython (compile the function in nopython mode)\u001b[39;00m\n\u001b[32m  10275\u001b[39m \u001b[33;03m        - nogil (release the GIL inside the JIT compiled function)\u001b[39;00m\n\u001b[32m  10276\u001b[39m \u001b[33;03m        - parallel (try to apply the function in parallel over the DataFrame)\u001b[39;00m\n\u001b[32m  10277\u001b[39m \n\u001b[32m  10278\u001b[39m \u001b[33;03m          Note: Due to limitations within numba/how pandas interfaces with numba,\u001b[39;00m\n\u001b[32m  10279\u001b[39m \u001b[33;03m          you should only use this if raw=True\u001b[39;00m\n\u001b[32m  10280\u001b[39m \n\u001b[32m  10281\u001b[39m \u001b[33;03m        Note: The numba compiler only supports a subset of\u001b[39;00m\n\u001b[32m  10282\u001b[39m \u001b[33;03m        valid Python/numpy operations.\u001b[39;00m\n\u001b[32m  10283\u001b[39m \n\u001b[32m  10284\u001b[39m \u001b[33;03m        Please read more about the `supported python features\u001b[39;00m\n\u001b[32m  10285\u001b[39m \u001b[33;03m        <https://numba.pydata.org/numba-doc/dev/reference/pysupported.html>`_\u001b[39;00m\n\u001b[32m  10286\u001b[39m \u001b[33;03m        and `supported numpy features\u001b[39;00m\n\u001b[32m  10287\u001b[39m \u001b[33;03m        <https://numba.pydata.org/numba-doc/dev/reference/numpysupported.html>`_\u001b[39;00m\n\u001b[32m  10288\u001b[39m \u001b[33;03m        in numba to learn what you can or cannot use in the passed function.\u001b[39;00m\n\u001b[32m  10289\u001b[39m \n\u001b[32m  10290\u001b[39m \u001b[33;03m        .. versionadded:: 2.2.0\u001b[39;00m\n\u001b[32m  10291\u001b[39m \n\u001b[32m  10292\u001b[39m \u001b[33;03m    engine_kwargs : dict\u001b[39;00m\n\u001b[32m  10293\u001b[39m \u001b[33;03m        Pass keyword arguments to the engine.\u001b[39;00m\n\u001b[32m  10294\u001b[39m \u001b[33;03m        This is currently only used by the numba engine,\u001b[39;00m\n\u001b[32m  10295\u001b[39m \u001b[33;03m        see the documentation for the engine argument for more information.\u001b[39;00m\n\u001b[32m  10296\u001b[39m \u001b[33;03m    **kwargs\u001b[39;00m\n\u001b[32m  10297\u001b[39m \u001b[33;03m        Additional keyword arguments to pass as keywords arguments to\u001b[39;00m\n\u001b[32m  10298\u001b[39m \u001b[33;03m        `func`.\u001b[39;00m\n\u001b[32m  10299\u001b[39m \n\u001b[32m  10300\u001b[39m \u001b[33;03m    Returns\u001b[39;00m\n\u001b[32m  10301\u001b[39m \u001b[33;03m    -------\u001b[39;00m\n\u001b[32m  10302\u001b[39m \u001b[33;03m    Series or DataFrame\u001b[39;00m\n\u001b[32m  10303\u001b[39m \u001b[33;03m        Result of applying ``func`` along the given axis of the\u001b[39;00m\n\u001b[32m  10304\u001b[39m \u001b[33;03m        DataFrame.\u001b[39;00m\n\u001b[32m  10305\u001b[39m \n\u001b[32m  10306\u001b[39m \u001b[33;03m    See Also\u001b[39;00m\n\u001b[32m  10307\u001b[39m \u001b[33;03m    --------\u001b[39;00m\n\u001b[32m  10308\u001b[39m \u001b[33;03m    DataFrame.map: For elementwise operations.\u001b[39;00m\n\u001b[32m  10309\u001b[39m \u001b[33;03m    DataFrame.aggregate: Only perform aggregating type operations.\u001b[39;00m\n\u001b[32m  10310\u001b[39m \u001b[33;03m    DataFrame.transform: Only perform transforming type operations.\u001b[39;00m\n\u001b[32m  10311\u001b[39m \n\u001b[32m  10312\u001b[39m \u001b[33;03m    Notes\u001b[39;00m\n\u001b[32m  10313\u001b[39m \u001b[33;03m    -----\u001b[39;00m\n\u001b[32m  10314\u001b[39m \u001b[33;03m    Functions that mutate the passed object can produce unexpected\u001b[39;00m\n\u001b[32m  10315\u001b[39m \u001b[33;03m    behavior or errors and are not supported. See :ref:`gotchas.udf-mutation`\u001b[39;00m\n\u001b[32m  10316\u001b[39m \u001b[33;03m    for more details.\u001b[39;00m\n\u001b[32m  10317\u001b[39m \n\u001b[32m  10318\u001b[39m \u001b[33;03m    Examples\u001b[39;00m\n\u001b[32m  10319\u001b[39m \u001b[33;03m    --------\u001b[39;00m\n\u001b[32m  10320\u001b[39m \u001b[33;03m    >>> df = pd.DataFrame([[4, 9]] * 3, columns=['A', 'B'])\u001b[39;00m\n\u001b[32m  10321\u001b[39m \u001b[33;03m    >>> df\u001b[39;00m\n\u001b[32m  10322\u001b[39m \u001b[33;03m       A  B\u001b[39;00m\n\u001b[32m  10323\u001b[39m \u001b[33;03m    0  4  9\u001b[39;00m\n\u001b[32m  10324\u001b[39m \u001b[33;03m    1  4  9\u001b[39;00m\n\u001b[32m  10325\u001b[39m \u001b[33;03m    2  4  9\u001b[39;00m\n\u001b[32m  10326\u001b[39m \n\u001b[32m  10327\u001b[39m \u001b[33;03m    Using a numpy universal function (in this case the same as\u001b[39;00m\n\u001b[32m  10328\u001b[39m \u001b[33;03m    ``np.sqrt(df)``):\u001b[39;00m\n\u001b[32m  10329\u001b[39m \n\u001b[32m  10330\u001b[39m \u001b[33;03m    >>> df.apply(np.sqrt)\u001b[39;00m\n\u001b[32m  10331\u001b[39m \u001b[33;03m         A    B\u001b[39;00m\n\u001b[32m  10332\u001b[39m \u001b[33;03m    0  2.0  3.0\u001b[39;00m\n\u001b[32m  10333\u001b[39m \u001b[33;03m    1  2.0  3.0\u001b[39;00m\n\u001b[32m  10334\u001b[39m \u001b[33;03m    2  2.0  3.0\u001b[39;00m\n\u001b[32m  10335\u001b[39m \n\u001b[32m  10336\u001b[39m \u001b[33;03m    Using a reducing function on either axis\u001b[39;00m\n\u001b[32m  10337\u001b[39m \n\u001b[32m  10338\u001b[39m \u001b[33;03m    >>> df.apply(np.sum, axis=0)\u001b[39;00m\n\u001b[32m  10339\u001b[39m \u001b[33;03m    A    12\u001b[39;00m\n\u001b[32m  10340\u001b[39m \u001b[33;03m    B    27\u001b[39;00m\n\u001b[32m  10341\u001b[39m \u001b[33;03m    dtype: int64\u001b[39;00m\n\u001b[32m  10342\u001b[39m \n\u001b[32m  10343\u001b[39m \u001b[33;03m    >>> df.apply(np.sum, axis=1)\u001b[39;00m\n\u001b[32m  10344\u001b[39m \u001b[33;03m    0    13\u001b[39;00m\n\u001b[32m  10345\u001b[39m \u001b[33;03m    1    13\u001b[39;00m\n\u001b[32m  10346\u001b[39m \u001b[33;03m    2    13\u001b[39;00m\n\u001b[32m  10347\u001b[39m \u001b[33;03m    dtype: int64\u001b[39;00m\n\u001b[32m  10348\u001b[39m \n\u001b[32m  10349\u001b[39m \u001b[33;03m    Returning a list-like will result in a Series\u001b[39;00m\n\u001b[32m  10350\u001b[39m \n\u001b[32m  10351\u001b[39m \u001b[33;03m    >>> df.apply(lambda x: [1, 2], axis=1)\u001b[39;00m\n\u001b[32m  10352\u001b[39m \u001b[33;03m    0    [1, 2]\u001b[39;00m\n\u001b[32m  10353\u001b[39m \u001b[33;03m    1    [1, 2]\u001b[39;00m\n\u001b[32m  10354\u001b[39m \u001b[33;03m    2    [1, 2]\u001b[39;00m\n\u001b[32m  10355\u001b[39m \u001b[33;03m    dtype: object\u001b[39;00m\n\u001b[32m  10356\u001b[39m \n\u001b[32m  10357\u001b[39m \u001b[33;03m    Passing ``result_type='expand'`` will expand list-like results\u001b[39;00m\n\u001b[32m  10358\u001b[39m \u001b[33;03m    to columns of a Dataframe\u001b[39;00m\n\u001b[32m  10359\u001b[39m \n\u001b[32m  10360\u001b[39m \u001b[33;03m    >>> df.apply(lambda x: [1, 2], axis=1, result_type='expand')\u001b[39;00m\n\u001b[32m  10361\u001b[39m \u001b[33;03m       0  1\u001b[39;00m\n\u001b[32m  10362\u001b[39m \u001b[33;03m    0  1  2\u001b[39;00m\n\u001b[32m  10363\u001b[39m \u001b[33;03m    1  1  2\u001b[39;00m\n\u001b[32m  10364\u001b[39m \u001b[33;03m    2  1  2\u001b[39;00m\n\u001b[32m  10365\u001b[39m \n\u001b[32m  10366\u001b[39m \u001b[33;03m    Returning a Series inside the function is similar to passing\u001b[39;00m\n\u001b[32m  10367\u001b[39m \u001b[33;03m    ``result_type='expand'``. The resulting column names\u001b[39;00m\n\u001b[32m  10368\u001b[39m \u001b[33;03m    will be the Series index.\u001b[39;00m\n\u001b[32m  10369\u001b[39m \n\u001b[32m  10370\u001b[39m \u001b[33;03m    >>> df.apply(lambda x: pd.Series([1, 2], index=['foo', 'bar']), axis=1)\u001b[39;00m\n\u001b[32m  10371\u001b[39m \u001b[33;03m       foo  bar\u001b[39;00m\n\u001b[32m  10372\u001b[39m \u001b[33;03m    0    1    2\u001b[39;00m\n\u001b[32m  10373\u001b[39m \u001b[33;03m    1    1    2\u001b[39;00m\n\u001b[32m  10374\u001b[39m \u001b[33;03m    2    1    2\u001b[39;00m\n\u001b[32m  10375\u001b[39m \n\u001b[32m  10376\u001b[39m \u001b[33;03m    Passing ``result_type='broadcast'`` will ensure the same shape\u001b[39;00m\n\u001b[32m  10377\u001b[39m \u001b[33;03m    result, whether list-like or scalar is returned by the function,\u001b[39;00m\n\u001b[32m  10378\u001b[39m \u001b[33;03m    and broadcast it along the axis. The resulting column names will\u001b[39;00m\n\u001b[32m  10379\u001b[39m \u001b[33;03m    be the originals.\u001b[39;00m\n\u001b[32m  10380\u001b[39m \n\u001b[32m> \u001b[39m\u001b[32m10381\u001b[39m \u001b[33;03m    >>> df.apply(lambda x: [1, 2], axis=1, result_type='broadcast')\u001b[39;00m\n\u001b[32m  10382\u001b[39m \u001b[33;03m       A  B\u001b[39;00m\n\u001b[32m  10383\u001b[39m \u001b[33;03m    0  1  2\u001b[39;00m\n\u001b[32m  10384\u001b[39m \u001b[33;03m    1  1  2\u001b[39;00m\n\u001b[32m  10385\u001b[39m \u001b[33;03m    2  1  2\u001b[39;00m\n\u001b[32m  10386\u001b[39m \u001b[33;03m    \"\"\"\u001b[39;00m\n\u001b[32m  10387\u001b[39m     \u001b[38;5;28;01mfrom\u001b[39;00m\u001b[38;5;250m \u001b[39m\u001b[34;01mpandas\u001b[39;00m\u001b[34;01m.\u001b[39;00m\u001b[34;01mcore\u001b[39;00m\u001b[34;01m.\u001b[39;00m\u001b[34;01mapply\u001b[39;00m\u001b[38;5;250m \u001b[39m\u001b[38;5;28;01mimport\u001b[39;00m frame_apply\n\u001b[32m  10389\u001b[39m     op = frame_apply(\n\u001b[32m  10390\u001b[39m         \u001b[38;5;28mself\u001b[39m,\n\u001b[32m  10391\u001b[39m         func=func,\n\u001b[32m   (...)\u001b[39m\u001b[32m  10399\u001b[39m         kwargs=kwargs,\n\u001b[32m  10400\u001b[39m     )\n",
      "\u001b[36mFile \u001b[39m\u001b[32md:\\Anaconda3\\envs\\TIL6022-25\\Lib\\site-packages\\pandas\\core\\apply.py:916\u001b[39m, in \u001b[36mFrameApply.apply\u001b[39m\u001b[34m(self)\u001b[39m\n\u001b[32m    913\u001b[39m \u001b[38;5;28;01melif\u001b[39;00m \u001b[38;5;28mself\u001b[39m.raw:\n\u001b[32m    914\u001b[39m     \u001b[38;5;28;01mreturn\u001b[39;00m \u001b[38;5;28mself\u001b[39m.apply_raw(engine=\u001b[38;5;28mself\u001b[39m.engine, engine_kwargs=\u001b[38;5;28mself\u001b[39m.engine_kwargs)\n\u001b[32m--> \u001b[39m\u001b[32m916\u001b[39m \u001b[38;5;28;01mreturn\u001b[39;00m \u001b[38;5;28;43mself\u001b[39;49m\u001b[43m.\u001b[49m\u001b[43mapply_standard\u001b[49m\u001b[43m(\u001b[49m\u001b[43m)\u001b[49m\n",
      "\u001b[36mFile \u001b[39m\u001b[32md:\\Anaconda3\\envs\\TIL6022-25\\Lib\\site-packages\\pandas\\core\\apply.py:1063\u001b[39m, in \u001b[36mFrameApply.apply_standard\u001b[39m\u001b[34m(self)\u001b[39m\n\u001b[32m   1061\u001b[39m \u001b[38;5;28;01mdef\u001b[39;00m\u001b[38;5;250m \u001b[39m\u001b[34mapply_standard\u001b[39m(\u001b[38;5;28mself\u001b[39m):\n\u001b[32m   1062\u001b[39m     \u001b[38;5;28;01mif\u001b[39;00m \u001b[38;5;28mself\u001b[39m.engine == \u001b[33m\"\u001b[39m\u001b[33mpython\u001b[39m\u001b[33m\"\u001b[39m:\n\u001b[32m-> \u001b[39m\u001b[32m1063\u001b[39m         results, res_index = \u001b[38;5;28;43mself\u001b[39;49m\u001b[43m.\u001b[49m\u001b[43mapply_series_generator\u001b[49m\u001b[43m(\u001b[49m\u001b[43m)\u001b[49m\n\u001b[32m   1064\u001b[39m     \u001b[38;5;28;01melse\u001b[39;00m:\n\u001b[32m   1065\u001b[39m         results, res_index = \u001b[38;5;28mself\u001b[39m.apply_series_numba()\n",
      "\u001b[36mFile \u001b[39m\u001b[32md:\\Anaconda3\\envs\\TIL6022-25\\Lib\\site-packages\\pandas\\core\\apply.py:1081\u001b[39m, in \u001b[36mFrameApply.apply_series_generator\u001b[39m\u001b[34m(self)\u001b[39m\n\u001b[32m   1078\u001b[39m \u001b[38;5;28;01mwith\u001b[39;00m option_context(\u001b[33m\"\u001b[39m\u001b[33mmode.chained_assignment\u001b[39m\u001b[33m\"\u001b[39m, \u001b[38;5;28;01mNone\u001b[39;00m):\n\u001b[32m   1079\u001b[39m     \u001b[38;5;28;01mfor\u001b[39;00m i, v \u001b[38;5;129;01min\u001b[39;00m \u001b[38;5;28menumerate\u001b[39m(series_gen):\n\u001b[32m   1080\u001b[39m         \u001b[38;5;66;03m# ignore SettingWithCopy here in case the user mutates\u001b[39;00m\n\u001b[32m-> \u001b[39m\u001b[32m1081\u001b[39m         results[i] = \u001b[38;5;28;43mself\u001b[39;49m\u001b[43m.\u001b[49m\u001b[43mfunc\u001b[49m\u001b[43m(\u001b[49m\u001b[43mv\u001b[49m\u001b[43m,\u001b[49m\u001b[43m \u001b[49m\u001b[43m*\u001b[49m\u001b[38;5;28;43mself\u001b[39;49m\u001b[43m.\u001b[49m\u001b[43margs\u001b[49m\u001b[43m,\u001b[49m\u001b[43m \u001b[49m\u001b[43m*\u001b[49m\u001b[43m*\u001b[49m\u001b[38;5;28;43mself\u001b[39;49m\u001b[43m.\u001b[49m\u001b[43mkwargs\u001b[49m\u001b[43m)\u001b[49m\n\u001b[32m   1082\u001b[39m         \u001b[38;5;28;01mif\u001b[39;00m \u001b[38;5;28misinstance\u001b[39m(results[i], ABCSeries):\n\u001b[32m   1083\u001b[39m             \u001b[38;5;66;03m# If we have a view on v, we need to make a copy because\u001b[39;00m\n\u001b[32m   1084\u001b[39m             \u001b[38;5;66;03m#  series_generator will swap out the underlying data\u001b[39;00m\n\u001b[32m   1085\u001b[39m             results[i] = results[i].copy(deep=\u001b[38;5;28;01mFalse\u001b[39;00m)\n",
      "\u001b[36mCell\u001b[39m\u001b[36m \u001b[39m\u001b[32mIn[17]\u001b[39m\u001b[32m, line 26\u001b[39m, in \u001b[36mfind_closest_stations.<locals>.<lambda>\u001b[39m\u001b[34m(row)\u001b[39m\n\u001b[32m     22\u001b[39m \u001b[38;5;250m\u001b[39m\u001b[33;03m\"\"\"Finds the 3 closest weather stations to a given lat/lon point.\"\"\"\u001b[39;00m\n\u001b[32m     23\u001b[39m input_location = (input_lat, input_lon)\n\u001b[32m     25\u001b[39m distances = stations_df.apply(\n\u001b[32m---> \u001b[39m\u001b[32m26\u001b[39m     \u001b[38;5;28;01mlambda\u001b[39;00m row: geodesic(input_location, (\u001b[43mrow\u001b[49m\u001b[43m[\u001b[49m\u001b[33;43m'\u001b[39;49m\u001b[33;43mLAT(north)\u001b[39;49m\u001b[33;43m'\u001b[39;49m\u001b[43m]\u001b[49m, row[\u001b[33m'\u001b[39m\u001b[33mLON(east)\u001b[39m\u001b[33m'\u001b[39m])).km,\n\u001b[32m     27\u001b[39m     axis=\u001b[32m1\u001b[39m\n\u001b[32m     28\u001b[39m )\n\u001b[32m     30\u001b[39m df_with_dist = stations_df.copy()\n\u001b[32m     31\u001b[39m df_with_dist[\u001b[33m'\u001b[39m\u001b[33mdistance_km\u001b[39m\u001b[33m'\u001b[39m] = distances\n",
      "\u001b[36mFile \u001b[39m\u001b[32md:\\Anaconda3\\envs\\TIL6022-25\\Lib\\site-packages\\pandas\\core\\series.py:1130\u001b[39m, in \u001b[36m__getitem__\u001b[39m\u001b[34m(self, key)\u001b[39m\n\u001b[32m   1120\u001b[39m \u001b[38;5;28;01mif\u001b[39;00m is_integer(key) \u001b[38;5;129;01mand\u001b[39;00m \u001b[38;5;28mself\u001b[39m.index._should_fallback_to_positional:\n\u001b[32m   1121\u001b[39m     warnings.warn(\n\u001b[32m   1122\u001b[39m         \u001b[38;5;66;03m# GH#50617\u001b[39;00m\n\u001b[32m   1123\u001b[39m         \u001b[33m\"\u001b[39m\u001b[33mSeries.__getitem__ treating keys as positions is deprecated. \u001b[39m\u001b[33m\"\u001b[39m\n\u001b[32m   (...)\u001b[39m\u001b[32m   1128\u001b[39m         stacklevel=find_stack_level(),\n\u001b[32m   1129\u001b[39m     )\n\u001b[32m-> \u001b[39m\u001b[32m1130\u001b[39m     \u001b[38;5;28;01mreturn\u001b[39;00m \u001b[38;5;28mself\u001b[39m._values[key]\n\u001b[32m   1132\u001b[39m \u001b[38;5;28;01melif\u001b[39;00m key_is_scalar:\n\u001b[32m   1133\u001b[39m     \u001b[38;5;28;01mreturn\u001b[39;00m \u001b[38;5;28mself\u001b[39m._get_value(key)\n",
      "\u001b[36mFile \u001b[39m\u001b[32md:\\Anaconda3\\envs\\TIL6022-25\\Lib\\site-packages\\pandas\\core\\series.py:1246\u001b[39m, in \u001b[36m_get_value\u001b[39m\u001b[34m(self, label, takeable)\u001b[39m\n\u001b[32m   1233\u001b[39m \u001b[38;5;250m\u001b[39m\u001b[33;03m\"\"\"\u001b[39;00m\n\u001b[32m   1234\u001b[39m \u001b[33;03mQuickly retrieve single value at passed index label.\u001b[39;00m\n\u001b[32m   1235\u001b[39m \n\u001b[32m   (...)\u001b[39m\u001b[32m   1243\u001b[39m \u001b[33;03mscalar value\u001b[39;00m\n\u001b[32m   1244\u001b[39m \u001b[33;03m\"\"\"\u001b[39;00m\n\u001b[32m   1245\u001b[39m \u001b[38;5;28;01mif\u001b[39;00m takeable:\n\u001b[32m-> \u001b[39m\u001b[32m1246\u001b[39m     \u001b[38;5;28;01mreturn\u001b[39;00m \u001b[38;5;28mself\u001b[39m._values[label]\n\u001b[32m   1248\u001b[39m \u001b[38;5;66;03m# Similar to Index.get_value, but we do not fall back to positional\u001b[39;00m\n\u001b[32m   1249\u001b[39m loc = \u001b[38;5;28mself\u001b[39m.index.get_loc(label)\n",
      "\u001b[36mFile \u001b[39m\u001b[32md:\\Anaconda3\\envs\\TIL6022-25\\Lib\\site-packages\\pandas\\core\\indexes\\base.py:3819\u001b[39m, in \u001b[36mIndex.get_loc\u001b[39m\u001b[34m(self, key)\u001b[39m\n\u001b[32m   3814\u001b[39m     \u001b[38;5;28;01mif\u001b[39;00m \u001b[38;5;28misinstance\u001b[39m(casted_key, \u001b[38;5;28mslice\u001b[39m) \u001b[38;5;129;01mor\u001b[39;00m (\n\u001b[32m   3815\u001b[39m         \u001b[38;5;28misinstance\u001b[39m(casted_key, abc.Iterable)\n\u001b[32m   3816\u001b[39m         \u001b[38;5;129;01mand\u001b[39;00m \u001b[38;5;28many\u001b[39m(\u001b[38;5;28misinstance\u001b[39m(x, \u001b[38;5;28mslice\u001b[39m) \u001b[38;5;28;01mfor\u001b[39;00m x \u001b[38;5;129;01min\u001b[39;00m casted_key)\n\u001b[32m   3817\u001b[39m     ):\n\u001b[32m   3818\u001b[39m         \u001b[38;5;28;01mraise\u001b[39;00m InvalidIndexError(key)\n\u001b[32m-> \u001b[39m\u001b[32m3819\u001b[39m     \u001b[38;5;28;01mraise\u001b[39;00m \u001b[38;5;167;01mKeyError\u001b[39;00m(key) \u001b[38;5;28;01mfrom\u001b[39;00m\u001b[38;5;250m \u001b[39m\u001b[34;01merr\u001b[39;00m\n\u001b[32m   3820\u001b[39m \u001b[38;5;28;01mexcept\u001b[39;00m \u001b[38;5;167;01mTypeError\u001b[39;00m:\n\u001b[32m   3821\u001b[39m     \u001b[38;5;66;03m# If we have a listlike key, _check_indexing_error will raise\u001b[39;00m\n\u001b[32m   3822\u001b[39m     \u001b[38;5;66;03m#  InvalidIndexError. Otherwise we fall through and re-raise\u001b[39;00m\n\u001b[32m   3823\u001b[39m     \u001b[38;5;66;03m#  the TypeError.\u001b[39;00m\n\u001b[32m   3824\u001b[39m     \u001b[38;5;28mself\u001b[39m._check_indexing_error(key)\n",
      "\u001b[31mKeyError\u001b[39m: 'LAT(north)'"
     ]
    }
   ],
   "source": [
    "import pandas as pd\n",
    "from geopy.distance import geodesic\n",
    "import numpy as np\n",
    "import os\n",
    "\n",
    "# 1. Sample DataFrame with station locations and weather data\n",
    "#    (Replace with your actual DataFrame)\n",
    "data = {\n",
    "    'STN': [215, 235, 240, 249, 251, 260, 267],\n",
    "    'LON(east)': [4.437, 4.781, 4.790, 4.979, 5.346, 5.180, 5.384],\n",
    "    'LAT(north)': [52.141, 52.928, 52.318, 52.644, 53.392, 52.100, 52.898],\n",
    "    'NAME': ['Voorschoten', 'De Kooy', 'Schiphol', 'Berkhout', 'Hoorn Terschelling', 'De Bilt', 'Stavoren'],\n",
    "    'Temperature_C': [15.2, 14.8, 15.5, 14.9, 14.1, 15.6, 14.5],\n",
    "    'Wind_Speed_kmh': [22, 28, 25, 26, 35, 19, 30]\n",
    "}\n",
    "df_stations = pd.DataFrame(data)\n",
    "\n",
    "\n",
    "\n",
    "\n",
    "def find_closest_stations(input_lat, input_lon, stations_df):\n",
    "    \"\"\"Finds the 3 closest weather stations to a given lat/lon point.\"\"\"\n",
    "    input_location = (input_lat, input_lon)\n",
    "    \n",
    "    distances = stations_df.apply(\n",
    "        lambda row: geodesic(input_location, (row['LAT(north)'], row['LON(east)'])).km,\n",
    "        axis=1\n",
    "    )\n",
    "    \n",
    "    df_with_dist = stations_df.copy()\n",
    "    df_with_dist['distance_km'] = distances\n",
    "    \n",
    "    return df_with_dist.sort_values('distance_km').head(3)\n",
    "\n",
    "\n",
    "def get_weighted_average_weather(closest_stations_df):\n",
    "    \"\"\"\n",
    "    Calculates the weighted average of weather data from the closest stations\n",
    "    using Inverse Distance Weighting (IDW).\n",
    "    \n",
    "    Returns:\n",
    "        A dictionary with the interpolated weather data.\n",
    "    \"\"\"\n",
    "    # Handle the edge case where the location is exactly at a station\n",
    "    if closest_stations_df['distance_km'].iloc[0] < 0.01: # less than 10 meters\n",
    "        # Return the data from the first station directly\n",
    "        first_station = closest_stations_df.iloc[0]\n",
    "        weather_cols = ['Temperature_C', 'Wind_Speed_kmh'] # Define weather columns\n",
    "        return first_station[weather_cols].to_dict()\n",
    "\n",
    "    # Calculate inverse distance weights\n",
    "    weights = 1 / closest_stations_df['distance_km']\n",
    "    sum_of_weights = np.sum(weights)\n",
    "    \n",
    "    weighted_averages = {}\n",
    "    \n",
    "    # Iterate through the weather data columns to calculate the weighted average\n",
    "    weather_cols_to_average = ['Temperature_C', 'Wind_Speed_kmh']\n",
    "    \n",
    "    for col in weather_cols_to_average:\n",
    "        weighted_sum = np.sum(closest_stations_df[col] * weights)\n",
    "        weighted_average = weighted_sum / sum_of_weights\n",
    "        weighted_averages[col] = weighted_average\n",
    "        \n",
    "    return weighted_averages\n",
    "\n",
    "\n",
    "# --- EXAMPLE USAGE ---\n",
    "\n",
    "# 1. Manually enter a location (e.g., Rotterdam Centraal)\n",
    "my_lat = 51.9225\n",
    "my_lon = 4.47917\n",
    "\n",
    "# 2. Find the 3 closest stations\n",
    "closest_stations = find_closest_stations(my_lat, my_lon, df_stations)\n",
    "\n",
    "print(\"The 3 closest stations to your location are:\")\n",
    "print(closest_stations[['NAME', 'STN', 'distance_km', 'Temperature_C', 'Wind_Speed_kmh']])\n",
    "print(\"-\" * 50)\n",
    "\n",
    "# 3. Calculate and display the interpolated weather data for that location\n",
    "interpolated_weather = get_weighted_average_weather(closest_stations)\n",
    "\n",
    "print(\"Interpolated weather data for your location:\")\n",
    "print(f\"Estimated Temperature: {interpolated_weather['Temperature_C']:.2f}°C\")\n",
    "print(f\"Estimated Wind Speed: {interpolated_weather['Wind_Speed_kmh']:.2f} km/h\")"
   ]
  },
  {
   "cell_type": "code",
   "execution_count": 18,
   "metadata": {},
   "outputs": [
    {
     "name": "stderr",
     "output_type": "stream",
     "text": [
      "C:\\Users\\jarri\\Documents\\GitHub\\TIL-groepje-1\\plot_train_stations.py:74: DeprecationWarning:\n",
      "\n",
      "*scattermapbox* is deprecated! Use *scattermap* instead. Learn more at: https://plotly.com/python/mapbox-to-maplibre/\n",
      "\n",
      "C:\\Users\\jarri\\Documents\\GitHub\\TIL-groepje-1\\plot_train_stations.py:88: DeprecationWarning:\n",
      "\n",
      "*scattermapbox* is deprecated! Use *scattermap* instead. Learn more at: https://plotly.com/python/mapbox-to-maplibre/\n",
      "\n"
     ]
    },
    {
     "data": {
      "application/vnd.plotly.v1+json": {
       "config": {
        "plotlyServerURL": "https://plot.ly"
       },
       "data": [
        {
         "hoverinfo": "text",
         "lat": {
          "bdata": "NV66SQwSSkAQWDm0yHZKQGIQWDm0KEpA30+Nl25SSkAZBFYOLbJKQM3MzMzMDEpAbef7qfFySkC0yHa+nzpKQOkmMQisnEpARIts5/tZSkC6SQwCKwdKQAAAAAAAYEpAAAAAAACQSkBQjZduEiNKQH9qvHSTuElAsHJoke2cSUC28/3UeLlJQEJg5dAi+0lAXI/C9Sj8SUCcxCCwcshJQH0/NV66uUlAMQisHFrUSUDTTWIQWJlJQIcW2c73c0lA",
          "dtype": "f8"
         },
         "lon": {
          "bdata": "c2iR7Xy/EUA5tMh2vh8TQClcj8L1KBNA0SLb+X7qE0D8qfHSTWIVQLgehetRuBRA8KfGSzeJFUAUrkfhehQWQDVeukkMAhdAWmQ730+NF0DLoUW2830XQLKd76fGSxpA16NwPQpXGkCq8dJNYpAbQPhT46WbxAxAF9nO91PjDkCR7Xw/NV4RQH0/NV66yRFATmIQWDm0E0BYObTIdr4TQDVeukkMghVAhxbZzvfTFkBaZDvfTw0XQD81XrpJDBdA",
          "dtype": "f8"
         },
         "marker": {
          "color": "blue",
          "size": 10
         },
         "mode": "markers",
         "name": "Weather Stations",
         "text": [
          "Voorschoten",
          "De Kooy",
          "Schiphol",
          "Berkhout",
          "Hoorn Terschelling",
          "De Bilt",
          "Stavoren",
          "Lelystad",
          "Leeuwarden",
          "Marknesse",
          "Deelen",
          "Hoogeveen",
          "Eelde",
          "Twenthe",
          "Vlissingen",
          "Westdorpe",
          "Woensdrecht",
          "Rotterdam",
          "Cabauw Mast",
          "Gilze-Rijen",
          "Eindhoven",
          "Volkel",
          "Ell",
          "Maastricht"
         ],
         "type": "scattermapbox"
        },
        {
         "hoverinfo": "text",
         "lat": {
          "bdata": "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",
          "dtype": "f8"
         },
         "lon": {
          "bdata": "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",
          "dtype": "f8"
         },
         "marker": {
          "color": "red",
          "size": 5
         },
         "mode": "markers",
         "name": "Train Stations",
         "text": [
          "'s-Hertogenbosch",
          "'s-Hertogenbosch Oost",
          "'t Harde",
          "Aachen Hbf",
          "Aachen West",
          "Aalten",
          "Abcoude",
          "Ahaus",
          "Aime-la-Plagne",
          "Airport Charles de Gaulle",
          "Aix-en-Provence TGV",
          "Akkrum",
          "Albertville",
          "Alkmaar",
          "Alkmaar Noord",
          "Almelo",
          "Almelo de Riet",
          "Almere Buiten",
          "Almere Centrum",
          "Almere Muziekwijk",
          "Almere Oostvaarders",
          "Almere Parkwijk",
          "Almere Poort",
          "Alphen a/d Rijn",
          "Altenberge",
          "Amersfoort Centraal",
          "Amersfoort Schothorst",
          "Amersfoort Vathorst",
          "Amsterdam Amstel",
          "Amsterdam Bijlmer ArenA",
          "Amsterdam Centraal",
          "Amsterdam Holendrecht",
          "Amsterdam Lelylaan",
          "Amsterdam Muiderpoort",
          "Amsterdam RAI",
          "Amsterdam Science Park",
          "Amsterdam Sloterdijk",
          "Amsterdam Zuid",
          "Amstetten NÖ",
          "Anna Paulowna",
          "Antwerpen-Berchem",
          "Antwerpen-Centraal",
          "Antwerpen-Luchtbal",
          "Antwerpen-Noorderdokken",
          "Antwerpen-Zuid",
          "Apeldoorn",
          "Apeldoorn De Maten",
          "Apeldoorn Osseveld",
          "Appingedam",
          "Arkel",
          "Arnemuiden",
          "Arnhem Centraal",
          "Arnhem Presikhaaf",
          "Arnhem Velperpoort",
          "Arnhem Zuid",
          "Assen",
          "Augsburg Hbf",
          "Avignon TGV",
          "Baarn",
          "Bad Bentheim",
          "Bad Nieuweschans",
          "Bad Oeynhausen",
          "Baden (CH)",
          "Baflo",
          "Barendrecht",
          "Barneveld Centrum",
          "Barneveld Noord",
          "Barneveld Zuid",
          "Basel Bad Bf",
          "Basel SBB",
          "Bedum",
          "Beek-Elsloo",
          "Beesd",
          "Beilen",
          "Belsele",
          "Bergen op Zoom",
          "Berlin Gesundbrunnen",
          "Berlin Hbf",
          "Berlin Ostbahnhof",
          "Berlin-Spandau",
          "Best",
          "Beveren",
          "Beverwijk",
          "Bielefeld Hbf",
          "Bilthoven",
          "Bilzen",
          "Blerick",
          "Bloemendaal",
          "Bodegraven",
          "Boisheim",
          "Bologna Centrale",
          "Bönen",
          "Bonn Hbf",
          "Bonn-Beuel",
          "Boom",
          "Bork (Westf)",
          "Borne",
          "Boskoop",
          "Boskoop Snijdelwijk",
          "Bourg-St-Maurice",
          "Boven-Hardinxveld",
          "Bovenkarspel Flora",
          "Bovenkarspel-Grootebroek",
          "Boxmeer",
          "Boxtel",
          "Breda",
          "Breda-Prinsenbeek",
          "Bressoux",
          "Breukelen",
          "Breyell",
          "Brummen",
          "Brussel-Centraal",
          "Brussel-Noord",
          "Brussel-Zuid Midi",
          "Brussels Airport-Zaventem",
          "Buitenpost",
          "Bunde",
          "Bünde (Westf)",
          "Bunnik",
          "Bussum Zuid",
          "Capelle Schollevaar",
          "Castricum",
          "Chambéry",
          "Chevremont",
          "Coesfeld (Westf)",
          "Coevorden",
          "Como S. Giovanni",
          "Cuijk",
          "Culemborg",
          "Daarlerveen",
          "Dalen",
          "Dalfsen",
          "De Vink",
          "De Westereen",
          "Deinum",
          "Delden",
          "Delft",
          "Delft Campus",
          "Delfzijl",
          "Delfzijl West",
          "Den Dolder",
          "Den Haag Centraal",
          "Den Haag HS",
          "Den Haag Laan v NOI",
          "Den Haag Mariahoeve",
          "Den Haag Moerwijk",
          "Den Haag Ypenburg",
          "Den Helder",
          "Den Helder Zuid",
          "Deurne",
          "Deventer",
          "Deventer Colmschate",
          "Didam",
          "Diemen",
          "Diemen Zuid",
          "Diepenbeek",
          "Dieren",
          "Doetinchem",
          "Doetinchem De Huet",
          "Dordrecht",
          "Dordrecht Stadspolders",
          "Dordrecht Zuid",
          "Dortmund Derne",
          "Dortmund Hbf",
          "Dortmund Kirchderne",
          "Driebergen-Zeist",
          "Driehuis",
          "Dronryp",
          "Dronten",
          "Duisburg Hbf",
          "Duiven",
          "Duivendrecht",
          "Dülken",
          "Dülmen",
          "Düsseldorf Flughafen",
          "Düsseldorf Hbf",
          "Echt",
          "Ede Centrum",
          "Ede-Wageningen",
          "Eemshaven",
          "Eijsden",
          "Eindhoven Centraal",
          "Eindhoven Strijp-S",
          "Ekeren",
          "Elst",
          "Emmen",
          "Emmen Zuid",
          "Emmerich",
          "Emmerich-Elten",
          "Enkhuizen",
          "Ennepetal",
          "Enschede",
          "Enschede De Eschmarke",
          "Enschede Kennispark",
          "Epe (Westf)",
          "Ermelo",
          "Essen",
          "Etten-Leur",
          "Eygelshoven",
          "Eygelshoven Markt",
          "Feanwâlden",
          "Firenze Campo di Marte",
          "Franeker",
          "Frankfurt (M) Hbf",
          "Frankfurt (Main) Süd",
          "Frankfurt Flughafen Fernb",
          "Freiburg (Breisgau) Hbf",
          "Gaanderen",
          "Geldermalsen",
          "Geldrop",
          "Geleen Oost",
          "Geleen-Lutterade",
          "Gent Sint Pieters",
          "Gilze-Rijen",
          "Glanerbrug",
          "Glons",
          "Goes",
          "Goor",
          "Göppingen",
          "Gorinchem",
          "Göteborg Central",
          "Gouda",
          "Gouda Goverwelle",
          "Gramsbergen",
          "Grijpskerk",
          "Gronau (Westf.)",
          "Groningen",
          "Groningen Europapark",
          "Groningen Noord",
          "Grou-Jirnsum",
          "Günzburg",
          "Haarlem",
          "Haarlem Spaarnwoude",
          "Hagen Hbf",
          "Halfweg-Zwanenburg",
          "Hamm (Westf.)",
          "Hannover Hbf",
          "Hardenberg",
          "Harderwijk",
          "Hardinxveld Blauwe Zoom",
          "Hardinxveld-Giessendam",
          "Haren",
          "Harlingen",
          "Harlingen Haven",
          "Hasselt",
          "Heemskerk",
          "Heemstede-Aerdenhout",
          "Heerenveen",
          "Heerenveen IJsstadion",
          "Heerhugowaard",
          "Heerlen",
          "Heerlen Woonboulevard",
          "Heeze",
          "Heide (B)",
          "Heiloo",
          "Heino",
          "Helmond",
          "Helmond 't Hout",
          "Helmond Brandevoort",
          "Helmond Brouwhuis",
          "Hemiksem",
          "Hemmen-Dodewaard",
          "Hengelo",
          "Hengelo Gezondheidspark",
          "Hengelo Oost",
          "Herstal",
          "Herzogenrath",
          "Hillegom",
          "Hilversum",
          "Hilversum Media Park",
          "Hilversum Sportpark",
          "Hindeloopen",
          "Hoboken-Polder",
          "Hoensbroek",
          "Hoevelaken",
          "Hollandsche Rading",
          "Holten",
          "Holzwickede",
          "Hoofddorp",
          "Hoogeveen",
          "Hoogezand-Sappemeer",
          "Hoogkarspel",
          "Hoorn",
          "Hoorn Kersenboogerd",
          "Hopfgarten",
          "Horst-Sevenum",
          "Houten",
          "Houten Castellum",
          "Houthem-St. Gerlach",
          "Hurdegaryp",
          "IJlst",
          "Innsbruck Hbf",
          "Jenbach",
          "Kaldenkirchen",
          "Kalmthout",
          "Kampen",
          "Kampen Zuid",
          "Kapelle-Biezelinge",
          "Kapellen",
          "Karlsruhe Hbf",
          "Kerkrade Centrum",
          "Kesteren",
          "Kijkuit",
          "Klarenbeek",
          "Klimmen-Ransdaal",
          "Koblenz Hbf",
          "Köln Hbf",
          "Köln Messe/Deutz",
          "Köln West",
          "Köln-Ehrenfeld",
          "Köln-Mülheim",
          "Koog aan de Zaan",
          "Koudum-Molkwerum",
          "Københavns Lufthavn St",
          "Krabbendijke",
          "Krommenie-Assendelft",
          "Kropswolde",
          "Kruiningen-Yerseke",
          "Kufstein",
          "Lage Zwaluwe",
          "Landgraaf",
          "Landry",
          "Lansingerland-Zoetermeer",
          "Leer (Ostfriesl)",
          "Leerdam",
          "Leeuwarden",
          "Leeuwarden Camminghaburen",
          "Legden",
          "Leiden Centraal",
          "Leiden Lammenschans",
          "Lelystad Centrum",
          "Lette (Kr Coesfeld)",
          "Leuven",
          "Lichtenvoorde-Groenlo",
          "Liège-Carré",
          "Liège-Guillemins",
          "Liège-Saint-Lambert",
          "Liers",
          "Lille Europe",
          "Limburg Süd",
          "Linz Hbf",
          "Lochem",
          "Lokeren",
          "London St. Pancras Int.",
          "Loppersum",
          "Lüdinghausen",
          "Lünen Hbf",
          "Lunteren",
          "Maarheeze",
          "Maarn",
          "Maarssen",
          "Maastricht",
          "Maastricht Noord",
          "Maastricht Randwyck",
          "Mainz Hbf",
          "Malmö Central",
          "Mannheim Hbf",
          "Mantgum",
          "Mariënberg",
          "Marne-la-Vallée-Chessy",
          "Marseille-St-Charles",
          "Martenshoek",
          "Mechelen",
          "Meerssen",
          "Melsele",
          "Meppel",
          "Metelen Land",
          "Middelburg",
          "Milano Porta Garibaldi",
          "Milmort",
          "Minden (Westf)",
          "Mönchengladbach Hbf",
          "Mook-Molenhoek",
          "Moutiers-Salins-Brides",
          "München Hbf",
          "München Ost",
          "Münster (W) Zentrum Nord",
          "Münster (Westf) Hbf",
          "Münster-Häger",
          "Naarden-Bussum",
          "Neuss Hbf",
          "Niel",
          "Nieuw Amsterdam",
          "Nieuw Vennep",
          "Nieuwerkerk a/d IJssel",
          "Nieuwkerken-Waas",
          "Nijkerk",
          "Nijmegen",
          "Nijmegen Dukenburg",
          "Nijmegen Goffert",
          "Nijmegen Heyendaal",
          "Nijmegen Lent",
          "Nijverdal",
          "Noorderkempen",
          "Nordwalde",
          "Nunspeet",
          "Nürnberg Hbf",
          "Nuth",
          "Obdam",
          "Oberhausen Hbf",
          "Oberhausen-Sterkrade",
          "Ochtrup",
          "Offenburg",
          "Oisterwijk",
          "Oldenzaal",
          "Olst",
          "Ommen",
          "Oosterbeek",
          "Opheusden",
          "Osnabrück Hbf",
          "Oss",
          "Oss West",
          "Oudenbosch",
          "Overveen",
          "Paris-Nord",
          "Passau Hbf",
          "Plochingen",
          "Praest",
          "Preussen",
          "Purmerend",
          "Purmerend Overwhere",
          "Purmerend Weidevenne",
          "Putten",
          "Puurs",
          "Raalte",
          "Ravenstein",
          "Regensburg Hbf",
          "Reuver",
          "Rheden",
          "Rheine",
          "Rhenen",
          "Rijssen",
          "Rijswijk",
          "Rilland-Bath",
          "Roermond",
          "Roodeschool",
          "Roosendaal",
          "Rosendahl-Holtwick",
          "Rosenheim",
          "Rosmalen",
          "Rotterdam Alexander",
          "Rotterdam Blaak",
          "Rotterdam Centraal",
          "Rotterdam Lombardijen",
          "Rotterdam Noord",
          "Rotterdam Stadion",
          "Rotterdam Zuid",
          "Ruisbroek-Sauvegarde",
          "Ruurlo",
          "Salzburg Hbf",
          "Santpoort Noord",
          "Santpoort Zuid",
          "Sassenheim",
          "Sauwerd",
          "Schagen",
          "Scheemda",
          "Schelle",
          "Schiedam Centrum",
          "Schin op Geul",
          "Schinnen",
          "Schiphol Airport",
          "Schwelm",
          "Schwerte (Ruhr)",
          "Selm",
          "Selm-Beifang",
          "Siegburg/Bonn",
          "Sinaai",
          "Sint-Mariaburg",
          "Sint-Niklaas",
          "Sittard",
          "Sliedrecht",
          "Sliedrecht Baanhoek",
          "Sneek",
          "Sneek Noord",
          "Soest",
          "Soest Zuid",
          "Soestdijk",
          "Spaubeek",
          "St.Pölten Hbf",
          "Stavoren",
          "Stedum",
          "Steenwijk",
          "Steinfurt-Borghorst",
          "Steinfurt-Burgsteinfurt",
          "Steinfurt-Grottenkamp",
          "Stendal",
          "Stuttgart Hbf",
          "Susteren",
          "Swalmen",
          "Tegelen",
          "Terborg",
          "Tiel",
          "Tiel Passewaaij",
          "Tilburg",
          "Tilburg Reeshof",
          "Tilburg Universiteit",
          "Tongeren",
          "Troisdorf",
          "Twello",
          "Uitgeest",
          "Uithuizen",
          "Uithuizermeeden",
          "Ulm Hbf",
          "Unna",
          "Usquert",
          "Utrecht Centraal",
          "Utrecht Leidsche Rijn",
          "Utrecht Lunetten",
          "Utrecht Maliebaan",
          "Utrecht Overvecht",
          "Utrecht Terwijde",
          "Utrecht Vaartsche Rijn",
          "Utrecht Zuilen",
          "Valence TGV",
          "Valkenburg",
          "Varsseveld",
          "Veendam",
          "Veenendaal Centrum",
          "Veenendaal West",
          "Veenendaal-De Klomp",
          "Velp",
          "Venezia Santa Lucia",
          "Venlo",
          "Venray",
          "Vierlingsbeek",
          "Viersen",
          "Visé",
          "Vleuten",
          "Vlissingen",
          "Vlissingen Souburg",
          "Voerendaal",
          "Voorburg",
          "Voorhout",
          "Voorschoten",
          "Voorst-Empe",
          "Vorden",
          "Vriezenveen",
          "Vroomshoop",
          "Vught",
          "Waddinxveen",
          "Waddinxveen Noord",
          "Waddinxveen Triangel",
          "Warffum",
          "Weener",
          "Weert",
          "Weesp",
          "Wehl",
          "Wels Hbf",
          "Wesel",
          "Westervoort",
          "Wezep",
          "Wien Hbf",
          "Wien Hütteldorf",
          "Wierden",
          "Wijchen",
          "Wijhe",
          "Wildert",
          "Winschoten",
          "Winsum",
          "Winterswijk",
          "Winterswijk West",
          "Woerden",
          "Wolfheze",
          "Wolfsburg Hbf",
          "Wolvega",
          "Wörgl",
          "Workum",
          "Wormerveer",
          "Wuppertal Hbf",
          "Wuppertal-Barmen",
          "Wuppertal-Oberbarmen",
          "Wuppertal-Vohwinkel",
          "Würzburg Hbf",
          "Zaandam",
          "Zaandam Kogerveld",
          "Zaandijk Zaanse Schans",
          "Zaltbommel",
          "Zandvoort aan Zee",
          "Zetten-Andelst",
          "Zevenaar",
          "Zevenbergen",
          "Zoetermeer",
          "Zoetermeer Oost",
          "Zuidbroek",
          "Zuidhorn",
          "Zürich HB",
          "Zutphen",
          "Zwijndrecht",
          "Zwijndrecht (B)",
          "Zwolle",
          "Zwolle Stadshagen"
         ],
         "type": "scattermapbox"
        }
       ],
       "layout": {
        "legend": {
         "x": 0.01,
         "xanchor": "left",
         "y": 0.99,
         "yanchor": "top"
        },
        "mapbox": {
         "center": {
          "lat": 52.3,
          "lon": 5.5
         },
         "style": "open-street-map",
         "zoom": 7
        },
        "margin": {
         "b": 0,
         "l": 0,
         "r": 0,
         "t": 40
        },
        "template": {
         "data": {
          "bar": [
           {
            "error_x": {
             "color": "#2a3f5f"
            },
            "error_y": {
             "color": "#2a3f5f"
            },
            "marker": {
             "line": {
              "color": "#E5ECF6",
              "width": 0.5
             },
             "pattern": {
              "fillmode": "overlay",
              "size": 10,
              "solidity": 0.2
             }
            },
            "type": "bar"
           }
          ],
          "barpolar": [
           {
            "marker": {
             "line": {
              "color": "#E5ECF6",
              "width": 0.5
             },
             "pattern": {
              "fillmode": "overlay",
              "size": 10,
              "solidity": 0.2
             }
            },
            "type": "barpolar"
           }
          ],
          "carpet": [
           {
            "aaxis": {
             "endlinecolor": "#2a3f5f",
             "gridcolor": "white",
             "linecolor": "white",
             "minorgridcolor": "white",
             "startlinecolor": "#2a3f5f"
            },
            "baxis": {
             "endlinecolor": "#2a3f5f",
             "gridcolor": "white",
             "linecolor": "white",
             "minorgridcolor": "white",
             "startlinecolor": "#2a3f5f"
            },
            "type": "carpet"
           }
          ],
          "choropleth": [
           {
            "colorbar": {
             "outlinewidth": 0,
             "ticks": ""
            },
            "type": "choropleth"
           }
          ],
          "contour": [
           {
            "colorbar": {
             "outlinewidth": 0,
             "ticks": ""
            },
            "colorscale": [
             [
              0,
              "#0d0887"
             ],
             [
              0.1111111111111111,
              "#46039f"
             ],
             [
              0.2222222222222222,
              "#7201a8"
             ],
             [
              0.3333333333333333,
              "#9c179e"
             ],
             [
              0.4444444444444444,
              "#bd3786"
             ],
             [
              0.5555555555555556,
              "#d8576b"
             ],
             [
              0.6666666666666666,
              "#ed7953"
             ],
             [
              0.7777777777777778,
              "#fb9f3a"
             ],
             [
              0.8888888888888888,
              "#fdca26"
             ],
             [
              1,
              "#f0f921"
             ]
            ],
            "type": "contour"
           }
          ],
          "contourcarpet": [
           {
            "colorbar": {
             "outlinewidth": 0,
             "ticks": ""
            },
            "type": "contourcarpet"
           }
          ],
          "heatmap": [
           {
            "colorbar": {
             "outlinewidth": 0,
             "ticks": ""
            },
            "colorscale": [
             [
              0,
              "#0d0887"
             ],
             [
              0.1111111111111111,
              "#46039f"
             ],
             [
              0.2222222222222222,
              "#7201a8"
             ],
             [
              0.3333333333333333,
              "#9c179e"
             ],
             [
              0.4444444444444444,
              "#bd3786"
             ],
             [
              0.5555555555555556,
              "#d8576b"
             ],
             [
              0.6666666666666666,
              "#ed7953"
             ],
             [
              0.7777777777777778,
              "#fb9f3a"
             ],
             [
              0.8888888888888888,
              "#fdca26"
             ],
             [
              1,
              "#f0f921"
             ]
            ],
            "type": "heatmap"
           }
          ],
          "histogram": [
           {
            "marker": {
             "pattern": {
              "fillmode": "overlay",
              "size": 10,
              "solidity": 0.2
             }
            },
            "type": "histogram"
           }
          ],
          "histogram2d": [
           {
            "colorbar": {
             "outlinewidth": 0,
             "ticks": ""
            },
            "colorscale": [
             [
              0,
              "#0d0887"
             ],
             [
              0.1111111111111111,
              "#46039f"
             ],
             [
              0.2222222222222222,
              "#7201a8"
             ],
             [
              0.3333333333333333,
              "#9c179e"
             ],
             [
              0.4444444444444444,
              "#bd3786"
             ],
             [
              0.5555555555555556,
              "#d8576b"
             ],
             [
              0.6666666666666666,
              "#ed7953"
             ],
             [
              0.7777777777777778,
              "#fb9f3a"
             ],
             [
              0.8888888888888888,
              "#fdca26"
             ],
             [
              1,
              "#f0f921"
             ]
            ],
            "type": "histogram2d"
           }
          ],
          "histogram2dcontour": [
           {
            "colorbar": {
             "outlinewidth": 0,
             "ticks": ""
            },
            "colorscale": [
             [
              0,
              "#0d0887"
             ],
             [
              0.1111111111111111,
              "#46039f"
             ],
             [
              0.2222222222222222,
              "#7201a8"
             ],
             [
              0.3333333333333333,
              "#9c179e"
             ],
             [
              0.4444444444444444,
              "#bd3786"
             ],
             [
              0.5555555555555556,
              "#d8576b"
             ],
             [
              0.6666666666666666,
              "#ed7953"
             ],
             [
              0.7777777777777778,
              "#fb9f3a"
             ],
             [
              0.8888888888888888,
              "#fdca26"
             ],
             [
              1,
              "#f0f921"
             ]
            ],
            "type": "histogram2dcontour"
           }
          ],
          "mesh3d": [
           {
            "colorbar": {
             "outlinewidth": 0,
             "ticks": ""
            },
            "type": "mesh3d"
           }
          ],
          "parcoords": [
           {
            "line": {
             "colorbar": {
              "outlinewidth": 0,
              "ticks": ""
             }
            },
            "type": "parcoords"
           }
          ],
          "pie": [
           {
            "automargin": true,
            "type": "pie"
           }
          ],
          "scatter": [
           {
            "fillpattern": {
             "fillmode": "overlay",
             "size": 10,
             "solidity": 0.2
            },
            "type": "scatter"
           }
          ],
          "scatter3d": [
           {
            "line": {
             "colorbar": {
              "outlinewidth": 0,
              "ticks": ""
             }
            },
            "marker": {
             "colorbar": {
              "outlinewidth": 0,
              "ticks": ""
             }
            },
            "type": "scatter3d"
           }
          ],
          "scattercarpet": [
           {
            "marker": {
             "colorbar": {
              "outlinewidth": 0,
              "ticks": ""
             }
            },
            "type": "scattercarpet"
           }
          ],
          "scattergeo": [
           {
            "marker": {
             "colorbar": {
              "outlinewidth": 0,
              "ticks": ""
             }
            },
            "type": "scattergeo"
           }
          ],
          "scattergl": [
           {
            "marker": {
             "colorbar": {
              "outlinewidth": 0,
              "ticks": ""
             }
            },
            "type": "scattergl"
           }
          ],
          "scattermap": [
           {
            "marker": {
             "colorbar": {
              "outlinewidth": 0,
              "ticks": ""
             }
            },
            "type": "scattermap"
           }
          ],
          "scattermapbox": [
           {
            "marker": {
             "colorbar": {
              "outlinewidth": 0,
              "ticks": ""
             }
            },
            "type": "scattermapbox"
           }
          ],
          "scatterpolar": [
           {
            "marker": {
             "colorbar": {
              "outlinewidth": 0,
              "ticks": ""
             }
            },
            "type": "scatterpolar"
           }
          ],
          "scatterpolargl": [
           {
            "marker": {
             "colorbar": {
              "outlinewidth": 0,
              "ticks": ""
             }
            },
            "type": "scatterpolargl"
           }
          ],
          "scatterternary": [
           {
            "marker": {
             "colorbar": {
              "outlinewidth": 0,
              "ticks": ""
             }
            },
            "type": "scatterternary"
           }
          ],
          "surface": [
           {
            "colorbar": {
             "outlinewidth": 0,
             "ticks": ""
            },
            "colorscale": [
             [
              0,
              "#0d0887"
             ],
             [
              0.1111111111111111,
              "#46039f"
             ],
             [
              0.2222222222222222,
              "#7201a8"
             ],
             [
              0.3333333333333333,
              "#9c179e"
             ],
             [
              0.4444444444444444,
              "#bd3786"
             ],
             [
              0.5555555555555556,
              "#d8576b"
             ],
             [
              0.6666666666666666,
              "#ed7953"
             ],
             [
              0.7777777777777778,
              "#fb9f3a"
             ],
             [
              0.8888888888888888,
              "#fdca26"
             ],
             [
              1,
              "#f0f921"
             ]
            ],
            "type": "surface"
           }
          ],
          "table": [
           {
            "cells": {
             "fill": {
              "color": "#EBF0F8"
             },
             "line": {
              "color": "white"
             }
            },
            "header": {
             "fill": {
              "color": "#C8D4E3"
             },
             "line": {
              "color": "white"
             }
            },
            "type": "table"
           }
          ]
         },
         "layout": {
          "annotationdefaults": {
           "arrowcolor": "#2a3f5f",
           "arrowhead": 0,
           "arrowwidth": 1
          },
          "autotypenumbers": "strict",
          "coloraxis": {
           "colorbar": {
            "outlinewidth": 0,
            "ticks": ""
           }
          },
          "colorscale": {
           "diverging": [
            [
             0,
             "#8e0152"
            ],
            [
             0.1,
             "#c51b7d"
            ],
            [
             0.2,
             "#de77ae"
            ],
            [
             0.3,
             "#f1b6da"
            ],
            [
             0.4,
             "#fde0ef"
            ],
            [
             0.5,
             "#f7f7f7"
            ],
            [
             0.6,
             "#e6f5d0"
            ],
            [
             0.7,
             "#b8e186"
            ],
            [
             0.8,
             "#7fbc41"
            ],
            [
             0.9,
             "#4d9221"
            ],
            [
             1,
             "#276419"
            ]
           ],
           "sequential": [
            [
             0,
             "#0d0887"
            ],
            [
             0.1111111111111111,
             "#46039f"
            ],
            [
             0.2222222222222222,
             "#7201a8"
            ],
            [
             0.3333333333333333,
             "#9c179e"
            ],
            [
             0.4444444444444444,
             "#bd3786"
            ],
            [
             0.5555555555555556,
             "#d8576b"
            ],
            [
             0.6666666666666666,
             "#ed7953"
            ],
            [
             0.7777777777777778,
             "#fb9f3a"
            ],
            [
             0.8888888888888888,
             "#fdca26"
            ],
            [
             1,
             "#f0f921"
            ]
           ],
           "sequentialminus": [
            [
             0,
             "#0d0887"
            ],
            [
             0.1111111111111111,
             "#46039f"
            ],
            [
             0.2222222222222222,
             "#7201a8"
            ],
            [
             0.3333333333333333,
             "#9c179e"
            ],
            [
             0.4444444444444444,
             "#bd3786"
            ],
            [
             0.5555555555555556,
             "#d8576b"
            ],
            [
             0.6666666666666666,
             "#ed7953"
            ],
            [
             0.7777777777777778,
             "#fb9f3a"
            ],
            [
             0.8888888888888888,
             "#fdca26"
            ],
            [
             1,
             "#f0f921"
            ]
           ]
          },
          "colorway": [
           "#636efa",
           "#EF553B",
           "#00cc96",
           "#ab63fa",
           "#FFA15A",
           "#19d3f3",
           "#FF6692",
           "#B6E880",
           "#FF97FF",
           "#FECB52"
          ],
          "font": {
           "color": "#2a3f5f"
          },
          "geo": {
           "bgcolor": "white",
           "lakecolor": "white",
           "landcolor": "#E5ECF6",
           "showlakes": true,
           "showland": true,
           "subunitcolor": "white"
          },
          "hoverlabel": {
           "align": "left"
          },
          "hovermode": "closest",
          "mapbox": {
           "style": "light"
          },
          "paper_bgcolor": "white",
          "plot_bgcolor": "#E5ECF6",
          "polar": {
           "angularaxis": {
            "gridcolor": "white",
            "linecolor": "white",
            "ticks": ""
           },
           "bgcolor": "#E5ECF6",
           "radialaxis": {
            "gridcolor": "white",
            "linecolor": "white",
            "ticks": ""
           }
          },
          "scene": {
           "xaxis": {
            "backgroundcolor": "#E5ECF6",
            "gridcolor": "white",
            "gridwidth": 2,
            "linecolor": "white",
            "showbackground": true,
            "ticks": "",
            "zerolinecolor": "white"
           },
           "yaxis": {
            "backgroundcolor": "#E5ECF6",
            "gridcolor": "white",
            "gridwidth": 2,
            "linecolor": "white",
            "showbackground": true,
            "ticks": "",
            "zerolinecolor": "white"
           },
           "zaxis": {
            "backgroundcolor": "#E5ECF6",
            "gridcolor": "white",
            "gridwidth": 2,
            "linecolor": "white",
            "showbackground": true,
            "ticks": "",
            "zerolinecolor": "white"
           }
          },
          "shapedefaults": {
           "line": {
            "color": "#2a3f5f"
           }
          },
          "ternary": {
           "aaxis": {
            "gridcolor": "white",
            "linecolor": "white",
            "ticks": ""
           },
           "baxis": {
            "gridcolor": "white",
            "linecolor": "white",
            "ticks": ""
           },
           "bgcolor": "#E5ECF6",
           "caxis": {
            "gridcolor": "white",
            "linecolor": "white",
            "ticks": ""
           }
          },
          "title": {
           "x": 0.05
          },
          "xaxis": {
           "automargin": true,
           "gridcolor": "white",
           "linecolor": "white",
           "ticks": "",
           "title": {
            "standoff": 15
           },
           "zerolinecolor": "white",
           "zerolinewidth": 2
          },
          "yaxis": {
           "automargin": true,
           "gridcolor": "white",
           "linecolor": "white",
           "ticks": "",
           "title": {
            "standoff": 15
           },
           "zerolinecolor": "white",
           "zerolinewidth": 2
          }
         }
        },
        "title": {
         "text": "Weather and Train Stations in the Netherlands"
        }
       }
      }
     },
     "metadata": {},
     "output_type": "display_data"
    }
   ],
   "source": [
    "%run plot_train_stations.py"
   ]
  }
 ],
 "metadata": {
  "kernelspec": {
   "display_name": "TIL6022-25",
   "language": "python",
   "name": "python3"
  },
  "language_info": {
   "codemirror_mode": {
    "name": "ipython",
    "version": 3
   },
   "file_extension": ".py",
   "mimetype": "text/x-python",
   "name": "python",
   "nbconvert_exporter": "python",
   "pygments_lexer": "ipython3",
   "version": "3.12.3"
  },
  "orig_nbformat": 4
 },
 "nbformat": 4,
 "nbformat_minor": 2
}
