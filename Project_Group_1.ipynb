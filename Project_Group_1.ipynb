{
 "cells": [
  {
   "cell_type": "markdown",
   "metadata": {},
   "source": [
    "# Project Group - \n",
    "\n",
    "Members: Jarrik Algera, Lorenzo Bouman, Jasper IJsselstein, Joep Neelissen, Tjerk Rijkens\n",
    "\n",
    "\n",
    "Student numbers: test"
   ]
  },
  {
   "cell_type": "markdown",
   "metadata": {},
   "source": [
    "# Research Objective\n",
    "\n",
    "*Requires data modeling and quantitative research in Transport, Infrastructure & Logistics*"
   ]
  },
  {
   "cell_type": "markdown",
   "metadata": {},
   "source": [
    "The objective of this project is to examine the relationship between weather conditions and train disruptions in the Netherlands. Railway disruption records are combined with meteorological data to quantify the extent to which factors such as precipitation, wind, and temperature are associated with delays and service interruptions. The analysis aims to establish whether specific weather conditions systematically affect railway performance and to what degree. The geographical scale is limited to the Netherlands, and after initial data cleaning and exploratory analyis a specific corridor is chosen. The temporal scale is 2024. \n",
    "\n",
    "## Main question\n",
    "\n",
    "#### *To what extent do weather conditions influence train disruptions in the Netherlands?*\n",
    "\n",
    "### Sub-questions\n",
    "\n",
    "*Are disruptions more frequent on days with adverse weather compared to days with mild weather?*\n",
    "\n",
    "\n",
    "*Do disruption durations increase under heavy precipitation, strong wind, or temperature extremes?*\n",
    "\n",
    "\n",
    "*Which weather variable shows the strongest association with disruption frequency?*\n",
    "\n",
    "\n",
    "*Are there seasonal differences in how weather affects train disruptions?*\n",
    "\n",
    "\n",
    "*Are there regional variations in the relationship between weather and disruptions?*"
   ]
  },
  {
   "cell_type": "markdown",
   "metadata": {},
   "source": [
    "# Contribution Statement\n",
    "\n",
    "*Be specific. Some of the tasks can be coding (expect everyone to do this), background research, conceptualisation, visualisation, data analysis, data modelling*"
   ]
  },
  {
   "cell_type": "markdown",
   "metadata": {},
   "source": [
    "**Author 1**: N/A\n",
    "\n",
    "**Author 2**: N/A\n",
    "\n",
    "**Author 3**: N/A"
   ]
  },
  {
   "cell_type": "markdown",
   "metadata": {},
   "source": [
    "# Data Used"
   ]
  },
  {
   "cell_type": "markdown",
   "metadata": {},
   "source": [
    "## Datasets\n",
    "\n",
    "Two primary datasets are available for this study. The first dataset contains records of train disruptions in the Netherlands between 2011 and 2024. Each record provides details on the type of disruption (for example staffing problems or a signal failure), its duration, the time of occurrence, and the affected trajectory (for example Eindhoven - Venlo, Nijmegen - Venlo). This dataset represents the dependent variable, as it directly reflects railway system performance. The dataset is obtained from Rijden de Treinen (https://www.rijdendetreinen.nl/open-data/treinstoringen#downloads). It is important to realize that not every train that is delayed or cancelled is communicated by NS as a disruption; the rule of thumb that NS uses is that a disruption is communicated when multiple trains are delayed or cancelled (i.e. a major impact of the train service). The dataset is provided as a .csv file.\n",
    "\n",
    "The second dataset is derived from the Royal Netherlands Meteorological Institute (KNMI) (https://www.daggegevens.knmi.nl/klimatologie/uurgegevens) and provides hourly weather observations. It includes variables such as precipitation intensity, temperature, and wind speed and direction. Not every weather station measures all these variables. Therefore, it is necessary to make a selection of usable stations. These variables serve as independent factors to explain variation in railway disruptions."
   ]
  },
  {
   "cell_type": "markdown",
   "metadata": {},
   "source": [
    "# Data Pipeline"
   ]
  },
  {
   "cell_type": "markdown",
   "metadata": {},
   "source": [
    "## Intended Data Analysis Pipeline\n",
    "\n",
    "### The planned analysis will follow several stages:\n",
    "\n",
    "The planned analysis will follow several stages:\n",
    "\n",
    "##### 1. Data cleaning and preparation\n",
    "- Align disruption data with corresponding weather observations based on time and location. Thus should be executed on an hourly basis for proper comparison. \n",
    "- Filter data to dataframe of weather data in 2024. \n",
    "- Base data from weather stations on chosen train trajectory. \n",
    "- Filter through weather stations to exclude stations without rain and temperature measurements.\n",
    "- Choose appropriate parameters related to the weather data to use in analysis\n",
    "\n",
    "\n",
    "##### 2. Exploratory analysis\n",
    "- Compute descriptive statistics for disruption frequency and duration.\n",
    "- Visualize weather variables alongside disruptions to detect initial patterns.\n",
    "\n",
    "##### 3. Correlation analysis\n",
    "- Assess associations between weather conditions and disruption frequency or duration.\n",
    "\n",
    "##### 4. Modeling\n",
    "- Apply regression models to estimate the effect of precipitation, wind, and temperature on disruption likelihood and duration.\n",
    "- Investigate seasonal and regional variation in the relationship between weather and disruptions.\n",
    "\n",
    "##### 5. Evaluation and visualization\n",
    "- Present results using time series plots, scatterplots, and heatmaps, alongside statistical measures.\n"
   ]
  },
  {
   "cell_type": "code",
   "execution_count": null,
   "metadata": {},
   "outputs": [],
   "source": [
    "import load_weather_data\n",
    "%run plot_stations.py"
   ]
  },
  {
   "cell_type": "code",
   "execution_count": null,
   "metadata": {},
   "outputs": [
    {
     "ename": "ModuleNotFoundError",
     "evalue": "No module named 'geopandas'",
     "output_type": "error",
     "traceback": [
      "\u001b[31m---------------------------------------------------------------------------\u001b[39m",
      "\u001b[31mModuleNotFoundError\u001b[39m                       Traceback (most recent call last)",
      "\u001b[36mFile \u001b[39m\u001b[32m~\\OneDrive\\Documenten\\studie\\TUDelft\\MSc\\Y2Q1\\TIL6022\\Assignment\\TIL-groepje-1\\plot_stations.py:1\u001b[39m\n\u001b[32m----> \u001b[39m\u001b[32m1\u001b[39m \u001b[38;5;28;01mimport\u001b[39;00m\u001b[38;5;250m \u001b[39m\u001b[34;01mgeopandas\u001b[39;00m\n\u001b[32m      2\u001b[39m \u001b[38;5;28;01mimport\u001b[39;00m\u001b[38;5;250m \u001b[39m\u001b[34;01mmatplotlib\u001b[39;00m\u001b[34;01m.\u001b[39;00m\u001b[34;01mpyplot\u001b[39;00m\u001b[38;5;250m \u001b[39m\u001b[38;5;28;01mas\u001b[39;00m\u001b[38;5;250m \u001b[39m\u001b[34;01mplt\u001b[39;00m\n\u001b[32m      3\u001b[39m \u001b[38;5;28;01mimport\u001b[39;00m\u001b[38;5;250m \u001b[39m\u001b[34;01mcontextily\u001b[39;00m\u001b[38;5;250m \u001b[39m\u001b[38;5;28;01mas\u001b[39;00m\u001b[38;5;250m \u001b[39m\u001b[34;01mctx\u001b[39;00m\n",
      "\u001b[31mModuleNotFoundError\u001b[39m: No module named 'geopandas'"
     ]
    }
   ],
   "source": []
  },
  {
   "cell_type": "code",
   "execution_count": null,
   "metadata": {},
   "outputs": [],
   "source": []
  }
 ],
 "metadata": {
  "kernelspec": {
   "display_name": "TIL6022-25",
   "language": "python",
   "name": "python3"
  },
  "language_info": {
   "codemirror_mode": {
    "name": "ipython",
    "version": 3
   },
   "file_extension": ".py",
   "mimetype": "text/x-python",
   "name": "python",
   "nbconvert_exporter": "python",
   "pygments_lexer": "ipython3",
   "version": "3.12.11"
  },
  "orig_nbformat": 4
 },
 "nbformat": 4,
 "nbformat_minor": 2
}
